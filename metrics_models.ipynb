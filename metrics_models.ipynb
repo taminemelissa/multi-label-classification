{
 "cells": [
  {
   "cell_type": "code",
   "execution_count": 39,
   "metadata": {
    "id": "t3-igmovF8e0"
   },
   "outputs": [],
   "source": [
    "import numpy as np\n",
    "import pandas as pd\n",
    "from math import *\n",
    "import matplotlib.pyplot as plt\n",
    "import scipy\n",
    "import seaborn as sns\n",
    "import sklearn.preprocessing"
   ]
  },
  {
   "cell_type": "code",
   "execution_count": 63,
   "metadata": {},
   "outputs": [],
   "source": [
    "from sklearn.metrics import precision_score\n",
    "from sklearn.metrics import accuracy_score\n",
    "from sklearn.metrics import recall_score\n",
    "from sklearn.metrics import hamming_loss"
   ]
  },
  {
   "cell_type": "markdown",
   "metadata": {},
   "source": [
    "## RAPPEL MÉTRIQUES\n",
    "--> elles se décomposent en **micro**, **macro** et **weighted** en général\n",
    "- micro en général pour la généralisation de la classification binaire à la multi-labels\n",
    "- macro comme une moyenne de la métrique sur chacun des labels (les labels sont donc supposés équitablement répartis dans l'échantillon) \n",
    "- weighted: on fait une moyenne pondérée de la métrique où balance par le poids ie la fréquence d'apparition du label.\n",
    "\n",
    "\\\n",
    "Ici on choisira **micro**\n",
    "\n",
    " On rappelle également que: \n",
    " - $$precision = \\frac{TP}{TP+FP}$$ \n",
    " - $$recall= \\frac{TP}{TP+FN} $$\n",
    " - $$f1-score= \\frac{precision * recall}{precision + recall} $$\n",
    " - hamming loss = la proportion de labels incorrets = $$$$ \n",
    " \n",
    " \n",
    " \n",
    "\n"
   ]
  },
  {
   "cell_type": "code",
   "execution_count": 65,
   "metadata": {},
   "outputs": [
    {
     "data": {
      "text/html": [
       "<div>\n",
       "<style scoped>\n",
       "    .dataframe tbody tr th:only-of-type {\n",
       "        vertical-align: middle;\n",
       "    }\n",
       "\n",
       "    .dataframe tbody tr th {\n",
       "        vertical-align: top;\n",
       "    }\n",
       "\n",
       "    .dataframe thead th {\n",
       "        text-align: right;\n",
       "    }\n",
       "</style>\n",
       "<table border=\"1\" class=\"dataframe\">\n",
       "  <thead>\n",
       "    <tr style=\"text-align: right;\">\n",
       "      <th></th>\n",
       "      <th>asian</th>\n",
       "      <th>rnb</th>\n",
       "      <th>reggae</th>\n",
       "      <th>blues</th>\n",
       "      <th>pop</th>\n",
       "      <th>dance</th>\n",
       "      <th>folk</th>\n",
       "      <th>arabic-music</th>\n",
       "      <th>indie</th>\n",
       "      <th>rock</th>\n",
       "      <th>...</th>\n",
       "      <th>usage_feature_119</th>\n",
       "      <th>usage_feature_120</th>\n",
       "      <th>usage_feature_121</th>\n",
       "      <th>usage_feature_122</th>\n",
       "      <th>usage_feature_123</th>\n",
       "      <th>usage_feature_124</th>\n",
       "      <th>usage_feature_125</th>\n",
       "      <th>usage_feature_126</th>\n",
       "      <th>usage_feature_127</th>\n",
       "      <th>usage_feature_128</th>\n",
       "    </tr>\n",
       "  </thead>\n",
       "  <tbody>\n",
       "    <tr>\n",
       "      <th>0</th>\n",
       "      <td>0</td>\n",
       "      <td>0</td>\n",
       "      <td>0</td>\n",
       "      <td>0</td>\n",
       "      <td>0</td>\n",
       "      <td>0</td>\n",
       "      <td>0</td>\n",
       "      <td>0</td>\n",
       "      <td>0</td>\n",
       "      <td>0</td>\n",
       "      <td>...</td>\n",
       "      <td>0.008582</td>\n",
       "      <td>-0.000024</td>\n",
       "      <td>-0.272207</td>\n",
       "      <td>0.210503</td>\n",
       "      <td>0.030972</td>\n",
       "      <td>0.080964</td>\n",
       "      <td>-0.015423</td>\n",
       "      <td>0.102148</td>\n",
       "      <td>0.365081</td>\n",
       "      <td>-0.066897</td>\n",
       "    </tr>\n",
       "    <tr>\n",
       "      <th>1</th>\n",
       "      <td>0</td>\n",
       "      <td>0</td>\n",
       "      <td>0</td>\n",
       "      <td>0</td>\n",
       "      <td>0</td>\n",
       "      <td>0</td>\n",
       "      <td>0</td>\n",
       "      <td>0</td>\n",
       "      <td>0</td>\n",
       "      <td>1</td>\n",
       "      <td>...</td>\n",
       "      <td>-0.182309</td>\n",
       "      <td>-0.051225</td>\n",
       "      <td>-0.004617</td>\n",
       "      <td>-0.005726</td>\n",
       "      <td>-0.038334</td>\n",
       "      <td>-0.063972</td>\n",
       "      <td>0.053881</td>\n",
       "      <td>-0.001152</td>\n",
       "      <td>0.045032</td>\n",
       "      <td>0.027505</td>\n",
       "    </tr>\n",
       "    <tr>\n",
       "      <th>2</th>\n",
       "      <td>0</td>\n",
       "      <td>0</td>\n",
       "      <td>0</td>\n",
       "      <td>0</td>\n",
       "      <td>1</td>\n",
       "      <td>0</td>\n",
       "      <td>0</td>\n",
       "      <td>0</td>\n",
       "      <td>0</td>\n",
       "      <td>0</td>\n",
       "      <td>...</td>\n",
       "      <td>-0.044620</td>\n",
       "      <td>-0.132282</td>\n",
       "      <td>-0.141684</td>\n",
       "      <td>-0.106271</td>\n",
       "      <td>-0.189065</td>\n",
       "      <td>-0.229804</td>\n",
       "      <td>0.083824</td>\n",
       "      <td>-0.160790</td>\n",
       "      <td>0.040417</td>\n",
       "      <td>-0.094503</td>\n",
       "    </tr>\n",
       "    <tr>\n",
       "      <th>3</th>\n",
       "      <td>0</td>\n",
       "      <td>0</td>\n",
       "      <td>0</td>\n",
       "      <td>0</td>\n",
       "      <td>0</td>\n",
       "      <td>0</td>\n",
       "      <td>0</td>\n",
       "      <td>0</td>\n",
       "      <td>0</td>\n",
       "      <td>1</td>\n",
       "      <td>...</td>\n",
       "      <td>-0.127573</td>\n",
       "      <td>-0.068515</td>\n",
       "      <td>-0.106374</td>\n",
       "      <td>-0.102694</td>\n",
       "      <td>-0.066937</td>\n",
       "      <td>0.026911</td>\n",
       "      <td>-0.032158</td>\n",
       "      <td>0.063670</td>\n",
       "      <td>-0.026653</td>\n",
       "      <td>-0.068251</td>\n",
       "    </tr>\n",
       "    <tr>\n",
       "      <th>4</th>\n",
       "      <td>0</td>\n",
       "      <td>0</td>\n",
       "      <td>0</td>\n",
       "      <td>0</td>\n",
       "      <td>0</td>\n",
       "      <td>0</td>\n",
       "      <td>0</td>\n",
       "      <td>0</td>\n",
       "      <td>0</td>\n",
       "      <td>0</td>\n",
       "      <td>...</td>\n",
       "      <td>0.024463</td>\n",
       "      <td>-0.052952</td>\n",
       "      <td>-0.059056</td>\n",
       "      <td>0.041670</td>\n",
       "      <td>-0.025673</td>\n",
       "      <td>-0.000446</td>\n",
       "      <td>-0.003438</td>\n",
       "      <td>0.060359</td>\n",
       "      <td>0.058938</td>\n",
       "      <td>0.029523</td>\n",
       "    </tr>\n",
       "    <tr>\n",
       "      <th>...</th>\n",
       "      <td>...</td>\n",
       "      <td>...</td>\n",
       "      <td>...</td>\n",
       "      <td>...</td>\n",
       "      <td>...</td>\n",
       "      <td>...</td>\n",
       "      <td>...</td>\n",
       "      <td>...</td>\n",
       "      <td>...</td>\n",
       "      <td>...</td>\n",
       "      <td>...</td>\n",
       "      <td>...</td>\n",
       "      <td>...</td>\n",
       "      <td>...</td>\n",
       "      <td>...</td>\n",
       "      <td>...</td>\n",
       "      <td>...</td>\n",
       "      <td>...</td>\n",
       "      <td>...</td>\n",
       "      <td>...</td>\n",
       "      <td>...</td>\n",
       "    </tr>\n",
       "    <tr>\n",
       "      <th>50557</th>\n",
       "      <td>0</td>\n",
       "      <td>0</td>\n",
       "      <td>0</td>\n",
       "      <td>0</td>\n",
       "      <td>1</td>\n",
       "      <td>0</td>\n",
       "      <td>0</td>\n",
       "      <td>0</td>\n",
       "      <td>0</td>\n",
       "      <td>0</td>\n",
       "      <td>...</td>\n",
       "      <td>-0.034780</td>\n",
       "      <td>0.112294</td>\n",
       "      <td>-0.084898</td>\n",
       "      <td>-0.191570</td>\n",
       "      <td>0.153120</td>\n",
       "      <td>0.106828</td>\n",
       "      <td>0.056458</td>\n",
       "      <td>0.127816</td>\n",
       "      <td>0.086341</td>\n",
       "      <td>-0.024928</td>\n",
       "    </tr>\n",
       "    <tr>\n",
       "      <th>50558</th>\n",
       "      <td>0</td>\n",
       "      <td>0</td>\n",
       "      <td>0</td>\n",
       "      <td>0</td>\n",
       "      <td>0</td>\n",
       "      <td>0</td>\n",
       "      <td>0</td>\n",
       "      <td>1</td>\n",
       "      <td>0</td>\n",
       "      <td>0</td>\n",
       "      <td>...</td>\n",
       "      <td>0.063418</td>\n",
       "      <td>0.166352</td>\n",
       "      <td>0.021962</td>\n",
       "      <td>0.003740</td>\n",
       "      <td>0.146321</td>\n",
       "      <td>-0.094655</td>\n",
       "      <td>-0.118755</td>\n",
       "      <td>-0.008160</td>\n",
       "      <td>-0.068332</td>\n",
       "      <td>0.041923</td>\n",
       "    </tr>\n",
       "    <tr>\n",
       "      <th>50559</th>\n",
       "      <td>0</td>\n",
       "      <td>0</td>\n",
       "      <td>0</td>\n",
       "      <td>0</td>\n",
       "      <td>0</td>\n",
       "      <td>0</td>\n",
       "      <td>0</td>\n",
       "      <td>0</td>\n",
       "      <td>0</td>\n",
       "      <td>0</td>\n",
       "      <td>...</td>\n",
       "      <td>-0.000624</td>\n",
       "      <td>-0.037719</td>\n",
       "      <td>0.018047</td>\n",
       "      <td>0.028091</td>\n",
       "      <td>-0.000380</td>\n",
       "      <td>0.015697</td>\n",
       "      <td>-0.035737</td>\n",
       "      <td>-0.022669</td>\n",
       "      <td>-0.003089</td>\n",
       "      <td>-0.014504</td>\n",
       "    </tr>\n",
       "    <tr>\n",
       "      <th>50560</th>\n",
       "      <td>0</td>\n",
       "      <td>0</td>\n",
       "      <td>0</td>\n",
       "      <td>0</td>\n",
       "      <td>0</td>\n",
       "      <td>0</td>\n",
       "      <td>0</td>\n",
       "      <td>0</td>\n",
       "      <td>0</td>\n",
       "      <td>0</td>\n",
       "      <td>...</td>\n",
       "      <td>0.063921</td>\n",
       "      <td>0.000640</td>\n",
       "      <td>-0.081422</td>\n",
       "      <td>-0.012015</td>\n",
       "      <td>-0.046315</td>\n",
       "      <td>-0.112069</td>\n",
       "      <td>0.017265</td>\n",
       "      <td>-0.063093</td>\n",
       "      <td>-0.134029</td>\n",
       "      <td>-0.007111</td>\n",
       "    </tr>\n",
       "    <tr>\n",
       "      <th>50561</th>\n",
       "      <td>0</td>\n",
       "      <td>0</td>\n",
       "      <td>0</td>\n",
       "      <td>0</td>\n",
       "      <td>0</td>\n",
       "      <td>0</td>\n",
       "      <td>0</td>\n",
       "      <td>1</td>\n",
       "      <td>0</td>\n",
       "      <td>0</td>\n",
       "      <td>...</td>\n",
       "      <td>0.093129</td>\n",
       "      <td>0.057563</td>\n",
       "      <td>-0.024371</td>\n",
       "      <td>-0.045108</td>\n",
       "      <td>0.084159</td>\n",
       "      <td>-0.003091</td>\n",
       "      <td>-0.109752</td>\n",
       "      <td>-0.009464</td>\n",
       "      <td>-0.059858</td>\n",
       "      <td>-0.001987</td>\n",
       "    </tr>\n",
       "  </tbody>\n",
       "</table>\n",
       "<p>50562 rows × 408 columns</p>\n",
       "</div>"
      ],
      "text/plain": [
       "       asian  rnb  reggae  blues  pop  dance  folk  arabic-music  indie  rock  \\\n",
       "0          0    0       0      0    0      0     0             0      0     0   \n",
       "1          0    0       0      0    0      0     0             0      0     1   \n",
       "2          0    0       0      0    1      0     0             0      0     0   \n",
       "3          0    0       0      0    0      0     0             0      0     1   \n",
       "4          0    0       0      0    0      0     0             0      0     0   \n",
       "...      ...  ...     ...    ...  ...    ...   ...           ...    ...   ...   \n",
       "50557      0    0       0      0    1      0     0             0      0     0   \n",
       "50558      0    0       0      0    0      0     0             1      0     0   \n",
       "50559      0    0       0      0    0      0     0             0      0     0   \n",
       "50560      0    0       0      0    0      0     0             0      0     0   \n",
       "50561      0    0       0      0    0      0     0             1      0     0   \n",
       "\n",
       "       ...  usage_feature_119  usage_feature_120  usage_feature_121  \\\n",
       "0      ...           0.008582          -0.000024          -0.272207   \n",
       "1      ...          -0.182309          -0.051225          -0.004617   \n",
       "2      ...          -0.044620          -0.132282          -0.141684   \n",
       "3      ...          -0.127573          -0.068515          -0.106374   \n",
       "4      ...           0.024463          -0.052952          -0.059056   \n",
       "...    ...                ...                ...                ...   \n",
       "50557  ...          -0.034780           0.112294          -0.084898   \n",
       "50558  ...           0.063418           0.166352           0.021962   \n",
       "50559  ...          -0.000624          -0.037719           0.018047   \n",
       "50560  ...           0.063921           0.000640          -0.081422   \n",
       "50561  ...           0.093129           0.057563          -0.024371   \n",
       "\n",
       "       usage_feature_122  usage_feature_123  usage_feature_124  \\\n",
       "0               0.210503           0.030972           0.080964   \n",
       "1              -0.005726          -0.038334          -0.063972   \n",
       "2              -0.106271          -0.189065          -0.229804   \n",
       "3              -0.102694          -0.066937           0.026911   \n",
       "4               0.041670          -0.025673          -0.000446   \n",
       "...                  ...                ...                ...   \n",
       "50557          -0.191570           0.153120           0.106828   \n",
       "50558           0.003740           0.146321          -0.094655   \n",
       "50559           0.028091          -0.000380           0.015697   \n",
       "50560          -0.012015          -0.046315          -0.112069   \n",
       "50561          -0.045108           0.084159          -0.003091   \n",
       "\n",
       "       usage_feature_125  usage_feature_126  usage_feature_127  \\\n",
       "0              -0.015423           0.102148           0.365081   \n",
       "1               0.053881          -0.001152           0.045032   \n",
       "2               0.083824          -0.160790           0.040417   \n",
       "3              -0.032158           0.063670          -0.026653   \n",
       "4              -0.003438           0.060359           0.058938   \n",
       "...                  ...                ...                ...   \n",
       "50557           0.056458           0.127816           0.086341   \n",
       "50558          -0.118755          -0.008160          -0.068332   \n",
       "50559          -0.035737          -0.022669          -0.003089   \n",
       "50560           0.017265          -0.063093          -0.134029   \n",
       "50561          -0.109752          -0.009464          -0.059858   \n",
       "\n",
       "       usage_feature_128  \n",
       "0              -0.066897  \n",
       "1               0.027505  \n",
       "2              -0.094503  \n",
       "3              -0.068251  \n",
       "4               0.029523  \n",
       "...                  ...  \n",
       "50557          -0.024928  \n",
       "50558           0.041923  \n",
       "50559          -0.014504  \n",
       "50560          -0.007111  \n",
       "50561          -0.001987  \n",
       "\n",
       "[50562 rows x 408 columns]"
      ]
     },
     "execution_count": 65,
     "metadata": {},
     "output_type": "execute_result"
    }
   ],
   "source": [
    "\n",
    "transform_parquet_to_csv('dataset2.parquet','dataset.csv')"
   ]
  },
  {
   "cell_type": "code",
   "execution_count": 66,
   "metadata": {},
   "outputs": [],
   "source": [
    "df=pd.read_csv('dataset.csv')"
   ]
  },
  {
   "cell_type": "code",
   "execution_count": 69,
   "metadata": {},
   "outputs": [
    {
     "ename": "NameError",
     "evalue": "name 'columns2' is not defined",
     "output_type": "error",
     "traceback": [
      "\u001b[0;31m---------------------------------------------------------------------------\u001b[0m",
      "\u001b[0;31mNameError\u001b[0m                                 Traceback (most recent call last)",
      "\u001b[0;32m/tmp/ipykernel_578/3586451176.py\u001b[0m in \u001b[0;36m<module>\u001b[0;34m\u001b[0m\n\u001b[0;32m----> 1\u001b[0;31m \u001b[0mX\u001b[0m\u001b[0;34m,\u001b[0m\u001b[0mY\u001b[0m\u001b[0;34m=\u001b[0m\u001b[0mextract_values_array\u001b[0m\u001b[0;34m(\u001b[0m\u001b[0mdf\u001b[0m\u001b[0;34m,\u001b[0m\u001b[0;36m0.5\u001b[0m\u001b[0;34m)\u001b[0m\u001b[0;34m\u001b[0m\u001b[0;34m\u001b[0m\u001b[0m\n\u001b[0m",
      "\u001b[0;32m~/work/multi-label-classification/preprocess.py\u001b[0m in \u001b[0;36mextract_values_array\u001b[0;34m(df, p, usage)\u001b[0m\n\u001b[1;32m     38\u001b[0m     \u001b[0mcolumns3\u001b[0m\u001b[0;34m=\u001b[0m\u001b[0;34m[\u001b[0m\u001b[0;34m]\u001b[0m\u001b[0;34m\u001b[0m\u001b[0;34m\u001b[0m\u001b[0m\n\u001b[1;32m     39\u001b[0m     \u001b[0;32mif\u001b[0m \u001b[0musage\u001b[0m\u001b[0;34m==\u001b[0m\u001b[0;32mFalse\u001b[0m\u001b[0;34m:\u001b[0m\u001b[0;34m\u001b[0m\u001b[0;34m\u001b[0m\u001b[0m\n\u001b[0;32m---> 40\u001b[0;31m         \u001b[0;32mfor\u001b[0m \u001b[0mi\u001b[0m \u001b[0;32min\u001b[0m \u001b[0mrange\u001b[0m \u001b[0;34m(\u001b[0m\u001b[0;36m1\u001b[0m\u001b[0;34m,\u001b[0m\u001b[0;36m129\u001b[0m\u001b[0;34m)\u001b[0m\u001b[0;34m:\u001b[0m\u001b[0;34m\u001b[0m\u001b[0;34m\u001b[0m\u001b[0m\n\u001b[0m\u001b[1;32m     41\u001b[0m             \u001b[0mcol2\u001b[0m\u001b[0;34m=\u001b[0m \u001b[0;34m'usage_feature_%i'\u001b[0m \u001b[0;34m%\u001b[0m \u001b[0mi\u001b[0m\u001b[0;34m\u001b[0m\u001b[0;34m\u001b[0m\u001b[0m\n\u001b[1;32m     42\u001b[0m             \u001b[0mcolumns3\u001b[0m\u001b[0;34m.\u001b[0m\u001b[0mappend\u001b[0m\u001b[0;34m(\u001b[0m\u001b[0mcol2\u001b[0m\u001b[0;34m)\u001b[0m\u001b[0;34m\u001b[0m\u001b[0;34m\u001b[0m\u001b[0m\n",
      "\u001b[0;31mNameError\u001b[0m: name 'columns2' is not defined"
     ]
    }
   ],
   "source": [
    "X,Y=extract_values_array(df,0.5)"
   ]
  },
  {
   "cell_type": "code",
   "execution_count": null,
   "metadata": {
    "id": "CSzYEEK_xKWn"
   },
   "outputs": [],
   "source": [
    "from sklearn.linear_model import LogisticRegression\n",
    "from sklearn.model_selection import train_test_split\n",
    "l=list(df.columns[0:22]) #représente la liste des labels + index\n",
    "x=list(df.columns[22:]) #liste des variables explicatives\n",
    "\n",
    "l.remove('song_index') #on retire l'index\n",
    "x.remove('artist_name') #on retire les strings ici, on exploitera sur une autre méthode\n",
    "x.remove('song_title')\n"
   ]
  },
  {
   "cell_type": "markdown",
   "metadata": {
    "id": "lgE-1fpT83HW"
   },
   "source": [
    "***1ère méthode: Attribuer le genre le plus représenté: le rock***\n",
    "\n",
    "\n"
   ]
  },
  {
   "cell_type": "code",
   "execution_count": null,
   "metadata": {
    "colab": {
     "base_uri": "https://localhost:8080/",
     "height": 505
    },
    "id": "MgdQUmNM89xf",
    "outputId": "c77d88c3-a0fa-4550-cc2b-cef6313ad24b"
   },
   "outputs": [
    {
     "data": {
      "text/html": [
       "\n",
       "  <div id=\"df-46b1180a-101f-4ff0-a32e-66777c7d9d9b\">\n",
       "    <div class=\"colab-df-container\">\n",
       "      <div>\n",
       "<style scoped>\n",
       "    .dataframe tbody tr th:only-of-type {\n",
       "        vertical-align: middle;\n",
       "    }\n",
       "\n",
       "    .dataframe tbody tr th {\n",
       "        vertical-align: top;\n",
       "    }\n",
       "\n",
       "    .dataframe thead th {\n",
       "        text-align: right;\n",
       "    }\n",
       "</style>\n",
       "<table border=\"1\" class=\"dataframe\">\n",
       "  <thead>\n",
       "    <tr style=\"text-align: right;\">\n",
       "      <th></th>\n",
       "      <th>asian</th>\n",
       "      <th>rnb</th>\n",
       "      <th>reggae</th>\n",
       "      <th>blues</th>\n",
       "      <th>pop</th>\n",
       "      <th>dance</th>\n",
       "      <th>folk</th>\n",
       "      <th>arabic-music</th>\n",
       "      <th>indie</th>\n",
       "      <th>rock</th>\n",
       "      <th>soulfunk</th>\n",
       "      <th>latin</th>\n",
       "      <th>classical</th>\n",
       "      <th>k-pop</th>\n",
       "      <th>brazilian</th>\n",
       "      <th>metal</th>\n",
       "      <th>rap</th>\n",
       "      <th>jazz</th>\n",
       "      <th>electronic</th>\n",
       "      <th>african</th>\n",
       "      <th>country</th>\n",
       "    </tr>\n",
       "  </thead>\n",
       "  <tbody>\n",
       "    <tr>\n",
       "      <th>0</th>\n",
       "      <td>0</td>\n",
       "      <td>0</td>\n",
       "      <td>0</td>\n",
       "      <td>0</td>\n",
       "      <td>0</td>\n",
       "      <td>0</td>\n",
       "      <td>0</td>\n",
       "      <td>0</td>\n",
       "      <td>0</td>\n",
       "      <td>1</td>\n",
       "      <td>0</td>\n",
       "      <td>0</td>\n",
       "      <td>0</td>\n",
       "      <td>0</td>\n",
       "      <td>0</td>\n",
       "      <td>0</td>\n",
       "      <td>0</td>\n",
       "      <td>0</td>\n",
       "      <td>0</td>\n",
       "      <td>0</td>\n",
       "      <td>0</td>\n",
       "    </tr>\n",
       "    <tr>\n",
       "      <th>1</th>\n",
       "      <td>0</td>\n",
       "      <td>0</td>\n",
       "      <td>0</td>\n",
       "      <td>0</td>\n",
       "      <td>0</td>\n",
       "      <td>0</td>\n",
       "      <td>0</td>\n",
       "      <td>0</td>\n",
       "      <td>0</td>\n",
       "      <td>1</td>\n",
       "      <td>0</td>\n",
       "      <td>0</td>\n",
       "      <td>0</td>\n",
       "      <td>0</td>\n",
       "      <td>0</td>\n",
       "      <td>0</td>\n",
       "      <td>0</td>\n",
       "      <td>0</td>\n",
       "      <td>0</td>\n",
       "      <td>0</td>\n",
       "      <td>0</td>\n",
       "    </tr>\n",
       "    <tr>\n",
       "      <th>2</th>\n",
       "      <td>0</td>\n",
       "      <td>0</td>\n",
       "      <td>0</td>\n",
       "      <td>0</td>\n",
       "      <td>0</td>\n",
       "      <td>0</td>\n",
       "      <td>0</td>\n",
       "      <td>0</td>\n",
       "      <td>0</td>\n",
       "      <td>1</td>\n",
       "      <td>0</td>\n",
       "      <td>0</td>\n",
       "      <td>0</td>\n",
       "      <td>0</td>\n",
       "      <td>0</td>\n",
       "      <td>0</td>\n",
       "      <td>0</td>\n",
       "      <td>0</td>\n",
       "      <td>0</td>\n",
       "      <td>0</td>\n",
       "      <td>0</td>\n",
       "    </tr>\n",
       "    <tr>\n",
       "      <th>3</th>\n",
       "      <td>0</td>\n",
       "      <td>0</td>\n",
       "      <td>0</td>\n",
       "      <td>0</td>\n",
       "      <td>0</td>\n",
       "      <td>0</td>\n",
       "      <td>0</td>\n",
       "      <td>0</td>\n",
       "      <td>0</td>\n",
       "      <td>1</td>\n",
       "      <td>0</td>\n",
       "      <td>0</td>\n",
       "      <td>0</td>\n",
       "      <td>0</td>\n",
       "      <td>0</td>\n",
       "      <td>0</td>\n",
       "      <td>0</td>\n",
       "      <td>0</td>\n",
       "      <td>0</td>\n",
       "      <td>0</td>\n",
       "      <td>0</td>\n",
       "    </tr>\n",
       "    <tr>\n",
       "      <th>4</th>\n",
       "      <td>0</td>\n",
       "      <td>0</td>\n",
       "      <td>0</td>\n",
       "      <td>0</td>\n",
       "      <td>0</td>\n",
       "      <td>0</td>\n",
       "      <td>0</td>\n",
       "      <td>0</td>\n",
       "      <td>0</td>\n",
       "      <td>1</td>\n",
       "      <td>0</td>\n",
       "      <td>0</td>\n",
       "      <td>0</td>\n",
       "      <td>0</td>\n",
       "      <td>0</td>\n",
       "      <td>0</td>\n",
       "      <td>0</td>\n",
       "      <td>0</td>\n",
       "      <td>0</td>\n",
       "      <td>0</td>\n",
       "      <td>0</td>\n",
       "    </tr>\n",
       "    <tr>\n",
       "      <th>...</th>\n",
       "      <td>...</td>\n",
       "      <td>...</td>\n",
       "      <td>...</td>\n",
       "      <td>...</td>\n",
       "      <td>...</td>\n",
       "      <td>...</td>\n",
       "      <td>...</td>\n",
       "      <td>...</td>\n",
       "      <td>...</td>\n",
       "      <td>...</td>\n",
       "      <td>...</td>\n",
       "      <td>...</td>\n",
       "      <td>...</td>\n",
       "      <td>...</td>\n",
       "      <td>...</td>\n",
       "      <td>...</td>\n",
       "      <td>...</td>\n",
       "      <td>...</td>\n",
       "      <td>...</td>\n",
       "      <td>...</td>\n",
       "      <td>...</td>\n",
       "    </tr>\n",
       "    <tr>\n",
       "      <th>25276</th>\n",
       "      <td>0</td>\n",
       "      <td>0</td>\n",
       "      <td>0</td>\n",
       "      <td>0</td>\n",
       "      <td>0</td>\n",
       "      <td>0</td>\n",
       "      <td>0</td>\n",
       "      <td>0</td>\n",
       "      <td>0</td>\n",
       "      <td>1</td>\n",
       "      <td>0</td>\n",
       "      <td>0</td>\n",
       "      <td>0</td>\n",
       "      <td>0</td>\n",
       "      <td>0</td>\n",
       "      <td>0</td>\n",
       "      <td>0</td>\n",
       "      <td>0</td>\n",
       "      <td>0</td>\n",
       "      <td>0</td>\n",
       "      <td>0</td>\n",
       "    </tr>\n",
       "    <tr>\n",
       "      <th>25277</th>\n",
       "      <td>0</td>\n",
       "      <td>0</td>\n",
       "      <td>0</td>\n",
       "      <td>0</td>\n",
       "      <td>0</td>\n",
       "      <td>0</td>\n",
       "      <td>0</td>\n",
       "      <td>0</td>\n",
       "      <td>0</td>\n",
       "      <td>1</td>\n",
       "      <td>0</td>\n",
       "      <td>0</td>\n",
       "      <td>0</td>\n",
       "      <td>0</td>\n",
       "      <td>0</td>\n",
       "      <td>0</td>\n",
       "      <td>0</td>\n",
       "      <td>0</td>\n",
       "      <td>0</td>\n",
       "      <td>0</td>\n",
       "      <td>0</td>\n",
       "    </tr>\n",
       "    <tr>\n",
       "      <th>25278</th>\n",
       "      <td>0</td>\n",
       "      <td>0</td>\n",
       "      <td>0</td>\n",
       "      <td>0</td>\n",
       "      <td>0</td>\n",
       "      <td>0</td>\n",
       "      <td>0</td>\n",
       "      <td>0</td>\n",
       "      <td>0</td>\n",
       "      <td>1</td>\n",
       "      <td>0</td>\n",
       "      <td>0</td>\n",
       "      <td>0</td>\n",
       "      <td>0</td>\n",
       "      <td>0</td>\n",
       "      <td>0</td>\n",
       "      <td>0</td>\n",
       "      <td>0</td>\n",
       "      <td>0</td>\n",
       "      <td>0</td>\n",
       "      <td>0</td>\n",
       "    </tr>\n",
       "    <tr>\n",
       "      <th>25279</th>\n",
       "      <td>0</td>\n",
       "      <td>0</td>\n",
       "      <td>0</td>\n",
       "      <td>0</td>\n",
       "      <td>0</td>\n",
       "      <td>0</td>\n",
       "      <td>0</td>\n",
       "      <td>0</td>\n",
       "      <td>0</td>\n",
       "      <td>1</td>\n",
       "      <td>0</td>\n",
       "      <td>0</td>\n",
       "      <td>0</td>\n",
       "      <td>0</td>\n",
       "      <td>0</td>\n",
       "      <td>0</td>\n",
       "      <td>0</td>\n",
       "      <td>0</td>\n",
       "      <td>0</td>\n",
       "      <td>0</td>\n",
       "      <td>0</td>\n",
       "    </tr>\n",
       "    <tr>\n",
       "      <th>25280</th>\n",
       "      <td>0</td>\n",
       "      <td>0</td>\n",
       "      <td>0</td>\n",
       "      <td>0</td>\n",
       "      <td>0</td>\n",
       "      <td>0</td>\n",
       "      <td>0</td>\n",
       "      <td>0</td>\n",
       "      <td>0</td>\n",
       "      <td>1</td>\n",
       "      <td>0</td>\n",
       "      <td>0</td>\n",
       "      <td>0</td>\n",
       "      <td>0</td>\n",
       "      <td>0</td>\n",
       "      <td>0</td>\n",
       "      <td>0</td>\n",
       "      <td>0</td>\n",
       "      <td>0</td>\n",
       "      <td>0</td>\n",
       "      <td>0</td>\n",
       "    </tr>\n",
       "  </tbody>\n",
       "</table>\n",
       "<p>25281 rows × 21 columns</p>\n",
       "</div>\n",
       "      <button class=\"colab-df-convert\" onclick=\"convertToInteractive('df-46b1180a-101f-4ff0-a32e-66777c7d9d9b')\"\n",
       "              title=\"Convert this dataframe to an interactive table.\"\n",
       "              style=\"display:none;\">\n",
       "        \n",
       "  <svg xmlns=\"http://www.w3.org/2000/svg\" height=\"24px\"viewBox=\"0 0 24 24\"\n",
       "       width=\"24px\">\n",
       "    <path d=\"M0 0h24v24H0V0z\" fill=\"none\"/>\n",
       "    <path d=\"M18.56 5.44l.94 2.06.94-2.06 2.06-.94-2.06-.94-.94-2.06-.94 2.06-2.06.94zm-11 1L8.5 8.5l.94-2.06 2.06-.94-2.06-.94L8.5 2.5l-.94 2.06-2.06.94zm10 10l.94 2.06.94-2.06 2.06-.94-2.06-.94-.94-2.06-.94 2.06-2.06.94z\"/><path d=\"M17.41 7.96l-1.37-1.37c-.4-.4-.92-.59-1.43-.59-.52 0-1.04.2-1.43.59L10.3 9.45l-7.72 7.72c-.78.78-.78 2.05 0 2.83L4 21.41c.39.39.9.59 1.41.59.51 0 1.02-.2 1.41-.59l7.78-7.78 2.81-2.81c.8-.78.8-2.07 0-2.86zM5.41 20L4 18.59l7.72-7.72 1.47 1.35L5.41 20z\"/>\n",
       "  </svg>\n",
       "      </button>\n",
       "      \n",
       "  <style>\n",
       "    .colab-df-container {\n",
       "      display:flex;\n",
       "      flex-wrap:wrap;\n",
       "      gap: 12px;\n",
       "    }\n",
       "\n",
       "    .colab-df-convert {\n",
       "      background-color: #E8F0FE;\n",
       "      border: none;\n",
       "      border-radius: 50%;\n",
       "      cursor: pointer;\n",
       "      display: none;\n",
       "      fill: #1967D2;\n",
       "      height: 32px;\n",
       "      padding: 0 0 0 0;\n",
       "      width: 32px;\n",
       "    }\n",
       "\n",
       "    .colab-df-convert:hover {\n",
       "      background-color: #E2EBFA;\n",
       "      box-shadow: 0px 1px 2px rgba(60, 64, 67, 0.3), 0px 1px 3px 1px rgba(60, 64, 67, 0.15);\n",
       "      fill: #174EA6;\n",
       "    }\n",
       "\n",
       "    [theme=dark] .colab-df-convert {\n",
       "      background-color: #3B4455;\n",
       "      fill: #D2E3FC;\n",
       "    }\n",
       "\n",
       "    [theme=dark] .colab-df-convert:hover {\n",
       "      background-color: #434B5C;\n",
       "      box-shadow: 0px 1px 3px 1px rgba(0, 0, 0, 0.15);\n",
       "      filter: drop-shadow(0px 1px 2px rgba(0, 0, 0, 0.3));\n",
       "      fill: #FFFFFF;\n",
       "    }\n",
       "  </style>\n",
       "\n",
       "      <script>\n",
       "        const buttonEl =\n",
       "          document.querySelector('#df-46b1180a-101f-4ff0-a32e-66777c7d9d9b button.colab-df-convert');\n",
       "        buttonEl.style.display =\n",
       "          google.colab.kernel.accessAllowed ? 'block' : 'none';\n",
       "\n",
       "        async function convertToInteractive(key) {\n",
       "          const element = document.querySelector('#df-46b1180a-101f-4ff0-a32e-66777c7d9d9b');\n",
       "          const dataTable =\n",
       "            await google.colab.kernel.invokeFunction('convertToInteractive',\n",
       "                                                     [key], {});\n",
       "          if (!dataTable) return;\n",
       "\n",
       "          const docLinkHtml = 'Like what you see? Visit the ' +\n",
       "            '<a target=\"_blank\" href=https://colab.research.google.com/notebooks/data_table.ipynb>data table notebook</a>'\n",
       "            + ' to learn more about interactive tables.';\n",
       "          element.innerHTML = '';\n",
       "          dataTable['output_type'] = 'display_data';\n",
       "          await google.colab.output.renderOutput(dataTable, element);\n",
       "          const docLink = document.createElement('div');\n",
       "          docLink.innerHTML = docLinkHtml;\n",
       "          element.appendChild(docLink);\n",
       "        }\n",
       "      </script>\n",
       "    </div>\n",
       "  </div>\n",
       "  "
      ],
      "text/plain": [
       "       asian  rnb  reggae  blues  pop  ...  rap  jazz  electronic  african  country\n",
       "0          0    0       0      0    0  ...    0     0           0        0        0\n",
       "1          0    0       0      0    0  ...    0     0           0        0        0\n",
       "2          0    0       0      0    0  ...    0     0           0        0        0\n",
       "3          0    0       0      0    0  ...    0     0           0        0        0\n",
       "4          0    0       0      0    0  ...    0     0           0        0        0\n",
       "...      ...  ...     ...    ...  ...  ...  ...   ...         ...      ...      ...\n",
       "25276      0    0       0      0    0  ...    0     0           0        0        0\n",
       "25277      0    0       0      0    0  ...    0     0           0        0        0\n",
       "25278      0    0       0      0    0  ...    0     0           0        0        0\n",
       "25279      0    0       0      0    0  ...    0     0           0        0        0\n",
       "25280      0    0       0      0    0  ...    0     0           0        0        0\n",
       "\n",
       "[25281 rows x 21 columns]"
      ]
     },
     "execution_count": 80,
     "metadata": {},
     "output_type": "execute_result"
    }
   ],
   "source": [
    "df_naif=pd.DataFrame(columns=l)\n",
    "n=df.shape[0]\n",
    "for label in l: \n",
    "  if label!='rock':\n",
    "    df_naif[label]=np.zeros(n, dtype=int)\n",
    "  else:\n",
    "    df_naif[label]=np.zeros(n, dtype=int)+1\n",
    "df_naif"
   ]
  },
  {
   "cell_type": "code",
   "execution_count": null,
   "metadata": {
    "id": "6jRTgXj5-2bH"
   },
   "outputs": [],
   "source": [
    "y_pred=df_naif.values\n",
    "y_true=df[l].values"
   ]
  },
  {
   "cell_type": "code",
   "execution_count": null,
   "metadata": {
    "colab": {
     "base_uri": "https://localhost:8080/"
    },
    "id": "vgetAZFP_A4B",
    "outputId": "e191dbbb-c55f-42ef-d0bf-f204c16184a9"
   },
   "outputs": [
    {
     "data": {
      "text/plain": [
       "0.10881689806574107"
      ]
     },
     "execution_count": 82,
     "metadata": {},
     "output_type": "execute_result"
    }
   ],
   "source": [
    "accuracy_score(y_true,y_pred)"
   ]
  },
  {
   "cell_type": "code",
   "execution_count": null,
   "metadata": {
    "colab": {
     "base_uri": "https://localhost:8080/"
    },
    "id": "ErVH-suk_0SO",
    "outputId": "b11e1fe7-0ae1-43b6-ad93-244bcd7ac634"
   },
   "outputs": [
    {
     "data": {
      "text/plain": [
       "0.16186068589058977"
      ]
     },
     "execution_count": 83,
     "metadata": {},
     "output_type": "execute_result"
    }
   ],
   "source": [
    "precision_score(y_true,y_pred,average='micro')"
   ]
  },
  {
   "cell_type": "code",
   "execution_count": null,
   "metadata": {
    "colab": {
     "base_uri": "https://localhost:8080/"
    },
    "id": "yYQBnncQ_8zK",
    "outputId": "e4aeab92-b4cc-472d-f7e6-fa3b1b8303a5"
   },
   "outputs": [
    {
     "data": {
      "text/plain": [
       "0.7578485428153483"
      ]
     },
     "execution_count": 103,
     "metadata": {},
     "output_type": "execute_result"
    }
   ],
   "source": [
    "recall_score(y_true,y_pred,average='micro')"
   ]
  },
  {
   "cell_type": "code",
   "execution_count": null,
   "metadata": {
    "colab": {
     "base_uri": "https://localhost:8080/"
    },
    "id": "k-j_XRVxAAkB",
    "outputId": "ca3add65-4b57-4f36-8b0b-e324158a8859"
   },
   "outputs": [
    {
     "data": {
      "text/plain": [
       "0.088266927355571"
      ]
     },
     "execution_count": 85,
     "metadata": {},
     "output_type": "execute_result"
    }
   ],
   "source": [
    "hamming_loss(y_true,y_pred) #ici on a un loss donc il faut faire 1-loss? \n"
   ]
  },
  {
   "cell_type": "code",
   "execution_count": null,
   "metadata": {
    "colab": {
     "base_uri": "https://localhost:8080/"
    },
    "id": "5gOZhBNyAduB",
    "outputId": "dd274af1-3be6-454e-ce47-aa8afb7c21b3"
   },
   "outputs": [
    {
     "data": {
      "text/plain": [
       "0.8911831019342589"
      ]
     },
     "execution_count": 86,
     "metadata": {},
     "output_type": "execute_result"
    }
   ],
   "source": [
    "from sklearn.metrics import zero_one_loss\n",
    "#trouvé sur la doc sklearn: donne le pourcentage de subset non correctement prédits \n",
    "#dans cet exemple =1-accuracy, est ce toujours le cas? \n",
    "zero_one_loss(y_true,y_pred)"
   ]
  },
  {
   "cell_type": "markdown",
   "metadata": {
    "id": "KU_K-Lzj8qof"
   },
   "source": [
    "***2ème méthode: L régressions logistiques unilabel.***"
   ]
  },
  {
   "cell_type": "code",
   "execution_count": null,
   "metadata": {
    "colab": {
     "base_uri": "https://localhost:8080/"
    },
    "id": "HYa5mvP9UcUq",
    "outputId": "b0abd791-9b17-4036-e286-f8afbe9c6fd3"
   },
   "outputs": [
    {
     "name": "stdout",
     "output_type": "stream",
     "text": [
      "asian\n",
      "rnb\n",
      "reggae\n",
      "blues\n",
      "pop\n",
      "dance\n",
      "folk\n",
      "arabic-music\n",
      "indie\n",
      "rock\n",
      "soulfunk\n",
      "latin\n",
      "classical\n",
      "k-pop\n",
      "brazilian\n",
      "metal\n",
      "rap\n",
      "jazz\n",
      "electronic\n",
      "african\n",
      "country\n"
     ]
    }
   ],
   "source": [
    "X=df[x].values\n",
    "Y=df[l]\n",
    "df_hat=pd.DataFrame()\n",
    "df_test=pd.DataFrame()\n",
    "for label in l:\n",
    "  X_train,X_test,Y_train,Y_test= train_test_split(X,Y[label],test_size=0.3, random_state=1)\n",
    "  logreg=LogisticRegression(max_iter=10000)\n",
    "  logreg.fit(X_train,Y_train)\n",
    "  print(label)\n",
    "  y_hat= logreg.predict(X_test)\n",
    "  df_hat[label] = y_hat\n",
    "  df_test[label]=Y_test\n"
   ]
  },
  {
   "cell_type": "code",
   "execution_count": null,
   "metadata": {
    "colab": {
     "base_uri": "https://localhost:8080/",
     "height": 288
    },
    "id": "18b4B0vFF3Zg",
    "outputId": "67636111-a83e-4690-bc3e-3dc4c951bac0"
   },
   "outputs": [
    {
     "data": {
      "text/html": [
       "\n",
       "  <div id=\"df-c58d8915-d381-49ee-8338-1be03889be33\">\n",
       "    <div class=\"colab-df-container\">\n",
       "      <div>\n",
       "<style scoped>\n",
       "    .dataframe tbody tr th:only-of-type {\n",
       "        vertical-align: middle;\n",
       "    }\n",
       "\n",
       "    .dataframe tbody tr th {\n",
       "        vertical-align: top;\n",
       "    }\n",
       "\n",
       "    .dataframe thead th {\n",
       "        text-align: right;\n",
       "    }\n",
       "</style>\n",
       "<table border=\"1\" class=\"dataframe\">\n",
       "  <thead>\n",
       "    <tr style=\"text-align: right;\">\n",
       "      <th></th>\n",
       "      <th>asian</th>\n",
       "      <th>rnb</th>\n",
       "      <th>reggae</th>\n",
       "      <th>blues</th>\n",
       "      <th>pop</th>\n",
       "      <th>dance</th>\n",
       "      <th>folk</th>\n",
       "      <th>arabic-music</th>\n",
       "      <th>indie</th>\n",
       "      <th>rock</th>\n",
       "      <th>soulfunk</th>\n",
       "      <th>latin</th>\n",
       "      <th>classical</th>\n",
       "      <th>k-pop</th>\n",
       "      <th>brazilian</th>\n",
       "      <th>metal</th>\n",
       "      <th>rap</th>\n",
       "      <th>jazz</th>\n",
       "      <th>electronic</th>\n",
       "      <th>african</th>\n",
       "      <th>country</th>\n",
       "    </tr>\n",
       "  </thead>\n",
       "  <tbody>\n",
       "    <tr>\n",
       "      <th>21920</th>\n",
       "      <td>0</td>\n",
       "      <td>1</td>\n",
       "      <td>0</td>\n",
       "      <td>0</td>\n",
       "      <td>1</td>\n",
       "      <td>0</td>\n",
       "      <td>0</td>\n",
       "      <td>0</td>\n",
       "      <td>0</td>\n",
       "      <td>0</td>\n",
       "      <td>0</td>\n",
       "      <td>0</td>\n",
       "      <td>0</td>\n",
       "      <td>0</td>\n",
       "      <td>0</td>\n",
       "      <td>0</td>\n",
       "      <td>0</td>\n",
       "      <td>0</td>\n",
       "      <td>0</td>\n",
       "      <td>0</td>\n",
       "      <td>0</td>\n",
       "    </tr>\n",
       "    <tr>\n",
       "      <th>18847</th>\n",
       "      <td>0</td>\n",
       "      <td>0</td>\n",
       "      <td>0</td>\n",
       "      <td>0</td>\n",
       "      <td>0</td>\n",
       "      <td>0</td>\n",
       "      <td>0</td>\n",
       "      <td>0</td>\n",
       "      <td>0</td>\n",
       "      <td>0</td>\n",
       "      <td>0</td>\n",
       "      <td>0</td>\n",
       "      <td>0</td>\n",
       "      <td>0</td>\n",
       "      <td>0</td>\n",
       "      <td>0</td>\n",
       "      <td>1</td>\n",
       "      <td>0</td>\n",
       "      <td>0</td>\n",
       "      <td>0</td>\n",
       "      <td>0</td>\n",
       "    </tr>\n",
       "    <tr>\n",
       "      <th>19125</th>\n",
       "      <td>0</td>\n",
       "      <td>0</td>\n",
       "      <td>0</td>\n",
       "      <td>0</td>\n",
       "      <td>0</td>\n",
       "      <td>0</td>\n",
       "      <td>0</td>\n",
       "      <td>0</td>\n",
       "      <td>0</td>\n",
       "      <td>0</td>\n",
       "      <td>0</td>\n",
       "      <td>0</td>\n",
       "      <td>1</td>\n",
       "      <td>0</td>\n",
       "      <td>0</td>\n",
       "      <td>0</td>\n",
       "      <td>0</td>\n",
       "      <td>0</td>\n",
       "      <td>0</td>\n",
       "      <td>0</td>\n",
       "      <td>0</td>\n",
       "    </tr>\n",
       "    <tr>\n",
       "      <th>24459</th>\n",
       "      <td>0</td>\n",
       "      <td>0</td>\n",
       "      <td>0</td>\n",
       "      <td>0</td>\n",
       "      <td>0</td>\n",
       "      <td>0</td>\n",
       "      <td>0</td>\n",
       "      <td>0</td>\n",
       "      <td>0</td>\n",
       "      <td>0</td>\n",
       "      <td>0</td>\n",
       "      <td>0</td>\n",
       "      <td>0</td>\n",
       "      <td>0</td>\n",
       "      <td>0</td>\n",
       "      <td>0</td>\n",
       "      <td>1</td>\n",
       "      <td>0</td>\n",
       "      <td>0</td>\n",
       "      <td>0</td>\n",
       "      <td>0</td>\n",
       "    </tr>\n",
       "    <tr>\n",
       "      <th>5752</th>\n",
       "      <td>0</td>\n",
       "      <td>0</td>\n",
       "      <td>0</td>\n",
       "      <td>0</td>\n",
       "      <td>0</td>\n",
       "      <td>0</td>\n",
       "      <td>0</td>\n",
       "      <td>0</td>\n",
       "      <td>0</td>\n",
       "      <td>0</td>\n",
       "      <td>0</td>\n",
       "      <td>0</td>\n",
       "      <td>0</td>\n",
       "      <td>0</td>\n",
       "      <td>0</td>\n",
       "      <td>0</td>\n",
       "      <td>0</td>\n",
       "      <td>0</td>\n",
       "      <td>1</td>\n",
       "      <td>0</td>\n",
       "      <td>0</td>\n",
       "    </tr>\n",
       "  </tbody>\n",
       "</table>\n",
       "</div>\n",
       "      <button class=\"colab-df-convert\" onclick=\"convertToInteractive('df-c58d8915-d381-49ee-8338-1be03889be33')\"\n",
       "              title=\"Convert this dataframe to an interactive table.\"\n",
       "              style=\"display:none;\">\n",
       "        \n",
       "  <svg xmlns=\"http://www.w3.org/2000/svg\" height=\"24px\"viewBox=\"0 0 24 24\"\n",
       "       width=\"24px\">\n",
       "    <path d=\"M0 0h24v24H0V0z\" fill=\"none\"/>\n",
       "    <path d=\"M18.56 5.44l.94 2.06.94-2.06 2.06-.94-2.06-.94-.94-2.06-.94 2.06-2.06.94zm-11 1L8.5 8.5l.94-2.06 2.06-.94-2.06-.94L8.5 2.5l-.94 2.06-2.06.94zm10 10l.94 2.06.94-2.06 2.06-.94-2.06-.94-.94-2.06-.94 2.06-2.06.94z\"/><path d=\"M17.41 7.96l-1.37-1.37c-.4-.4-.92-.59-1.43-.59-.52 0-1.04.2-1.43.59L10.3 9.45l-7.72 7.72c-.78.78-.78 2.05 0 2.83L4 21.41c.39.39.9.59 1.41.59.51 0 1.02-.2 1.41-.59l7.78-7.78 2.81-2.81c.8-.78.8-2.07 0-2.86zM5.41 20L4 18.59l7.72-7.72 1.47 1.35L5.41 20z\"/>\n",
       "  </svg>\n",
       "      </button>\n",
       "      \n",
       "  <style>\n",
       "    .colab-df-container {\n",
       "      display:flex;\n",
       "      flex-wrap:wrap;\n",
       "      gap: 12px;\n",
       "    }\n",
       "\n",
       "    .colab-df-convert {\n",
       "      background-color: #E8F0FE;\n",
       "      border: none;\n",
       "      border-radius: 50%;\n",
       "      cursor: pointer;\n",
       "      display: none;\n",
       "      fill: #1967D2;\n",
       "      height: 32px;\n",
       "      padding: 0 0 0 0;\n",
       "      width: 32px;\n",
       "    }\n",
       "\n",
       "    .colab-df-convert:hover {\n",
       "      background-color: #E2EBFA;\n",
       "      box-shadow: 0px 1px 2px rgba(60, 64, 67, 0.3), 0px 1px 3px 1px rgba(60, 64, 67, 0.15);\n",
       "      fill: #174EA6;\n",
       "    }\n",
       "\n",
       "    [theme=dark] .colab-df-convert {\n",
       "      background-color: #3B4455;\n",
       "      fill: #D2E3FC;\n",
       "    }\n",
       "\n",
       "    [theme=dark] .colab-df-convert:hover {\n",
       "      background-color: #434B5C;\n",
       "      box-shadow: 0px 1px 3px 1px rgba(0, 0, 0, 0.15);\n",
       "      filter: drop-shadow(0px 1px 2px rgba(0, 0, 0, 0.3));\n",
       "      fill: #FFFFFF;\n",
       "    }\n",
       "  </style>\n",
       "\n",
       "      <script>\n",
       "        const buttonEl =\n",
       "          document.querySelector('#df-c58d8915-d381-49ee-8338-1be03889be33 button.colab-df-convert');\n",
       "        buttonEl.style.display =\n",
       "          google.colab.kernel.accessAllowed ? 'block' : 'none';\n",
       "\n",
       "        async function convertToInteractive(key) {\n",
       "          const element = document.querySelector('#df-c58d8915-d381-49ee-8338-1be03889be33');\n",
       "          const dataTable =\n",
       "            await google.colab.kernel.invokeFunction('convertToInteractive',\n",
       "                                                     [key], {});\n",
       "          if (!dataTable) return;\n",
       "\n",
       "          const docLinkHtml = 'Like what you see? Visit the ' +\n",
       "            '<a target=\"_blank\" href=https://colab.research.google.com/notebooks/data_table.ipynb>data table notebook</a>'\n",
       "            + ' to learn more about interactive tables.';\n",
       "          element.innerHTML = '';\n",
       "          dataTable['output_type'] = 'display_data';\n",
       "          await google.colab.output.renderOutput(dataTable, element);\n",
       "          const docLink = document.createElement('div');\n",
       "          docLink.innerHTML = docLinkHtml;\n",
       "          element.appendChild(docLink);\n",
       "        }\n",
       "      </script>\n",
       "    </div>\n",
       "  </div>\n",
       "  "
      ],
      "text/plain": [
       "       asian  rnb  reggae  blues  pop  ...  rap  jazz  electronic  african  country\n",
       "21920      0    1       0      0    1  ...    0     0           0        0        0\n",
       "18847      0    0       0      0    0  ...    1     0           0        0        0\n",
       "19125      0    0       0      0    0  ...    0     0           0        0        0\n",
       "24459      0    0       0      0    0  ...    1     0           0        0        0\n",
       "5752       0    0       0      0    0  ...    0     0           1        0        0\n",
       "\n",
       "[5 rows x 21 columns]"
      ]
     },
     "execution_count": 88,
     "metadata": {},
     "output_type": "execute_result"
    }
   ],
   "source": [
    "df_test.head()"
   ]
  },
  {
   "cell_type": "code",
   "execution_count": null,
   "metadata": {
    "id": "mUyuHxdFnt8a"
   },
   "outputs": [],
   "source": [
    "y_true=df_test.values\n",
    "y_pred=df_hat.values"
   ]
  },
  {
   "cell_type": "markdown",
   "metadata": {
    "id": "_nvA4gDqpX18"
   },
   "source": [
    "Exact Ratio Match = Accuracy"
   ]
  },
  {
   "cell_type": "code",
   "execution_count": null,
   "metadata": {
    "colab": {
     "base_uri": "https://localhost:8080/"
    },
    "id": "3sFj7Lpupk4h",
    "outputId": "7db118fc-bfa7-4555-bb4e-eff81c0e670e"
   },
   "outputs": [
    {
     "data": {
      "text/plain": [
       "0.6891232696110745"
      ]
     },
     "execution_count": 90,
     "metadata": {},
     "output_type": "execute_result"
    }
   ],
   "source": [
    "\n",
    "accuracy_score(y_true,y_pred)"
   ]
  },
  {
   "cell_type": "markdown",
   "metadata": {
    "id": "sLRpiK10p-0N"
   },
   "source": [
    "Precison 'micro': \n",
    "- Calculate metrics globally by counting the total true positives, false negatives and false positives.\n",
    " $$precision_{micro}= \\frac{TP_1+...TP_L}{TP_1+FP_1+...+TP_L+FP_L}$$ \n",
    " Cela signifie que l'on veut traiter toutes les prédictions de manière égale -> c'est sous jacent que les classes sont considérées équilibrées ? \n",
    "\n"
   ]
  },
  {
   "cell_type": "code",
   "execution_count": null,
   "metadata": {
    "colab": {
     "base_uri": "https://localhost:8080/"
    },
    "id": "1GSuSRXSqMJN",
    "outputId": "6933f9e3-7748-4b4b-ea07-612a32219afc"
   },
   "outputs": [
    {
     "data": {
      "text/plain": [
       "0.8653475523577027"
      ]
     },
     "execution_count": 91,
     "metadata": {},
     "output_type": "execute_result"
    }
   ],
   "source": [
    "precision_score(y_true,y_pred,average='micro')"
   ]
  },
  {
   "cell_type": "code",
   "execution_count": null,
   "metadata": {
    "colab": {
     "base_uri": "https://localhost:8080/"
    },
    "id": "FDOIMKWuxCMW",
    "outputId": "8fc9d7bc-6e4b-4010-ffaf-5d1fe96ad740"
   },
   "outputs": [
    {
     "data": {
      "text/plain": [
       "0.8832020562883558"
      ]
     },
     "execution_count": 92,
     "metadata": {},
     "output_type": "execute_result"
    }
   ],
   "source": [
    "precision_score(y_true,y_pred,average='macro')"
   ]
  },
  {
   "cell_type": "markdown",
   "metadata": {
    "id": "qI7qTkgyxa9T"
   },
   "source": [
    "Precision 'weighted': \n",
    "- On fait la moyenne pondéré des precisions pour chaque label. "
   ]
  },
  {
   "cell_type": "code",
   "execution_count": null,
   "metadata": {
    "colab": {
     "base_uri": "https://localhost:8080/"
    },
    "id": "1i2L_Jg0xYX6",
    "outputId": "215cc2cc-d66f-4262-e23c-f9371b259e4a"
   },
   "outputs": [
    {
     "data": {
      "text/plain": [
       "0.86119839283671"
      ]
     },
     "execution_count": 93,
     "metadata": {},
     "output_type": "execute_result"
    }
   ],
   "source": [
    "precision_score(y_true,y_pred,average='weighted')"
   ]
  },
  {
   "cell_type": "code",
   "execution_count": null,
   "metadata": {
    "colab": {
     "base_uri": "https://localhost:8080/"
    },
    "id": "TNrAP0oYx1iM",
    "outputId": "acfb27ef-c948-4983-d5de-aa7fbc0a933a"
   },
   "outputs": [
    {
     "data": {
      "text/plain": [
       "0.7578485428153483"
      ]
     },
     "execution_count": 98,
     "metadata": {},
     "output_type": "execute_result"
    }
   ],
   "source": [
    "recall_score(y_true,y_pred,average='micro')"
   ]
  },
  {
   "cell_type": "code",
   "execution_count": null,
   "metadata": {
    "colab": {
     "base_uri": "https://localhost:8080/"
    },
    "id": "8DPpxk0qyJFh",
    "outputId": "4d9b6353-4770-4e11-9130-80f62d0023cb"
   },
   "outputs": [
    {
     "data": {
      "text/plain": [
       "0.7578485428153483"
      ]
     },
     "execution_count": 99,
     "metadata": {},
     "output_type": "execute_result"
    }
   ],
   "source": [
    "recall_score(y_true,y_pred,average='weighted')"
   ]
  },
  {
   "cell_type": "code",
   "execution_count": null,
   "metadata": {
    "colab": {
     "base_uri": "https://localhost:8080/"
    },
    "id": "nM4sJFkEPIKZ",
    "outputId": "48160645-01e6-4130-f60f-5a0377f91a1e"
   },
   "outputs": [
    {
     "data": {
      "text/plain": [
       "array([[7503,    0],\n",
       "       [  25,   57]])"
      ]
     },
     "execution_count": 126,
     "metadata": {},
     "output_type": "execute_result"
    }
   ],
   "source": [
    "from sklearn.metrics import multilabel_confusion_matrix\n",
    "conf=multilabel_confusion_matrix(y_true,y_pred)\n",
    "conf[0]"
   ]
  },
  {
   "cell_type": "code",
   "execution_count": null,
   "metadata": {
    "id": "v-axLpsTufMZ"
   },
   "outputs": [],
   "source": [
    "import itertools\n",
    "def plot_confusion_matrix(cm, classes,\n",
    "                          normalize=False,\n",
    "                          title='Confusion matrix',\n",
    "                          cmap=plt.cm.Blues):\n",
    "    \"\"\"\n",
    "    This function prints and plots the confusion matrix.\n",
    "    Normalization can be applied by setting `normalize=True`.\n",
    "    \"\"\"\n",
    "    plt.imshow(cm, interpolation='nearest', cmap=cmap)\n",
    "    plt.title(title)\n",
    "    plt.colorbar()\n",
    "    tick_marks = np.arange(len(classes))\n",
    "    plt.xticks(tick_marks, classes, rotation=45)\n",
    "    plt.yticks(tick_marks, classes)\n",
    "\n",
    "    if normalize:\n",
    "        cm = cm.astype('float') / cm.sum(axis=1)[:, np.newaxis]\n",
    "        print(\"Normalized confusion matrix\")\n",
    "    else:\n",
    "        print('Confusion matrix, without normalization')\n",
    "\n",
    "    print(cm)\n",
    "\n",
    "    thresh = cm.max() / 2.\n",
    "    for i, j in itertools.product(range(cm.shape[0]), range(cm.shape[1])):\n",
    "        plt.text(j, i, cm[i, j],\n",
    "                 horizontalalignment=\"center\",\n",
    "                 color=\"white\" if cm[i, j] > thresh else \"black\")\n",
    "\n",
    "    plt.tight_layout()\n",
    "    plt.ylabel('True label')\n",
    "    plt.xlabel('Predicted label')\n",
    "    plt.show()\n"
   ]
  },
  {
   "cell_type": "code",
   "execution_count": null,
   "metadata": {
    "colab": {
     "base_uri": "https://localhost:8080/",
     "height": 363
    },
    "id": "TwQMyo7RvluB",
    "outputId": "9610e95c-df61-452a-e257-eae7b6088c95"
   },
   "outputs": [
    {
     "name": "stdout",
     "output_type": "stream",
     "text": [
      "Confusion matrix, without normalization\n",
      "[[7503    0]\n",
      " [  25   57]]\n"
     ]
    },
    {
     "data": {
      "image/png": "[encoded data removed]",
      "text/plain": [
       "<Figure size 432x288 with 2 Axes>"
      ]
     },
     "metadata": {},
     "output_type": "display_data"
    }
   ],
   "source": [
    "plot_confusion_matrix(conf[0], classes= ['Asian','others'])"
   ]
  }
 ],
 "metadata": {
  "colab": {
   "collapsed_sections": [],
   "name": "metrics_models",
   "provenance": []
  },
  "kernelspec": {
   "display_name": "Python 3 (ipykernel)",
   "language": "python",
   "name": "python3"
  },
  "language_info": {
   "codemirror_mode": {
    "name": "ipython",
    "version": 3
   },
   "file_extension": ".py",
   "mimetype": "text/x-python",
   "name": "python",
   "nbconvert_exporter": "python",
   "pygments_lexer": "ipython3",
   "version": "3.9.7"
  }
 },
 "nbformat": 4,
 "nbformat_minor": 4
}
