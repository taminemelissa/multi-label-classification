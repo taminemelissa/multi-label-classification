{
 "cells": [
  {
   "cell_type": "markdown",
   "id": "9af1c88c-343d-4e11-b8db-7f06c77af24c",
   "metadata": {},
   "source": [
    "# Classifieur aléatoire (*random classifier*)"
   ]
  },
  {
   "cell_type": "markdown",
   "id": "e6cafc24-5705-4309-8a94-040397ae7048",
   "metadata": {},
   "source": [
    "## Importation de modules utiles"
   ]
  },
  {
   "cell_type": "code",
   "execution_count": 18,
   "id": "87ccce61-2781-4e33-80f1-c710f1bd78f6",
   "metadata": {},
   "outputs": [],
   "source": [
    "import numpy as np\n",
    "import pandas as pd\n",
    "from math import *\n",
    "import matplotlib.pyplot as plt\n",
    "import scipy\n",
    "import seaborn as sns\n",
    "import sklearn.preprocessing\n",
    "from sklearn.model_selection import train_test_split\n",
    "from sklearn.metrics import precision_score\n",
    "from sklearn.metrics import accuracy_score\n",
    "from sklearn.metrics import recall_score\n",
    "from sklearn.metrics import hamming_loss\n",
    "from sklearn.metrics import f1_score\n",
    "from src.modelisation.utils import *\n",
    "import random"
   ]
  },
  {
   "cell_type": "markdown",
   "id": "77cde721-6d6c-4428-9168-aab4c8c60cbb",
   "metadata": {},
   "source": [
    "## Chargement et formatage des données"
   ]
  },
  {
   "cell_type": "markdown",
   "id": "56ac206a-cd37-4a9e-8277-a649740d073a",
   "metadata": {},
   "source": [
    "Nous commençons par charger les données. "
   ]
  },
  {
   "cell_type": "code",
   "execution_count": 2,
   "id": "588ba1ee-2aa8-4d2b-9949-507d6176bf65",
   "metadata": {},
   "outputs": [],
   "source": [
    "df = pd.read_parquet(\"dataset2.parquet\", engine=\"pyarrow\")"
   ]
  },
  {
   "cell_type": "markdown",
   "id": "6997c705-9c37-4770-8d54-39599dc83617",
   "metadata": {},
   "source": [
    "Nous allons entraîner le classifieur aléatoire seulement sur les données associées à un unique label. Cela correspond à environ 84% des données."
   ]
  },
  {
   "cell_type": "code",
   "execution_count": 3,
   "id": "5af006d3-5627-4a95-a912-c144bcb19501",
   "metadata": {},
   "outputs": [
    {
     "name": "stderr",
     "output_type": "stream",
     "text": [
      "/home/jovyan/work/multi-label-classification/src/modelisation/utils.py:52: FutureWarning: In a future version of pandas all arguments of DataFrame.drop except for the argument 'labels' will be keyword-only\n",
      "  df_unique.drop(to_drop, 0, inplace=True)\n"
     ]
    }
   ],
   "source": [
    "df_unique = keep_unique_label_data(df)"
   ]
  },
  {
   "cell_type": "code",
   "execution_count": 4,
   "id": "2230830b-1a0c-4a84-a4a7-8f8c6bada3c7",
   "metadata": {},
   "outputs": [
    {
     "data": {
      "text/plain": [
       "(42667, 26)"
      ]
     },
     "execution_count": 4,
     "metadata": {},
     "output_type": "execute_result"
    }
   ],
   "source": [
    "df_unique.shape"
   ]
  },
  {
   "cell_type": "markdown",
   "id": "cd878952-9be1-4e1e-969d-ae1faccc64fe",
   "metadata": {},
   "source": [
    "Puis nous créeons une liste *labels_unique*. Chaque élément i de *labels_unique* est une liste contenant le ou les genres associés au track n°i de la base de données *df_unique*."
   ]
  },
  {
   "cell_type": "code",
   "execution_count": 14,
   "id": "306769ca-0032-46a5-899d-7263a992d9b4",
   "metadata": {},
   "outputs": [],
   "source": [
    "labels_unique = create_labels(df_unique, 21)"
   ]
  },
  {
   "cell_type": "markdown",
   "id": "12bbd7c0-1d7a-4c9f-b3da-dbe3de0d5fc4",
   "metadata": {},
   "source": [
    "Nous obtenons ainsi les valeurs vraies des genres correspondant aux *tracks* de notre base de données."
   ]
  },
  {
   "cell_type": "code",
   "execution_count": 16,
   "id": "68e07441-dbb6-406a-ba4e-604295625822",
   "metadata": {},
   "outputs": [],
   "source": [
    "y_true = [label[0] for label in labels_unique]"
   ]
  },
  {
   "cell_type": "markdown",
   "id": "6d108a52-7cf5-4f9f-a9d1-b175eb949fb3",
   "metadata": {},
   "source": [
    "## Mise en forme des résultats"
   ]
  },
  {
   "cell_type": "code",
   "execution_count": 22,
   "id": "674b0992-a4d3-458f-8801-af5dfc0dc691",
   "metadata": {},
   "outputs": [],
   "source": [
    "metrics = ['Accuracy','Precision micro', 'Recall micro', 'F1 score micro', 'Hamming-Loss']"
   ]
  },
  {
   "cell_type": "code",
   "execution_count": 27,
   "id": "210faf88-bbdf-49f6-8b4a-78e50ef3cc7a",
   "metadata": {},
   "outputs": [],
   "source": [
    "final_res = pd.DataFrame(columns=metrics)"
   ]
  },
  {
   "cell_type": "code",
   "execution_count": 24,
   "id": "0f391b6f-8831-4fab-8cd6-1a49ac0d9135",
   "metadata": {},
   "outputs": [],
   "source": [
    "def all_metrics(y_true,y_pred):\n",
    "    acc = accuracy_score(y_true,y_pred)\n",
    "    pre = precision_score(y_true,y_pred,average='micro')\n",
    "    rec = recall_score(y_true,y_pred,average='micro')\n",
    "    f1 = f1_score(y_true,y_pred,average='micro')\n",
    "    hl = hamming_loss(y_true,y_pred)\n",
    "    r = [acc, pre, rec, f1, hl]\n",
    "    return(r)"
   ]
  },
  {
   "cell_type": "markdown",
   "id": "b19c98b4-6850-4376-b835-ef4da3718489",
   "metadata": {},
   "source": [
    "## Méthode naïve : classifieur aléatoire"
   ]
  },
  {
   "cell_type": "markdown",
   "id": "624c7ffb-1ad7-4f29-9349-0a075678b08b",
   "metadata": {},
   "source": [
    "La méthode du classifieur naïf consiste à associer à chaque *track* un genre de manière aléatoire."
   ]
  },
  {
   "cell_type": "code",
   "execution_count": 19,
   "id": "02a874a5-b94d-42b6-963a-2bc3e0fab9d7",
   "metadata": {},
   "outputs": [],
   "source": [
    "genres = list(df_unique.columns[:21])\n",
    "y_pred = [random.choice(genres) for i in range(len(df_unique))]"
   ]
  },
  {
   "cell_type": "markdown",
   "id": "64f30b1a-300a-4046-a1d0-8b7622279744",
   "metadata": {},
   "source": [
    "Nous calculons ensuite l'ensemble des métriques pour ce modèle."
   ]
  },
  {
   "cell_type": "code",
   "execution_count": 25,
   "id": "d9c4b16b-5cd1-41b3-b578-75778a4e3071",
   "metadata": {},
   "outputs": [],
   "source": [
    "res = all_metrics(y_true, y_pred)"
   ]
  },
  {
   "cell_type": "code",
   "execution_count": 28,
   "id": "32d80435-84bb-486e-bfd4-f22e9d502cd1",
   "metadata": {},
   "outputs": [],
   "source": [
    "final_res.loc['Random'] = res"
   ]
  },
  {
   "cell_type": "code",
   "execution_count": 29,
   "id": "589d8bd3-fb84-4ac2-9142-c5384044c1c5",
   "metadata": {},
   "outputs": [
    {
     "data": {
      "text/html": [
       "<div>\n",
       "<style scoped>\n",
       "    .dataframe tbody tr th:only-of-type {\n",
       "        vertical-align: middle;\n",
       "    }\n",
       "\n",
       "    .dataframe tbody tr th {\n",
       "        vertical-align: top;\n",
       "    }\n",
       "\n",
       "    .dataframe thead th {\n",
       "        text-align: right;\n",
       "    }\n",
       "</style>\n",
       "<table border=\"1\" class=\"dataframe\">\n",
       "  <thead>\n",
       "    <tr style=\"text-align: right;\">\n",
       "      <th></th>\n",
       "      <th>Accuracy</th>\n",
       "      <th>Precision micro</th>\n",
       "      <th>Recall micro</th>\n",
       "      <th>F1 score micro</th>\n",
       "      <th>Hamming-Loss</th>\n",
       "    </tr>\n",
       "  </thead>\n",
       "  <tbody>\n",
       "    <tr>\n",
       "      <th>Random</th>\n",
       "      <td>0.046687</td>\n",
       "      <td>0.046687</td>\n",
       "      <td>0.046687</td>\n",
       "      <td>0.046687</td>\n",
       "      <td>0.953313</td>\n",
       "    </tr>\n",
       "  </tbody>\n",
       "</table>\n",
       "</div>"
      ],
      "text/plain": [
       "        Accuracy  Precision micro  Recall micro  F1 score micro  Hamming-Loss\n",
       "Random  0.046687         0.046687      0.046687        0.046687      0.953313"
      ]
     },
     "execution_count": 29,
     "metadata": {},
     "output_type": "execute_result"
    }
   ],
   "source": [
    "final_res"
   ]
  }
 ],
 "metadata": {
  "kernelspec": {
   "display_name": "Python 3 (ipykernel)",
   "language": "python",
   "name": "python3"
  },
  "language_info": {
   "codemirror_mode": {
    "name": "ipython",
    "version": 3
   },
   "file_extension": ".py",
   "mimetype": "text/x-python",
   "name": "python",
   "nbconvert_exporter": "python",
   "pygments_lexer": "ipython3",
   "version": "3.9.7"
  }
 },
 "nbformat": 4,
 "nbformat_minor": 5
}
