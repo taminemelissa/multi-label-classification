{
 "cells": [
  {
   "cell_type": "markdown",
   "id": "601d3cba-6488-4549-8e0e-57956d4a2b45",
   "metadata": {},
   "source": [
    "# Visualisation par réduction de dimmension des données - t-SNE"
   ]
  },
  {
   "cell_type": "markdown",
   "id": "fdffe8c3-4d02-4395-a879-2ae523d51b87",
   "metadata": {},
   "source": [
    "## Importation des modules utiles"
   ]
  },
  {
   "cell_type": "code",
   "execution_count": 1,
   "id": "278584ff-cb54-43b2-b9f7-98b4c4989625",
   "metadata": {},
   "outputs": [],
   "source": [
    "import numpy as np\n",
    "import pandas as pd\n",
    "import matplotlib.pyplot as plt\n",
    "from sklearn.manifold import TSNE\n",
    "from src.modelisation.utils import *"
   ]
  },
  {
   "cell_type": "markdown",
   "id": "cbb55442-d5c4-40bc-a427-07191ba4aeaa",
   "metadata": {},
   "source": [
    "## Chargement et formattage des données"
   ]
  },
  {
   "cell_type": "markdown",
   "id": "1bf28066-6e53-4370-b2ad-fc5300847aeb",
   "metadata": {},
   "source": [
    "Nous commençons par charger les données."
   ]
  },
  {
   "cell_type": "code",
   "execution_count": 2,
   "id": "902bac92-d645-440e-897e-1aff62c3bc1d",
   "metadata": {},
   "outputs": [],
   "source": [
    "df = pd.read_parquet(\"dataset2.parquet\", engine=\"pyarrow\")"
   ]
  },
  {
   "cell_type": "markdown",
   "id": "d92aa00a-75d0-4936-a2cb-35609deb90d1",
   "metadata": {},
   "source": [
    "Nous allons procéder à la visualisation seulement sur les données associées à un unique label. Cela correspond à environ 84% des données."
   ]
  },
  {
   "cell_type": "code",
   "execution_count": 17,
   "id": "6f0ee1f2-3a20-405f-8d83-c5ce7e5f73ad",
   "metadata": {},
   "outputs": [
    {
     "name": "stderr",
     "output_type": "stream",
     "text": [
      "/tmp/ipykernel_350/4079869680.py:8: FutureWarning: In a future version of pandas all arguments of DataFrame.drop except for the argument 'labels' will be keyword-only\n",
      "  df_unique.drop(to_drop,0,inplace=True)\n"
     ]
    }
   ],
   "source": [
    "df_unique = keep_unique_label_data(df)"
   ]
  },
  {
   "cell_type": "code",
   "execution_count": 23,
   "id": "738bc5a7-2680-479e-9264-902c756879e5",
   "metadata": {},
   "outputs": [
    {
     "data": {
      "text/plain": [
       "(42667, 26)"
      ]
     },
     "execution_count": 23,
     "metadata": {},
     "output_type": "execute_result"
    }
   ],
   "source": [
    "df_unique.shape"
   ]
  },
  {
   "cell_type": "markdown",
   "id": "23ce5474-27e0-4cd0-b2ec-fbb3b51e0518",
   "metadata": {},
   "source": [
    "Puis nous créeons une liste *labels_unique*. Chaque élément i de *labels_unique* est une liste contenant le ou les genres associés au track n°i de la base de données *df_unique*."
   ]
  },
  {
   "cell_type": "code",
   "execution_count": 24,
   "id": "7a646d5b-d696-440c-9d47-5bce88d14f3d",
   "metadata": {},
   "outputs": [],
   "source": [
    "labels_unique = create_labels(df_unique, 21)"
   ]
  },
  {
   "cell_type": "markdown",
   "id": "ed44078b-1194-437f-adc2-d5df828ae599",
   "metadata": {},
   "source": [
    "Nous convertissons ensuite les genres sous formes d'entiers."
   ]
  },
  {
   "cell_type": "code",
   "execution_count": 30,
   "id": "4dd7721d-f33f-4800-94aa-565a346302c3",
   "metadata": {},
   "outputs": [],
   "source": [
    "Y = convert_string_labels_into_numbers(df_unique, labels_unique)"
   ]
  },
  {
   "cell_type": "markdown",
   "id": "d4a33e5c-35fc-4e95-a3d1-2bbe0e4967a1",
   "metadata": {},
   "source": [
    "Enfin, nous rassemblons les *audio features* puis les *usage features* de chaque *track* associé à un unique label et nous procédons à une réduction de dimension de chacun de ces vecteurs afin de les transformer en vecteurs à deux dimmensions pouvant être représentés dans un plan."
   ]
  },
  {
   "cell_type": "markdown",
   "id": "f0d464da-915d-4a6f-8521-0217758c76f1",
   "metadata": {},
   "source": [
    "Remarque : Nous ne conservons que les 1000 premiers *tracks* pour ne pas surcharger les graphiques."
   ]
  },
  {
   "cell_type": "code",
   "execution_count": null,
   "id": "05296ddf-7940-497c-ac9d-94ee76d1d8b2",
   "metadata": {},
   "outputs": [],
   "source": [
    "audio_features = [list(df_unique.values[i][22]) for i in range(1000)]\n",
    "X_audio = np.array(audio_features)"
   ]
  },
  {
   "cell_type": "code",
   "execution_count": null,
   "id": "619d039b-25f2-46f0-8f47-ce8a6af9794a",
   "metadata": {},
   "outputs": [],
   "source": [
    "usage_features = [list(df_unique.values[i][23]) for i in range(1000)]\n",
    "X_usage = np.array(usage_features)"
   ]
  },
  {
   "cell_type": "markdown",
   "id": "66c325d2-0ff0-44fc-ba4d-626b9a02f2da",
   "metadata": {},
   "source": [
    "## Visualisation des *audio features*"
   ]
  },
  {
   "cell_type": "markdown",
   "id": "e3745342-0627-451c-92d2-c5c9412f3595",
   "metadata": {},
   "source": [
    "Nous procédons à la réduction de dimension par la méthode t-SNE."
   ]
  },
  {
   "cell_type": "code",
   "execution_count": null,
   "id": "89f31956-2a3b-4893-9ef7-f145010c8b9e",
   "metadata": {},
   "outputs": [],
   "source": [
    "X_audio_embedded = TSNE(n_components=2, learning_rate='auto',init='random').fit_transform(X_audio)"
   ]
  },
  {
   "cell_type": "code",
   "execution_count": null,
   "id": "006a54a8-318b-44a3-a826-b413f3fdea59",
   "metadata": {},
   "outputs": [],
   "source": [
    "fig1 = plt.figure(figsize=(12,7))\n",
    "plt.scatter(X_audio_embedded[:,0], X_audio_embedded[:,1], c=Y[:1000],cmap='Spectral',s=5)\n",
    "plt.gca().set_aspect('equal','datalim')\n",
    "plt.colorbar(boundaries=np.arange(0,21)).set_ticks(np.arange(0,21))\n",
    "plt.title('Visualisation des audio features après réduction de dimmension par la méthode t-SNE')\n",
    "plt.show()"
   ]
  },
  {
   "cell_type": "markdown",
   "id": "41ae0b77-c098-4850-8a55-0e0a11031c5c",
   "metadata": {},
   "source": [
    "## Visualisation des *usage features*"
   ]
  },
  {
   "cell_type": "markdown",
   "id": "fda6d60c-23f0-475c-baa6-c87f79da83f6",
   "metadata": {},
   "source": [
    "Nous procédons à la réduction de dimension par la méthode t-SNE."
   ]
  },
  {
   "cell_type": "code",
   "execution_count": null,
   "id": "adc23885-b48d-4b86-8ebc-2bc750865d7a",
   "metadata": {},
   "outputs": [],
   "source": [
    "X_usage_embedded = TSNE(n_components=2, learning_rate='auto',init='random').fit_transform(X_usage)"
   ]
  },
  {
   "cell_type": "code",
   "execution_count": null,
   "id": "50d84742-f3d4-433d-8bef-726da660fe65",
   "metadata": {},
   "outputs": [],
   "source": [
    "fig2 = plt.figure(figsize=(12,7))\n",
    "plt.scatter(X_usage_embedded[:,0], X_usage_embedded[:,1], c=Y[:1000],cmap='Spectral',s=5)\n",
    "plt.gca().set_aspect('equal','datalim')\n",
    "plt.colorbar(boundaries=np.arange(0,21)).set_ticks(np.arange(0,21))\n",
    "plt.title('Visualisation des usage features après réduction de dimmension par la méthode t-SNE')\n",
    "plt.show()"
   ]
  },
  {
   "cell_type": "markdown",
   "id": "1d507010-febe-46bb-b1ca-4150e52efbf2",
   "metadata": {},
   "source": [
    "**Analyse** :"
   ]
  }
 ],
 "metadata": {
  "kernelspec": {
   "display_name": "Python 3 (ipykernel)",
   "language": "python",
   "name": "python3"
  },
  "language_info": {
   "codemirror_mode": {
    "name": "ipython",
    "version": 3
   },
   "file_extension": ".py",
   "mimetype": "text/x-python",
   "name": "python",
   "nbconvert_exporter": "python",
   "pygments_lexer": "ipython3",
   "version": "3.9.7"
  }
 },
 "nbformat": 4,
 "nbformat_minor": 5
}
