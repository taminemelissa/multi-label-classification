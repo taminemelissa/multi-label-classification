{
 "cells": [
  {
   "cell_type": "code",
   "execution_count": 78,
   "metadata": {},
   "outputs": [],
   "source": [
    "import os\n",
    "import sys\n",
    "project_dir = os.getcwd().split('notebooks')[0]\n",
    "sys.path.append(project_dir)"
   ]
  },
  {
   "cell_type": "code",
   "execution_count": 79,
   "metadata": {},
   "outputs": [],
   "source": [
    "import numpy as np\n",
    "import pandas as pd\n",
    "from math import *\n",
    "import matplotlib.pyplot as plt\n",
    "import scipy\n",
    "import seaborn as sns\n",
    "import sklearn.preprocessing\n",
    "from sklearn.linear_model import LogisticRegression\n",
    "from sklearn.model_selection import train_test_split \n",
    "from src.utils.extract_data import *\n",
    "from src.utils.metrics_plot import *\n",
    "from sklearn.metrics import precision_score\n",
    "from sklearn.metrics import accuracy_score\n",
    "from sklearn.metrics import recall_score\n",
    "from sklearn.metrics import hamming_loss\n",
    "from sklearn.metrics import f1_score\n",
    "from sklearn.metrics import multilabel_confusion_matrix\n",
    "from statistics import mean"
   ]
  },
  {
   "cell_type": "markdown",
   "metadata": {},
   "source": [
    "# RAPPEL MÉTRIQUES\n",
    "--> elles se décomposent en **micro**, **macro** et **weighted** en général\n",
    "- micro en général pour la généralisation de la classification binaire à la multi-labels\n",
    "- macro comme une moyenne de la métrique sur chacun des labels (les labels sont donc supposés équitablement répartis dans l'échantillon) \n",
    "- weighted: on fait une moyenne pondérée de la métrique où balance par le poids ie la fréquence d'apparition du label.\n",
    "\n",
    "\\\n",
    "Ici on choisira **micro**\n",
    "\n",
    " On rappelle également que: \n",
    "## Precision \n",
    "$$precision = \\frac{TP}{TP+FP}$$ \n",
    "## Recall \n",
    "$$recall= \\frac{TP}{TP+FN} $$\n",
    "## F1-score\n",
    " $$f1-score= \\frac{precision * recall}{precision + recall} $$\n",
    "## Hamming Loss\n",
    " hamming loss = la proportion de labels incorrets \n",
    " \n",
    " \n",
    " \n",
    "\n"
   ]
  },
  {
   "cell_type": "markdown",
   "metadata": {
    "tags": []
   },
   "source": [
    "# Préparation des données"
   ]
  },
  {
   "cell_type": "code",
   "execution_count": 178,
   "metadata": {},
   "outputs": [
    {
     "data": {
      "text/html": [
       "<div>\n",
       "<style scoped>\n",
       "    .dataframe tbody tr th:only-of-type {\n",
       "        vertical-align: middle;\n",
       "    }\n",
       "\n",
       "    .dataframe tbody tr th {\n",
       "        vertical-align: top;\n",
       "    }\n",
       "\n",
       "    .dataframe thead th {\n",
       "        text-align: right;\n",
       "    }\n",
       "</style>\n",
       "<table border=\"1\" class=\"dataframe\">\n",
       "  <thead>\n",
       "    <tr style=\"text-align: right;\">\n",
       "      <th></th>\n",
       "      <th>asian</th>\n",
       "      <th>rnb</th>\n",
       "      <th>reggae</th>\n",
       "      <th>blues</th>\n",
       "      <th>pop</th>\n",
       "      <th>dance</th>\n",
       "      <th>folk</th>\n",
       "      <th>arabic-music</th>\n",
       "      <th>indie</th>\n",
       "      <th>rock</th>\n",
       "      <th>...</th>\n",
       "      <th>usage_feature_119</th>\n",
       "      <th>usage_feature_120</th>\n",
       "      <th>usage_feature_121</th>\n",
       "      <th>usage_feature_122</th>\n",
       "      <th>usage_feature_123</th>\n",
       "      <th>usage_feature_124</th>\n",
       "      <th>usage_feature_125</th>\n",
       "      <th>usage_feature_126</th>\n",
       "      <th>usage_feature_127</th>\n",
       "      <th>usage_feature_128</th>\n",
       "    </tr>\n",
       "    <tr>\n",
       "      <th>song_index</th>\n",
       "      <th></th>\n",
       "      <th></th>\n",
       "      <th></th>\n",
       "      <th></th>\n",
       "      <th></th>\n",
       "      <th></th>\n",
       "      <th></th>\n",
       "      <th></th>\n",
       "      <th></th>\n",
       "      <th></th>\n",
       "      <th></th>\n",
       "      <th></th>\n",
       "      <th></th>\n",
       "      <th></th>\n",
       "      <th></th>\n",
       "      <th></th>\n",
       "      <th></th>\n",
       "      <th></th>\n",
       "      <th></th>\n",
       "      <th></th>\n",
       "      <th></th>\n",
       "    </tr>\n",
       "  </thead>\n",
       "  <tbody>\n",
       "    <tr>\n",
       "      <th>195</th>\n",
       "      <td>0</td>\n",
       "      <td>0</td>\n",
       "      <td>0</td>\n",
       "      <td>0</td>\n",
       "      <td>0</td>\n",
       "      <td>0</td>\n",
       "      <td>0</td>\n",
       "      <td>0</td>\n",
       "      <td>0</td>\n",
       "      <td>0</td>\n",
       "      <td>...</td>\n",
       "      <td>0.008582</td>\n",
       "      <td>-0.000024</td>\n",
       "      <td>-0.272207</td>\n",
       "      <td>0.210503</td>\n",
       "      <td>0.030972</td>\n",
       "      <td>0.080964</td>\n",
       "      <td>-0.015423</td>\n",
       "      <td>0.102148</td>\n",
       "      <td>0.365081</td>\n",
       "      <td>-0.066897</td>\n",
       "    </tr>\n",
       "    <tr>\n",
       "      <th>417</th>\n",
       "      <td>0</td>\n",
       "      <td>0</td>\n",
       "      <td>0</td>\n",
       "      <td>0</td>\n",
       "      <td>0</td>\n",
       "      <td>0</td>\n",
       "      <td>0</td>\n",
       "      <td>0</td>\n",
       "      <td>0</td>\n",
       "      <td>1</td>\n",
       "      <td>...</td>\n",
       "      <td>-0.182309</td>\n",
       "      <td>-0.051225</td>\n",
       "      <td>-0.004617</td>\n",
       "      <td>-0.005726</td>\n",
       "      <td>-0.038334</td>\n",
       "      <td>-0.063972</td>\n",
       "      <td>0.053881</td>\n",
       "      <td>-0.001152</td>\n",
       "      <td>0.045032</td>\n",
       "      <td>0.027505</td>\n",
       "    </tr>\n",
       "    <tr>\n",
       "      <th>530</th>\n",
       "      <td>0</td>\n",
       "      <td>0</td>\n",
       "      <td>0</td>\n",
       "      <td>0</td>\n",
       "      <td>1</td>\n",
       "      <td>0</td>\n",
       "      <td>0</td>\n",
       "      <td>0</td>\n",
       "      <td>0</td>\n",
       "      <td>0</td>\n",
       "      <td>...</td>\n",
       "      <td>-0.044620</td>\n",
       "      <td>-0.132282</td>\n",
       "      <td>-0.141684</td>\n",
       "      <td>-0.106271</td>\n",
       "      <td>-0.189065</td>\n",
       "      <td>-0.229804</td>\n",
       "      <td>0.083824</td>\n",
       "      <td>-0.160790</td>\n",
       "      <td>0.040417</td>\n",
       "      <td>-0.094503</td>\n",
       "    </tr>\n",
       "    <tr>\n",
       "      <th>909</th>\n",
       "      <td>0</td>\n",
       "      <td>0</td>\n",
       "      <td>0</td>\n",
       "      <td>0</td>\n",
       "      <td>0</td>\n",
       "      <td>0</td>\n",
       "      <td>0</td>\n",
       "      <td>0</td>\n",
       "      <td>0</td>\n",
       "      <td>1</td>\n",
       "      <td>...</td>\n",
       "      <td>-0.127573</td>\n",
       "      <td>-0.068515</td>\n",
       "      <td>-0.106374</td>\n",
       "      <td>-0.102694</td>\n",
       "      <td>-0.066937</td>\n",
       "      <td>0.026911</td>\n",
       "      <td>-0.032158</td>\n",
       "      <td>0.063670</td>\n",
       "      <td>-0.026653</td>\n",
       "      <td>-0.068251</td>\n",
       "    </tr>\n",
       "    <tr>\n",
       "      <th>1257</th>\n",
       "      <td>0</td>\n",
       "      <td>0</td>\n",
       "      <td>0</td>\n",
       "      <td>0</td>\n",
       "      <td>0</td>\n",
       "      <td>0</td>\n",
       "      <td>0</td>\n",
       "      <td>0</td>\n",
       "      <td>0</td>\n",
       "      <td>0</td>\n",
       "      <td>...</td>\n",
       "      <td>0.024463</td>\n",
       "      <td>-0.052952</td>\n",
       "      <td>-0.059056</td>\n",
       "      <td>0.041670</td>\n",
       "      <td>-0.025673</td>\n",
       "      <td>-0.000446</td>\n",
       "      <td>-0.003438</td>\n",
       "      <td>0.060359</td>\n",
       "      <td>0.058938</td>\n",
       "      <td>0.029523</td>\n",
       "    </tr>\n",
       "    <tr>\n",
       "      <th>...</th>\n",
       "      <td>...</td>\n",
       "      <td>...</td>\n",
       "      <td>...</td>\n",
       "      <td>...</td>\n",
       "      <td>...</td>\n",
       "      <td>...</td>\n",
       "      <td>...</td>\n",
       "      <td>...</td>\n",
       "      <td>...</td>\n",
       "      <td>...</td>\n",
       "      <td>...</td>\n",
       "      <td>...</td>\n",
       "      <td>...</td>\n",
       "      <td>...</td>\n",
       "      <td>...</td>\n",
       "      <td>...</td>\n",
       "      <td>...</td>\n",
       "      <td>...</td>\n",
       "      <td>...</td>\n",
       "      <td>...</td>\n",
       "      <td>...</td>\n",
       "    </tr>\n",
       "    <tr>\n",
       "      <th>49454</th>\n",
       "      <td>0</td>\n",
       "      <td>0</td>\n",
       "      <td>0</td>\n",
       "      <td>0</td>\n",
       "      <td>1</td>\n",
       "      <td>0</td>\n",
       "      <td>0</td>\n",
       "      <td>0</td>\n",
       "      <td>0</td>\n",
       "      <td>0</td>\n",
       "      <td>...</td>\n",
       "      <td>-0.034780</td>\n",
       "      <td>0.112294</td>\n",
       "      <td>-0.084898</td>\n",
       "      <td>-0.191570</td>\n",
       "      <td>0.153120</td>\n",
       "      <td>0.106828</td>\n",
       "      <td>0.056458</td>\n",
       "      <td>0.127816</td>\n",
       "      <td>0.086341</td>\n",
       "      <td>-0.024928</td>\n",
       "    </tr>\n",
       "    <tr>\n",
       "      <th>49589</th>\n",
       "      <td>0</td>\n",
       "      <td>0</td>\n",
       "      <td>0</td>\n",
       "      <td>0</td>\n",
       "      <td>0</td>\n",
       "      <td>0</td>\n",
       "      <td>0</td>\n",
       "      <td>1</td>\n",
       "      <td>0</td>\n",
       "      <td>0</td>\n",
       "      <td>...</td>\n",
       "      <td>0.063418</td>\n",
       "      <td>0.166352</td>\n",
       "      <td>0.021962</td>\n",
       "      <td>0.003740</td>\n",
       "      <td>0.146321</td>\n",
       "      <td>-0.094655</td>\n",
       "      <td>-0.118755</td>\n",
       "      <td>-0.008160</td>\n",
       "      <td>-0.068332</td>\n",
       "      <td>0.041923</td>\n",
       "    </tr>\n",
       "    <tr>\n",
       "      <th>49689</th>\n",
       "      <td>0</td>\n",
       "      <td>0</td>\n",
       "      <td>0</td>\n",
       "      <td>0</td>\n",
       "      <td>0</td>\n",
       "      <td>0</td>\n",
       "      <td>0</td>\n",
       "      <td>0</td>\n",
       "      <td>0</td>\n",
       "      <td>0</td>\n",
       "      <td>...</td>\n",
       "      <td>-0.000624</td>\n",
       "      <td>-0.037719</td>\n",
       "      <td>0.018047</td>\n",
       "      <td>0.028091</td>\n",
       "      <td>-0.000380</td>\n",
       "      <td>0.015697</td>\n",
       "      <td>-0.035737</td>\n",
       "      <td>-0.022669</td>\n",
       "      <td>-0.003089</td>\n",
       "      <td>-0.014504</td>\n",
       "    </tr>\n",
       "    <tr>\n",
       "      <th>50137</th>\n",
       "      <td>0</td>\n",
       "      <td>0</td>\n",
       "      <td>0</td>\n",
       "      <td>0</td>\n",
       "      <td>0</td>\n",
       "      <td>0</td>\n",
       "      <td>0</td>\n",
       "      <td>0</td>\n",
       "      <td>0</td>\n",
       "      <td>0</td>\n",
       "      <td>...</td>\n",
       "      <td>0.063921</td>\n",
       "      <td>0.000640</td>\n",
       "      <td>-0.081422</td>\n",
       "      <td>-0.012015</td>\n",
       "      <td>-0.046315</td>\n",
       "      <td>-0.112069</td>\n",
       "      <td>0.017265</td>\n",
       "      <td>-0.063093</td>\n",
       "      <td>-0.134029</td>\n",
       "      <td>-0.007111</td>\n",
       "    </tr>\n",
       "    <tr>\n",
       "      <th>50139</th>\n",
       "      <td>0</td>\n",
       "      <td>0</td>\n",
       "      <td>0</td>\n",
       "      <td>0</td>\n",
       "      <td>0</td>\n",
       "      <td>0</td>\n",
       "      <td>0</td>\n",
       "      <td>1</td>\n",
       "      <td>0</td>\n",
       "      <td>0</td>\n",
       "      <td>...</td>\n",
       "      <td>0.093129</td>\n",
       "      <td>0.057563</td>\n",
       "      <td>-0.024371</td>\n",
       "      <td>-0.045108</td>\n",
       "      <td>0.084159</td>\n",
       "      <td>-0.003091</td>\n",
       "      <td>-0.109752</td>\n",
       "      <td>-0.009464</td>\n",
       "      <td>-0.059858</td>\n",
       "      <td>-0.001987</td>\n",
       "    </tr>\n",
       "  </tbody>\n",
       "</table>\n",
       "<p>50562 rows × 407 columns</p>\n",
       "</div>"
      ],
      "text/plain": [
       "            asian  rnb  reggae  blues  pop  dance  folk  arabic-music  indie  \\\n",
       "song_index                                                                     \n",
       "195             0    0       0      0    0      0     0             0      0   \n",
       "417             0    0       0      0    0      0     0             0      0   \n",
       "530             0    0       0      0    1      0     0             0      0   \n",
       "909             0    0       0      0    0      0     0             0      0   \n",
       "1257            0    0       0      0    0      0     0             0      0   \n",
       "...           ...  ...     ...    ...  ...    ...   ...           ...    ...   \n",
       "49454           0    0       0      0    1      0     0             0      0   \n",
       "49589           0    0       0      0    0      0     0             1      0   \n",
       "49689           0    0       0      0    0      0     0             0      0   \n",
       "50137           0    0       0      0    0      0     0             0      0   \n",
       "50139           0    0       0      0    0      0     0             1      0   \n",
       "\n",
       "            rock  ...  usage_feature_119  usage_feature_120  \\\n",
       "song_index        ...                                         \n",
       "195            0  ...           0.008582          -0.000024   \n",
       "417            1  ...          -0.182309          -0.051225   \n",
       "530            0  ...          -0.044620          -0.132282   \n",
       "909            1  ...          -0.127573          -0.068515   \n",
       "1257           0  ...           0.024463          -0.052952   \n",
       "...          ...  ...                ...                ...   \n",
       "49454          0  ...          -0.034780           0.112294   \n",
       "49589          0  ...           0.063418           0.166352   \n",
       "49689          0  ...          -0.000624          -0.037719   \n",
       "50137          0  ...           0.063921           0.000640   \n",
       "50139          0  ...           0.093129           0.057563   \n",
       "\n",
       "            usage_feature_121  usage_feature_122  usage_feature_123  \\\n",
       "song_index                                                            \n",
       "195                 -0.272207           0.210503           0.030972   \n",
       "417                 -0.004617          -0.005726          -0.038334   \n",
       "530                 -0.141684          -0.106271          -0.189065   \n",
       "909                 -0.106374          -0.102694          -0.066937   \n",
       "1257                -0.059056           0.041670          -0.025673   \n",
       "...                       ...                ...                ...   \n",
       "49454               -0.084898          -0.191570           0.153120   \n",
       "49589                0.021962           0.003740           0.146321   \n",
       "49689                0.018047           0.028091          -0.000380   \n",
       "50137               -0.081422          -0.012015          -0.046315   \n",
       "50139               -0.024371          -0.045108           0.084159   \n",
       "\n",
       "            usage_feature_124  usage_feature_125  usage_feature_126  \\\n",
       "song_index                                                            \n",
       "195                  0.080964          -0.015423           0.102148   \n",
       "417                 -0.063972           0.053881          -0.001152   \n",
       "530                 -0.229804           0.083824          -0.160790   \n",
       "909                  0.026911          -0.032158           0.063670   \n",
       "1257                -0.000446          -0.003438           0.060359   \n",
       "...                       ...                ...                ...   \n",
       "49454                0.106828           0.056458           0.127816   \n",
       "49589               -0.094655          -0.118755          -0.008160   \n",
       "49689                0.015697          -0.035737          -0.022669   \n",
       "50137               -0.112069           0.017265          -0.063093   \n",
       "50139               -0.003091          -0.109752          -0.009464   \n",
       "\n",
       "            usage_feature_127  usage_feature_128  \n",
       "song_index                                        \n",
       "195                  0.365081          -0.066897  \n",
       "417                  0.045032           0.027505  \n",
       "530                  0.040417          -0.094503  \n",
       "909                 -0.026653          -0.068251  \n",
       "1257                 0.058938           0.029523  \n",
       "...                       ...                ...  \n",
       "49454                0.086341          -0.024928  \n",
       "49589               -0.068332           0.041923  \n",
       "49689               -0.003089          -0.014504  \n",
       "50137               -0.134029          -0.007111  \n",
       "50139               -0.059858          -0.001987  \n",
       "\n",
       "[50562 rows x 407 columns]"
      ]
     },
     "execution_count": 178,
     "metadata": {},
     "output_type": "execute_result"
    }
   ],
   "source": [
    "transform_parquet_to_csv(os.path.join(project_dir,'dataset2.parquet'),os.path.join(project_dir,'dataset.csv'))"
   ]
  },
  {
   "cell_type": "code",
   "execution_count": 80,
   "metadata": {},
   "outputs": [],
   "source": [
    "df=pd.read_csv(os.path.join(project_dir,'dataset.csv'))\n",
    "X,Y=extract_values_array(df,p=1,audio=True,usage=False)\n",
    "l=list(df.columns[0:22])\n",
    "l.remove('song_index')"
   ]
  },
  {
   "cell_type": "code",
   "execution_count": 180,
   "metadata": {},
   "outputs": [
    {
     "data": {
      "text/plain": [
       "(50562, 256)"
      ]
     },
     "execution_count": 180,
     "metadata": {},
     "output_type": "execute_result"
    }
   ],
   "source": [
    "X.shape"
   ]
  },
  {
   "cell_type": "markdown",
   "metadata": {},
   "source": [
    "## Mise en forme des résultats \n"
   ]
  },
  {
   "cell_type": "code",
   "execution_count": 81,
   "metadata": {},
   "outputs": [],
   "source": [
    "metrics=['Accuracy','Precision micro', 'Recall micro', 'F1 score micro', 'Hamming-Loss']\n",
    "final_res=pd.DataFrame(columns=metrics)"
   ]
  },
  {
   "cell_type": "code",
   "execution_count": 82,
   "metadata": {},
   "outputs": [
    {
     "data": {
      "text/plain": [
       "<AxesSubplot:>"
      ]
     },
     "execution_count": 82,
     "metadata": {},
     "output_type": "execute_result"
    },
    {
     "data": {
      "image/png": "[encoded data removed]",
      "text/plain": [
       "<Figure size 432x288 with 2 Axes>"
      ]
     },
     "metadata": {
      "needs_background": "light"
     },
     "output_type": "display_data"
    }
   ],
   "source": [
    "labels = [\"True Pos\",\"False Neg\",\"False Pos\",\"True Neg\"]\n",
    "labels = np.asarray(labels).reshape(2,2)\n",
    "sns.heatmap(np.eye(2), annot=labels, fmt=\"\", cmap='Blues')"
   ]
  },
  {
   "cell_type": "markdown",
   "metadata": {
    "id": "lgE-1fpT83HW"
   },
   "source": [
    "# Méthode 1: Naive - TOP GENRE \n",
    "Attribuer le genre le plus représenté: le rock\n",
    "\n",
    "\n"
   ]
  },
  {
   "cell_type": "code",
   "execution_count": 83,
   "metadata": {
    "colab": {
     "base_uri": "https://localhost:8080/",
     "height": 505
    },
    "id": "MgdQUmNM89xf",
    "outputId": "c77d88c3-a0fa-4550-cc2b-cef6313ad24b"
   },
   "outputs": [
    {
     "data": {
      "text/html": [
       "<div>\n",
       "<style scoped>\n",
       "    .dataframe tbody tr th:only-of-type {\n",
       "        vertical-align: middle;\n",
       "    }\n",
       "\n",
       "    .dataframe tbody tr th {\n",
       "        vertical-align: top;\n",
       "    }\n",
       "\n",
       "    .dataframe thead th {\n",
       "        text-align: right;\n",
       "    }\n",
       "</style>\n",
       "<table border=\"1\" class=\"dataframe\">\n",
       "  <thead>\n",
       "    <tr style=\"text-align: right;\">\n",
       "      <th></th>\n",
       "      <th>asian</th>\n",
       "      <th>rnb</th>\n",
       "      <th>reggae</th>\n",
       "      <th>blues</th>\n",
       "      <th>pop</th>\n",
       "      <th>dance</th>\n",
       "      <th>folk</th>\n",
       "      <th>arabic-music</th>\n",
       "      <th>indie</th>\n",
       "      <th>rock</th>\n",
       "      <th>...</th>\n",
       "      <th>latin</th>\n",
       "      <th>classical</th>\n",
       "      <th>k-pop</th>\n",
       "      <th>brazilian</th>\n",
       "      <th>metal</th>\n",
       "      <th>rap</th>\n",
       "      <th>jazz</th>\n",
       "      <th>electronic</th>\n",
       "      <th>african</th>\n",
       "      <th>country</th>\n",
       "    </tr>\n",
       "  </thead>\n",
       "  <tbody>\n",
       "    <tr>\n",
       "      <th>0</th>\n",
       "      <td>0</td>\n",
       "      <td>0</td>\n",
       "      <td>0</td>\n",
       "      <td>0</td>\n",
       "      <td>0</td>\n",
       "      <td>0</td>\n",
       "      <td>0</td>\n",
       "      <td>0</td>\n",
       "      <td>0</td>\n",
       "      <td>1</td>\n",
       "      <td>...</td>\n",
       "      <td>0</td>\n",
       "      <td>0</td>\n",
       "      <td>0</td>\n",
       "      <td>0</td>\n",
       "      <td>0</td>\n",
       "      <td>0</td>\n",
       "      <td>0</td>\n",
       "      <td>0</td>\n",
       "      <td>0</td>\n",
       "      <td>0</td>\n",
       "    </tr>\n",
       "    <tr>\n",
       "      <th>1</th>\n",
       "      <td>0</td>\n",
       "      <td>0</td>\n",
       "      <td>0</td>\n",
       "      <td>0</td>\n",
       "      <td>0</td>\n",
       "      <td>0</td>\n",
       "      <td>0</td>\n",
       "      <td>0</td>\n",
       "      <td>0</td>\n",
       "      <td>1</td>\n",
       "      <td>...</td>\n",
       "      <td>0</td>\n",
       "      <td>0</td>\n",
       "      <td>0</td>\n",
       "      <td>0</td>\n",
       "      <td>0</td>\n",
       "      <td>0</td>\n",
       "      <td>0</td>\n",
       "      <td>0</td>\n",
       "      <td>0</td>\n",
       "      <td>0</td>\n",
       "    </tr>\n",
       "    <tr>\n",
       "      <th>2</th>\n",
       "      <td>0</td>\n",
       "      <td>0</td>\n",
       "      <td>0</td>\n",
       "      <td>0</td>\n",
       "      <td>0</td>\n",
       "      <td>0</td>\n",
       "      <td>0</td>\n",
       "      <td>0</td>\n",
       "      <td>0</td>\n",
       "      <td>1</td>\n",
       "      <td>...</td>\n",
       "      <td>0</td>\n",
       "      <td>0</td>\n",
       "      <td>0</td>\n",
       "      <td>0</td>\n",
       "      <td>0</td>\n",
       "      <td>0</td>\n",
       "      <td>0</td>\n",
       "      <td>0</td>\n",
       "      <td>0</td>\n",
       "      <td>0</td>\n",
       "    </tr>\n",
       "    <tr>\n",
       "      <th>3</th>\n",
       "      <td>0</td>\n",
       "      <td>0</td>\n",
       "      <td>0</td>\n",
       "      <td>0</td>\n",
       "      <td>0</td>\n",
       "      <td>0</td>\n",
       "      <td>0</td>\n",
       "      <td>0</td>\n",
       "      <td>0</td>\n",
       "      <td>1</td>\n",
       "      <td>...</td>\n",
       "      <td>0</td>\n",
       "      <td>0</td>\n",
       "      <td>0</td>\n",
       "      <td>0</td>\n",
       "      <td>0</td>\n",
       "      <td>0</td>\n",
       "      <td>0</td>\n",
       "      <td>0</td>\n",
       "      <td>0</td>\n",
       "      <td>0</td>\n",
       "    </tr>\n",
       "    <tr>\n",
       "      <th>4</th>\n",
       "      <td>0</td>\n",
       "      <td>0</td>\n",
       "      <td>0</td>\n",
       "      <td>0</td>\n",
       "      <td>0</td>\n",
       "      <td>0</td>\n",
       "      <td>0</td>\n",
       "      <td>0</td>\n",
       "      <td>0</td>\n",
       "      <td>1</td>\n",
       "      <td>...</td>\n",
       "      <td>0</td>\n",
       "      <td>0</td>\n",
       "      <td>0</td>\n",
       "      <td>0</td>\n",
       "      <td>0</td>\n",
       "      <td>0</td>\n",
       "      <td>0</td>\n",
       "      <td>0</td>\n",
       "      <td>0</td>\n",
       "      <td>0</td>\n",
       "    </tr>\n",
       "    <tr>\n",
       "      <th>...</th>\n",
       "      <td>...</td>\n",
       "      <td>...</td>\n",
       "      <td>...</td>\n",
       "      <td>...</td>\n",
       "      <td>...</td>\n",
       "      <td>...</td>\n",
       "      <td>...</td>\n",
       "      <td>...</td>\n",
       "      <td>...</td>\n",
       "      <td>...</td>\n",
       "      <td>...</td>\n",
       "      <td>...</td>\n",
       "      <td>...</td>\n",
       "      <td>...</td>\n",
       "      <td>...</td>\n",
       "      <td>...</td>\n",
       "      <td>...</td>\n",
       "      <td>...</td>\n",
       "      <td>...</td>\n",
       "      <td>...</td>\n",
       "      <td>...</td>\n",
       "    </tr>\n",
       "    <tr>\n",
       "      <th>50557</th>\n",
       "      <td>0</td>\n",
       "      <td>0</td>\n",
       "      <td>0</td>\n",
       "      <td>0</td>\n",
       "      <td>0</td>\n",
       "      <td>0</td>\n",
       "      <td>0</td>\n",
       "      <td>0</td>\n",
       "      <td>0</td>\n",
       "      <td>1</td>\n",
       "      <td>...</td>\n",
       "      <td>0</td>\n",
       "      <td>0</td>\n",
       "      <td>0</td>\n",
       "      <td>0</td>\n",
       "      <td>0</td>\n",
       "      <td>0</td>\n",
       "      <td>0</td>\n",
       "      <td>0</td>\n",
       "      <td>0</td>\n",
       "      <td>0</td>\n",
       "    </tr>\n",
       "    <tr>\n",
       "      <th>50558</th>\n",
       "      <td>0</td>\n",
       "      <td>0</td>\n",
       "      <td>0</td>\n",
       "      <td>0</td>\n",
       "      <td>0</td>\n",
       "      <td>0</td>\n",
       "      <td>0</td>\n",
       "      <td>0</td>\n",
       "      <td>0</td>\n",
       "      <td>1</td>\n",
       "      <td>...</td>\n",
       "      <td>0</td>\n",
       "      <td>0</td>\n",
       "      <td>0</td>\n",
       "      <td>0</td>\n",
       "      <td>0</td>\n",
       "      <td>0</td>\n",
       "      <td>0</td>\n",
       "      <td>0</td>\n",
       "      <td>0</td>\n",
       "      <td>0</td>\n",
       "    </tr>\n",
       "    <tr>\n",
       "      <th>50559</th>\n",
       "      <td>0</td>\n",
       "      <td>0</td>\n",
       "      <td>0</td>\n",
       "      <td>0</td>\n",
       "      <td>0</td>\n",
       "      <td>0</td>\n",
       "      <td>0</td>\n",
       "      <td>0</td>\n",
       "      <td>0</td>\n",
       "      <td>1</td>\n",
       "      <td>...</td>\n",
       "      <td>0</td>\n",
       "      <td>0</td>\n",
       "      <td>0</td>\n",
       "      <td>0</td>\n",
       "      <td>0</td>\n",
       "      <td>0</td>\n",
       "      <td>0</td>\n",
       "      <td>0</td>\n",
       "      <td>0</td>\n",
       "      <td>0</td>\n",
       "    </tr>\n",
       "    <tr>\n",
       "      <th>50560</th>\n",
       "      <td>0</td>\n",
       "      <td>0</td>\n",
       "      <td>0</td>\n",
       "      <td>0</td>\n",
       "      <td>0</td>\n",
       "      <td>0</td>\n",
       "      <td>0</td>\n",
       "      <td>0</td>\n",
       "      <td>0</td>\n",
       "      <td>1</td>\n",
       "      <td>...</td>\n",
       "      <td>0</td>\n",
       "      <td>0</td>\n",
       "      <td>0</td>\n",
       "      <td>0</td>\n",
       "      <td>0</td>\n",
       "      <td>0</td>\n",
       "      <td>0</td>\n",
       "      <td>0</td>\n",
       "      <td>0</td>\n",
       "      <td>0</td>\n",
       "    </tr>\n",
       "    <tr>\n",
       "      <th>50561</th>\n",
       "      <td>0</td>\n",
       "      <td>0</td>\n",
       "      <td>0</td>\n",
       "      <td>0</td>\n",
       "      <td>0</td>\n",
       "      <td>0</td>\n",
       "      <td>0</td>\n",
       "      <td>0</td>\n",
       "      <td>0</td>\n",
       "      <td>1</td>\n",
       "      <td>...</td>\n",
       "      <td>0</td>\n",
       "      <td>0</td>\n",
       "      <td>0</td>\n",
       "      <td>0</td>\n",
       "      <td>0</td>\n",
       "      <td>0</td>\n",
       "      <td>0</td>\n",
       "      <td>0</td>\n",
       "      <td>0</td>\n",
       "      <td>0</td>\n",
       "    </tr>\n",
       "  </tbody>\n",
       "</table>\n",
       "<p>50562 rows × 21 columns</p>\n",
       "</div>"
      ],
      "text/plain": [
       "       asian  rnb  reggae  blues  pop  dance  folk  arabic-music  indie  rock  \\\n",
       "0          0    0       0      0    0      0     0             0      0     1   \n",
       "1          0    0       0      0    0      0     0             0      0     1   \n",
       "2          0    0       0      0    0      0     0             0      0     1   \n",
       "3          0    0       0      0    0      0     0             0      0     1   \n",
       "4          0    0       0      0    0      0     0             0      0     1   \n",
       "...      ...  ...     ...    ...  ...    ...   ...           ...    ...   ...   \n",
       "50557      0    0       0      0    0      0     0             0      0     1   \n",
       "50558      0    0       0      0    0      0     0             0      0     1   \n",
       "50559      0    0       0      0    0      0     0             0      0     1   \n",
       "50560      0    0       0      0    0      0     0             0      0     1   \n",
       "50561      0    0       0      0    0      0     0             0      0     1   \n",
       "\n",
       "       ...  latin  classical  k-pop  brazilian  metal  rap  jazz  electronic  \\\n",
       "0      ...      0          0      0          0      0    0     0           0   \n",
       "1      ...      0          0      0          0      0    0     0           0   \n",
       "2      ...      0          0      0          0      0    0     0           0   \n",
       "3      ...      0          0      0          0      0    0     0           0   \n",
       "4      ...      0          0      0          0      0    0     0           0   \n",
       "...    ...    ...        ...    ...        ...    ...  ...   ...         ...   \n",
       "50557  ...      0          0      0          0      0    0     0           0   \n",
       "50558  ...      0          0      0          0      0    0     0           0   \n",
       "50559  ...      0          0      0          0      0    0     0           0   \n",
       "50560  ...      0          0      0          0      0    0     0           0   \n",
       "50561  ...      0          0      0          0      0    0     0           0   \n",
       "\n",
       "       african  country  \n",
       "0            0        0  \n",
       "1            0        0  \n",
       "2            0        0  \n",
       "3            0        0  \n",
       "4            0        0  \n",
       "...        ...      ...  \n",
       "50557        0        0  \n",
       "50558        0        0  \n",
       "50559        0        0  \n",
       "50560        0        0  \n",
       "50561        0        0  \n",
       "\n",
       "[50562 rows x 21 columns]"
      ]
     },
     "execution_count": 83,
     "metadata": {},
     "output_type": "execute_result"
    }
   ],
   "source": [
    "df_naif=pd.DataFrame(columns=l)\n",
    "n=df.shape[0]\n",
    "for label in l: \n",
    "  if label!='rock':\n",
    "    df_naif[label]=np.zeros(n, dtype=int)\n",
    "  else :\n",
    "    df_naif[label]=np.zeros(n, dtype=int)+1\n",
    "df_naif"
   ]
  },
  {
   "cell_type": "code",
   "execution_count": 84,
   "metadata": {
    "id": "6jRTgXj5-2bH"
   },
   "outputs": [],
   "source": [
    "y_pred = df_naif.values\n",
    "y_true = df[l].values"
   ]
  },
  {
   "cell_type": "code",
   "execution_count": 85,
   "metadata": {},
   "outputs": [],
   "source": [
    "r=all_metrics(y_true,y_pred)"
   ]
  },
  {
   "cell_type": "code",
   "execution_count": 86,
   "metadata": {},
   "outputs": [],
   "source": [
    "final_res.loc['Top Genre']=r"
   ]
  },
  {
   "cell_type": "code",
   "execution_count": 87,
   "metadata": {},
   "outputs": [
    {
     "data": {
      "text/html": [
       "<div>\n",
       "<style scoped>\n",
       "    .dataframe tbody tr th:only-of-type {\n",
       "        vertical-align: middle;\n",
       "    }\n",
       "\n",
       "    .dataframe tbody tr th {\n",
       "        vertical-align: top;\n",
       "    }\n",
       "\n",
       "    .dataframe thead th {\n",
       "        text-align: right;\n",
       "    }\n",
       "</style>\n",
       "<table border=\"1\" class=\"dataframe\">\n",
       "  <thead>\n",
       "    <tr style=\"text-align: right;\">\n",
       "      <th></th>\n",
       "      <th>Accuracy</th>\n",
       "      <th>Precision micro</th>\n",
       "      <th>Recall micro</th>\n",
       "      <th>F1 score micro</th>\n",
       "      <th>Hamming-Loss</th>\n",
       "    </tr>\n",
       "  </thead>\n",
       "  <tbody>\n",
       "    <tr>\n",
       "      <th>Top Genre</th>\n",
       "      <td>0.108</td>\n",
       "      <td>0.162</td>\n",
       "      <td>0.138</td>\n",
       "      <td>0.149</td>\n",
       "      <td>0.088</td>\n",
       "    </tr>\n",
       "  </tbody>\n",
       "</table>\n",
       "</div>"
      ],
      "text/plain": [
       "           Accuracy  Precision micro  Recall micro  F1 score micro  \\\n",
       "Top Genre     0.108            0.162         0.138           0.149   \n",
       "\n",
       "           Hamming-Loss  \n",
       "Top Genre         0.088  "
      ]
     },
     "execution_count": 87,
     "metadata": {},
     "output_type": "execute_result"
    }
   ],
   "source": [
    "final_res"
   ]
  },
  {
   "cell_type": "markdown",
   "metadata": {
    "id": "KU_K-Lzj8qof",
    "tags": []
   },
   "source": [
    "# Méthode 2: L régressions logistiques unilabel\n"
   ]
  },
  {
   "cell_type": "markdown",
   "metadata": {},
   "source": [
    "## Audio feature only - whitout penalization"
   ]
  },
  {
   "cell_type": "markdown",
   "metadata": {},
   "source": [
    "##### ROC\n"
   ]
  },
  {
   "cell_type": "code",
   "execution_count": 88,
   "metadata": {},
   "outputs": [
    {
     "data": {
      "text/plain": [
       "<Figure size 432x288 with 0 Axes>"
      ]
     },
     "metadata": {},
     "output_type": "display_data"
    }
   ],
   "source": [
    "df_hat=pd.DataFrame()\n",
    "df_test=pd.DataFrame()\n",
    "n=len(l)\n",
    "i=0\n",
    "auc_labels=[]\n",
    "for label in l:\n",
    "    X_train,X_test,Y_train,Y_test = train_test_split(X,Y[:,i],test_size=0.3, random_state=5)\n",
    "    logreg = LogisticRegression(max_iter=10000)\n",
    "    filename= os.path.join(project_dir,'docs/LR/joblib_LR_audio_only/'+label)\n",
    "    logreg = load_fit(logreg,X_train,Y_train,filename)\n",
    "    y_hat = logreg.predict(X_test)\n",
    "    df_hat[label] = y_hat\n",
    "    df_test[label]=Y_test\n",
    "    title='ROC curve ' + label + ' unilabel Logistic Regression'\n",
    "    name_fig=os.path.join(project_dir,'docs/LR/ROC_LR_audio_only/'+label)\n",
    "    AUC= plot_roc_curve(Y_test, y_hat, title=title, name_fig=name_fig,save=True)\n",
    "    auc_labels.append(AUC)\n",
    "    i+=1\n"
   ]
  },
  {
   "cell_type": "code",
   "execution_count": 89,
   "metadata": {},
   "outputs": [
    {
     "data": {
      "image/png": "[encoded data removed]",
      "text/plain": [
       "<Figure size 432x288 with 1 Axes>"
      ]
     },
     "metadata": {
      "needs_background": "light"
     },
     "output_type": "display_data"
    }
   ],
   "source": [
    "name_fig=os.path.join(project_dir,'docs/LR/ROC_LR_audio_only/auc')\n",
    "graph_auc(auc_labels,'LR audio only',save=True,name_fig=name_fig)"
   ]
  },
  {
   "cell_type": "markdown",
   "metadata": {},
   "source": [
    "##### Matrices de confusion "
   ]
  },
  {
   "cell_type": "code",
   "execution_count": 90,
   "metadata": {},
   "outputs": [],
   "source": [
    "y_true=df_test.values\n",
    "y_pred=df_hat.values"
   ]
  },
  {
   "cell_type": "code",
   "execution_count": 91,
   "metadata": {},
   "outputs": [
    {
     "data": {
      "text/plain": [
       "<Figure size 432x288 with 0 Axes>"
      ]
     },
     "metadata": {},
     "output_type": "display_data"
    }
   ],
   "source": [
    "conf=multilabel_confusion_matrix(y_true,y_pred)\n",
    "i=0\n",
    "for cm in conf:\n",
    "    label=l[i]\n",
    "    name_fig= os.path.join(project_dir,'docs/LR/CM_LR_audio_only/'+label)\n",
    "    plot_confusion_matrix(cm,title=label,classes=[label,'Others'],normalize=True,save=True,name_fig=name_fig)\n",
    "    i=i+1"
   ]
  },
  {
   "cell_type": "markdown",
   "metadata": {},
   "source": [
    "##### Résultats"
   ]
  },
  {
   "cell_type": "code",
   "execution_count": 92,
   "metadata": {},
   "outputs": [
    {
     "data": {
      "text/html": [
       "<div>\n",
       "<style scoped>\n",
       "    .dataframe tbody tr th:only-of-type {\n",
       "        vertical-align: middle;\n",
       "    }\n",
       "\n",
       "    .dataframe tbody tr th {\n",
       "        vertical-align: top;\n",
       "    }\n",
       "\n",
       "    .dataframe thead th {\n",
       "        text-align: right;\n",
       "    }\n",
       "</style>\n",
       "<table border=\"1\" class=\"dataframe\">\n",
       "  <thead>\n",
       "    <tr style=\"text-align: right;\">\n",
       "      <th></th>\n",
       "      <th>Accuracy</th>\n",
       "      <th>Precision micro</th>\n",
       "      <th>Recall micro</th>\n",
       "      <th>F1 score micro</th>\n",
       "      <th>Hamming-Loss</th>\n",
       "    </tr>\n",
       "  </thead>\n",
       "  <tbody>\n",
       "    <tr>\n",
       "      <th>Top Genre</th>\n",
       "      <td>0.108</td>\n",
       "      <td>0.162</td>\n",
       "      <td>0.138</td>\n",
       "      <td>0.149</td>\n",
       "      <td>0.088</td>\n",
       "    </tr>\n",
       "    <tr>\n",
       "      <th>RL audio (seulement) &amp; sans pénalisation</th>\n",
       "      <td>0.360</td>\n",
       "      <td>0.725</td>\n",
       "      <td>0.432</td>\n",
       "      <td>0.541</td>\n",
       "      <td>0.041</td>\n",
       "    </tr>\n",
       "  </tbody>\n",
       "</table>\n",
       "</div>"
      ],
      "text/plain": [
       "                                          Accuracy  Precision micro  \\\n",
       "Top Genre                                    0.108            0.162   \n",
       "RL audio (seulement) & sans pénalisation     0.360            0.725   \n",
       "\n",
       "                                          Recall micro  F1 score micro  \\\n",
       "Top Genre                                        0.138           0.149   \n",
       "RL audio (seulement) & sans pénalisation         0.432           0.541   \n",
       "\n",
       "                                          Hamming-Loss  \n",
       "Top Genre                                        0.088  \n",
       "RL audio (seulement) & sans pénalisation         0.041  "
      ]
     },
     "execution_count": 92,
     "metadata": {},
     "output_type": "execute_result"
    }
   ],
   "source": [
    "r=all_metrics(y_true,y_pred)\n",
    "final_res.loc['RL audio (seulement) & sans pénalisation']=r\n",
    "final_res"
   ]
  },
  {
   "cell_type": "markdown",
   "metadata": {
    "tags": []
   },
   "source": [
    "## Audio features only - penalization (Lasso)"
   ]
  },
  {
   "cell_type": "markdown",
   "metadata": {},
   "source": [
    "Ici il s'agira d'appliquer un critère de pénalisation à la méthode Régression Logistique dans le but de sélectionner des variables, nous choisissons de faire le tuning de l'hyperparamètre pour chaque RL (chaque label). \n",
    "Nous comparons 2 résultats: \n",
    "- audio features uniquement \n",
    "- les deux "
   ]
  },
  {
   "cell_type": "markdown",
   "metadata": {},
   "source": [
    "L'argorithme utilisé pour faire l'optimisation de l'hyperparamètre C de la fonction LogisticRegression est  `GridSearchCV(estimator,parameters,cv)`: algorithme récursif qui va comparer en stratifiant l'échantillon train en `cv` parties, l'accuracy `cv`fois. \n",
    "La fonction `LogisticRegression` va prendre le paramètre `penalty=l1 `pour faire une sélection Lasso ie sélectionner des variables, l'algorithme de résolution est `saga` c'est une descente de gradient, plus rapide pour leslarges sets de données comme cecui ci, néanmoins très couteux en mémoire et en temps tout de même, nous choisissons le solver `liblinear`moins précis\n"
   ]
  },
  {
   "cell_type": "markdown",
   "metadata": {},
   "source": [
    "##### ROC"
   ]
  },
  {
   "cell_type": "code",
   "execution_count": 93,
   "metadata": {},
   "outputs": [],
   "source": [
    "from sklearn.model_selection import GridSearchCV"
   ]
  },
  {
   "cell_type": "code",
   "execution_count": 94,
   "metadata": {},
   "outputs": [
    {
     "data": {
      "text/plain": [
       "<Figure size 432x288 with 0 Axes>"
      ]
     },
     "metadata": {},
     "output_type": "display_data"
    }
   ],
   "source": [
    "df_hat=pd.DataFrame()\n",
    "df_test=pd.DataFrame()\n",
    "i=0\n",
    "nb_feature_selected=[]\n",
    "auc_labels=[]\n",
    "for label in l:\n",
    "    X_train,X_test,Y_train,Y_test = train_test_split(X,Y[:,i],test_size=0.3, random_state=5)\n",
    "    logreg = LogisticRegression(penalty='l1',solver='liblinear',max_iter=5000)\n",
    "    parameters={'C':[1e-5,1e-4,1e-3,1e-2,1e-1,1]}\n",
    "    gs=GridSearchCV(logreg,parameters,cv=3,verbose=3)\n",
    "    filename=os.path.join(project_dir,'docs/LR/joblib_LR_audio_only_penal/'+label)\n",
    "    logreg = load_fit(gs,X_train,Y_train,filename) \n",
    "    temp=logreg.best_estimator_.coef_\n",
    "    n_label=(temp>0).sum()\n",
    "    nb_feature_selected.append(n_label)\n",
    "    y_hat= logreg.predict(X_test)\n",
    "    df_hat[label] = y_hat\n",
    "    df_test[label]=Y_test\n",
    "    name_fig= os.path.join(project_dir,'docs/LR/ROC_LR_audio_only_penal/'+label)\n",
    "    AUC= plot_roc_curve(Y_test, y_hat, title=label, name_fig=name_fig,save=True)\n",
    "    auc_labels.append(AUC)\n",
    "    i+=1\n"
   ]
  },
  {
   "cell_type": "code",
   "execution_count": 101,
   "metadata": {},
   "outputs": [
    {
     "data": {
      "text/plain": [
       "[0,\n",
       " 54,\n",
       " 108,\n",
       " 31,\n",
       " 114,\n",
       " 103,\n",
       " 38,\n",
       " 108,\n",
       " 114,\n",
       " 66,\n",
       " 49,\n",
       " 109,\n",
       " 75,\n",
       " 89,\n",
       " 51,\n",
       " 62,\n",
       " 50,\n",
       " 43,\n",
       " 45,\n",
       " 102,\n",
       " 92]"
      ]
     },
     "execution_count": 101,
     "metadata": {},
     "output_type": "execute_result"
    }
   ],
   "source": [
    "nb_feature_selected"
   ]
  },
  {
   "cell_type": "code",
   "execution_count": 98,
   "metadata": {},
   "outputs": [],
   "source": [
    "selected_features_audio=pd.DataFrame(columns=['Label','Number of Features Selected'])\n",
    "selected_features_audio['Label']=l\n",
    "selected_features_audio['Number of Features Selected']=nb_feature_selected\n",
    "selected_features_audio.to_csv(os.path.join(project_dir,'docs/LR/selected_audio.csv'), index=False)"
   ]
  },
  {
   "cell_type": "code",
   "execution_count": 196,
   "metadata": {},
   "outputs": [
    {
     "data": {
      "image/png": "[encoded data removed]",
      "text/plain": [
       "<Figure size 432x288 with 1 Axes>"
      ]
     },
     "metadata": {
      "needs_background": "light"
     },
     "output_type": "display_data"
    }
   ],
   "source": [
    "name=os.path.join(project_dir,'docs/LR/ROC_LR_audio_only_penal/AUC')\n",
    "graph_auc(auc_labels,'RL audio seulement,pénalisation',save=True,name_fig=name)"
   ]
  },
  {
   "cell_type": "markdown",
   "metadata": {},
   "source": [
    "##### Matrices de confusion"
   ]
  },
  {
   "cell_type": "code",
   "execution_count": 197,
   "metadata": {},
   "outputs": [
    {
     "data": {
      "text/plain": [
       "<Figure size 432x288 with 0 Axes>"
      ]
     },
     "metadata": {},
     "output_type": "display_data"
    }
   ],
   "source": [
    "y_true=df_test.values\n",
    "y_pred=df_hat.values\n",
    "conf=multilabel_confusion_matrix(y_true,y_pred)\n",
    "i=0\n",
    "for cm in conf:\n",
    "    label=l[i]\n",
    "    name_fig= os.path.join(project_dir,'docs/LR/CM_LR_audio_only_penal/'+label)\n",
    "    plot_confusion_matrix(cm,title=label,classes=[label,'Others'],normalize=True,save=True,name_fig=name_fig)\n",
    "    i=i+1"
   ]
  },
  {
   "cell_type": "markdown",
   "metadata": {
    "tags": []
   },
   "source": [
    "##### Résultats"
   ]
  },
  {
   "cell_type": "code",
   "execution_count": 198,
   "metadata": {},
   "outputs": [],
   "source": [
    "r=all_metrics(y_true,y_pred)\n",
    "final_res.loc['RL audio (seulement)& pénalisation (optimisée)']=r"
   ]
  },
  {
   "cell_type": "markdown",
   "metadata": {},
   "source": [
    "## Usage features only - whitout penalization"
   ]
  },
  {
   "cell_type": "code",
   "execution_count": 106,
   "metadata": {},
   "outputs": [],
   "source": [
    "X,Y=extract_values_array(df,p=1,audio=False,usage=True)"
   ]
  },
  {
   "cell_type": "markdown",
   "metadata": {},
   "source": [
    "##### ROC"
   ]
  },
  {
   "cell_type": "code",
   "execution_count": 200,
   "metadata": {},
   "outputs": [
    {
     "data": {
      "text/plain": [
       "<Figure size 432x288 with 0 Axes>"
      ]
     },
     "metadata": {},
     "output_type": "display_data"
    }
   ],
   "source": [
    "df_hat=pd.DataFrame()\n",
    "df_test=pd.DataFrame()\n",
    "n=len(l)\n",
    "i=0\n",
    "auc_labels=[]\n",
    "for label in l:\n",
    "    X_train,X_test,Y_train,Y_test = train_test_split(X,Y[:,i],test_size=0.3, random_state=5)\n",
    "    logreg = LogisticRegression(max_iter=10000)\n",
    "    filename= os.path.join(project_dir,'docs/LR/joblib_LR_usage_only/'+label)\n",
    "    logreg = load_fit(logreg,X_train,Y_train,filename)\n",
    "    y_hat = logreg.predict(X_test)\n",
    "    df_hat[label] = y_hat\n",
    "    df_test[label]=Y_test\n",
    "    title='ROC curve ' + label + ' unilabel Logistic Regression'\n",
    "    name_fig=os.path.join(project_dir,'docs/LR/ROC_LR_usage_only/'+label)\n",
    "    AUC= plot_roc_curve(Y_test, y_hat, title=title, name_fig=name_fig,save=True)\n",
    "    auc_labels.append(AUC)\n",
    "    i+=1\n"
   ]
  },
  {
   "cell_type": "markdown",
   "metadata": {},
   "source": [
    "##### Matrices de confusion"
   ]
  },
  {
   "cell_type": "code",
   "execution_count": 201,
   "metadata": {},
   "outputs": [
    {
     "data": {
      "text/plain": [
       "<Figure size 432x288 with 0 Axes>"
      ]
     },
     "metadata": {},
     "output_type": "display_data"
    }
   ],
   "source": [
    "y_true=df_test.values\n",
    "y_pred=df_hat.values\n",
    "conf=multilabel_confusion_matrix(y_true,y_pred)\n",
    "i=0\n",
    "for cm in conf:\n",
    "    label=l[i]\n",
    "    name_fig= os.path.join(project_dir,'docs/LR/CM_LR_usage_only/'+label)\n",
    "    plot_confusion_matrix(cm,title=label,classes=[label,'Others'],normalize=True,save=True,name_fig=name_fig)\n",
    "    i=i+1"
   ]
  },
  {
   "cell_type": "markdown",
   "metadata": {},
   "source": [
    "##### Résultats"
   ]
  },
  {
   "cell_type": "code",
   "execution_count": 202,
   "metadata": {},
   "outputs": [
    {
     "data": {
      "text/html": [
       "<div>\n",
       "<style scoped>\n",
       "    .dataframe tbody tr th:only-of-type {\n",
       "        vertical-align: middle;\n",
       "    }\n",
       "\n",
       "    .dataframe tbody tr th {\n",
       "        vertical-align: top;\n",
       "    }\n",
       "\n",
       "    .dataframe thead th {\n",
       "        text-align: right;\n",
       "    }\n",
       "</style>\n",
       "<table border=\"1\" class=\"dataframe\">\n",
       "  <thead>\n",
       "    <tr style=\"text-align: right;\">\n",
       "      <th></th>\n",
       "      <th>Accuracy</th>\n",
       "      <th>Precision micro</th>\n",
       "      <th>Recall micro</th>\n",
       "      <th>F1 score micro</th>\n",
       "      <th>Hamming-Loss</th>\n",
       "    </tr>\n",
       "  </thead>\n",
       "  <tbody>\n",
       "    <tr>\n",
       "      <th>Top Genre</th>\n",
       "      <td>0.108</td>\n",
       "      <td>0.162</td>\n",
       "      <td>0.138</td>\n",
       "      <td>0.149</td>\n",
       "      <td>0.088</td>\n",
       "    </tr>\n",
       "    <tr>\n",
       "      <th>RL audio (seulement) &amp; sans pénalisation</th>\n",
       "      <td>0.360</td>\n",
       "      <td>0.725</td>\n",
       "      <td>0.432</td>\n",
       "      <td>0.541</td>\n",
       "      <td>0.041</td>\n",
       "    </tr>\n",
       "    <tr>\n",
       "      <th>RL audio (seulement)&amp; pénalisation (optimisée)</th>\n",
       "      <td>0.354</td>\n",
       "      <td>0.738</td>\n",
       "      <td>0.421</td>\n",
       "      <td>0.536</td>\n",
       "      <td>0.041</td>\n",
       "    </tr>\n",
       "    <tr>\n",
       "      <th>RL usage (seulement) &amp; sans pénalisation</th>\n",
       "      <td>0.715</td>\n",
       "      <td>0.871</td>\n",
       "      <td>0.788</td>\n",
       "      <td>0.827</td>\n",
       "      <td>0.018</td>\n",
       "    </tr>\n",
       "  </tbody>\n",
       "</table>\n",
       "</div>"
      ],
      "text/plain": [
       "                                                Accuracy  Precision micro  \\\n",
       "Top Genre                                          0.108            0.162   \n",
       "RL audio (seulement) & sans pénalisation           0.360            0.725   \n",
       "RL audio (seulement)& pénalisation (optimisée)     0.354            0.738   \n",
       "RL usage (seulement) & sans pénalisation           0.715            0.871   \n",
       "\n",
       "                                                Recall micro  F1 score micro  \\\n",
       "Top Genre                                              0.138           0.149   \n",
       "RL audio (seulement) & sans pénalisation               0.432           0.541   \n",
       "RL audio (seulement)& pénalisation (optimisée)         0.421           0.536   \n",
       "RL usage (seulement) & sans pénalisation               0.788           0.827   \n",
       "\n",
       "                                                Hamming-Loss  \n",
       "Top Genre                                              0.088  \n",
       "RL audio (seulement) & sans pénalisation               0.041  \n",
       "RL audio (seulement)& pénalisation (optimisée)         0.041  \n",
       "RL usage (seulement) & sans pénalisation               0.018  "
      ]
     },
     "execution_count": 202,
     "metadata": {},
     "output_type": "execute_result"
    }
   ],
   "source": [
    "r=all_metrics(y_true,y_pred)\n",
    "final_res.loc['RL usage (seulement) & sans pénalisation']=r\n",
    "final_res"
   ]
  },
  {
   "cell_type": "markdown",
   "metadata": {},
   "source": [
    "## Usage features only - with penalization:"
   ]
  },
  {
   "cell_type": "markdown",
   "metadata": {},
   "source": [
    "##### ROC"
   ]
  },
  {
   "cell_type": "code",
   "execution_count": 107,
   "metadata": {},
   "outputs": [
    {
     "data": {
      "text/plain": [
       "<Figure size 432x288 with 0 Axes>"
      ]
     },
     "metadata": {},
     "output_type": "display_data"
    }
   ],
   "source": [
    "df_hat=pd.DataFrame()\n",
    "df_test=pd.DataFrame()\n",
    "i=0\n",
    "nb_feature_selected=[]\n",
    "auc_labels=[]\n",
    "for label in l:\n",
    "    X_train,X_test,Y_train,Y_test = train_test_split(X,Y[:,i],test_size=0.3, random_state=5)\n",
    "    logreg = LogisticRegression(penalty='l1',solver='liblinear',max_iter=5000)\n",
    "    parameters={'C':[1e-5,1e-4,1e-3,1e-2,1e-1,1]}\n",
    "    gs=GridSearchCV(logreg,parameters,cv=3,verbose=3)\n",
    "    filename=os.path.join(project_dir,'docs/LR/joblib_LR_usage_only_penal/'+label)\n",
    "    logreg = load_fit(gs,X_train,Y_train,filename) \n",
    "    temp=logreg.best_estimator_.coef_\n",
    "    n_label=(temp>0).sum()\n",
    "    nb_feature_selected.append(n_label)\n",
    "    y_hat= logreg.predict(X_test)\n",
    "    df_hat[label] = y_hat\n",
    "    df_test[label]=Y_test\n",
    "    name_fig= os.path.join(project_dir,'docs/LR/ROC_LR_usage_only_penal/'+label)\n",
    "    AUC= plot_roc_curve(Y_test, y_hat, title=label, name_fig=name_fig,save=True)\n",
    "    auc_labels.append(AUC)\n",
    "    i+=1\n"
   ]
  },
  {
   "cell_type": "code",
   "execution_count": 108,
   "metadata": {},
   "outputs": [],
   "source": [
    "selected_features_usage=pd.DataFrame(columns=['Label','Number of Features Selected'])\n",
    "selected_features_usage['Label']=l\n",
    "selected_features_usage['Number of Features Selected']=nb_feature_selected\n",
    "selected_features_usage.to_csv(os.path.join(project_dir,'docs/LR/selected_usage.csv'), index=False)"
   ]
  },
  {
   "cell_type": "markdown",
   "metadata": {},
   "source": [
    "##### Matrices de confusion"
   ]
  },
  {
   "cell_type": "code",
   "execution_count": 204,
   "metadata": {},
   "outputs": [
    {
     "data": {
      "text/plain": [
       "<Figure size 432x288 with 0 Axes>"
      ]
     },
     "metadata": {},
     "output_type": "display_data"
    }
   ],
   "source": [
    "y_true=df_test.values\n",
    "y_pred=df_hat.values\n",
    "conf=multilabel_confusion_matrix(y_true,y_pred)\n",
    "i=0\n",
    "for cm in conf:\n",
    "    label=l[i]\n",
    "    name_fig= os.path.join(project_dir,'docs/LR/CM_LR_usage_only_penal/'+label)\n",
    "    plot_confusion_matrix(cm,title=label,classes=[label,'Others'],normalize=True,save=True,name_fig=name_fig)\n",
    "    i=i+1"
   ]
  },
  {
   "cell_type": "markdown",
   "metadata": {},
   "source": [
    "##### Résultats "
   ]
  },
  {
   "cell_type": "code",
   "execution_count": 205,
   "metadata": {},
   "outputs": [
    {
     "data": {
      "text/html": [
       "<div>\n",
       "<style scoped>\n",
       "    .dataframe tbody tr th:only-of-type {\n",
       "        vertical-align: middle;\n",
       "    }\n",
       "\n",
       "    .dataframe tbody tr th {\n",
       "        vertical-align: top;\n",
       "    }\n",
       "\n",
       "    .dataframe thead th {\n",
       "        text-align: right;\n",
       "    }\n",
       "</style>\n",
       "<table border=\"1\" class=\"dataframe\">\n",
       "  <thead>\n",
       "    <tr style=\"text-align: right;\">\n",
       "      <th></th>\n",
       "      <th>Accuracy</th>\n",
       "      <th>Precision micro</th>\n",
       "      <th>Recall micro</th>\n",
       "      <th>F1 score micro</th>\n",
       "      <th>Hamming-Loss</th>\n",
       "    </tr>\n",
       "  </thead>\n",
       "  <tbody>\n",
       "    <tr>\n",
       "      <th>Top Genre</th>\n",
       "      <td>0.108</td>\n",
       "      <td>0.162</td>\n",
       "      <td>0.138</td>\n",
       "      <td>0.149</td>\n",
       "      <td>0.088</td>\n",
       "    </tr>\n",
       "    <tr>\n",
       "      <th>RL audio (seulement) &amp; sans pénalisation</th>\n",
       "      <td>0.360</td>\n",
       "      <td>0.725</td>\n",
       "      <td>0.432</td>\n",
       "      <td>0.541</td>\n",
       "      <td>0.041</td>\n",
       "    </tr>\n",
       "    <tr>\n",
       "      <th>RL audio (seulement)&amp; pénalisation (optimisée)</th>\n",
       "      <td>0.354</td>\n",
       "      <td>0.738</td>\n",
       "      <td>0.421</td>\n",
       "      <td>0.536</td>\n",
       "      <td>0.041</td>\n",
       "    </tr>\n",
       "    <tr>\n",
       "      <th>RL usage (seulement) &amp; sans pénalisation</th>\n",
       "      <td>0.715</td>\n",
       "      <td>0.871</td>\n",
       "      <td>0.788</td>\n",
       "      <td>0.827</td>\n",
       "      <td>0.018</td>\n",
       "    </tr>\n",
       "    <tr>\n",
       "      <th>RL usage (seulement) &amp; pénalisation (optimisée)</th>\n",
       "      <td>0.715</td>\n",
       "      <td>0.871</td>\n",
       "      <td>0.787</td>\n",
       "      <td>0.827</td>\n",
       "      <td>0.018</td>\n",
       "    </tr>\n",
       "  </tbody>\n",
       "</table>\n",
       "</div>"
      ],
      "text/plain": [
       "                                                 Accuracy  Precision micro  \\\n",
       "Top Genre                                           0.108            0.162   \n",
       "RL audio (seulement) & sans pénalisation            0.360            0.725   \n",
       "RL audio (seulement)& pénalisation (optimisée)      0.354            0.738   \n",
       "RL usage (seulement) & sans pénalisation            0.715            0.871   \n",
       "RL usage (seulement) & pénalisation (optimisée)     0.715            0.871   \n",
       "\n",
       "                                                 Recall micro  F1 score micro  \\\n",
       "Top Genre                                               0.138           0.149   \n",
       "RL audio (seulement) & sans pénalisation                0.432           0.541   \n",
       "RL audio (seulement)& pénalisation (optimisée)          0.421           0.536   \n",
       "RL usage (seulement) & sans pénalisation                0.788           0.827   \n",
       "RL usage (seulement) & pénalisation (optimisée)         0.787           0.827   \n",
       "\n",
       "                                                 Hamming-Loss  \n",
       "Top Genre                                               0.088  \n",
       "RL audio (seulement) & sans pénalisation                0.041  \n",
       "RL audio (seulement)& pénalisation (optimisée)          0.041  \n",
       "RL usage (seulement) & sans pénalisation                0.018  \n",
       "RL usage (seulement) & pénalisation (optimisée)         0.018  "
      ]
     },
     "execution_count": 205,
     "metadata": {},
     "output_type": "execute_result"
    }
   ],
   "source": [
    "r=all_metrics(y_true,y_pred)\n",
    "final_res.loc['RL usage (seulement) & pénalisation (optimisée)']=r\n",
    "final_res"
   ]
  },
  {
   "cell_type": "markdown",
   "metadata": {
    "tags": []
   },
   "source": [
    "## Audio & usage features  - with penalization"
   ]
  },
  {
   "cell_type": "code",
   "execution_count": 109,
   "metadata": {},
   "outputs": [],
   "source": [
    "X,Y=extract_values_array(df,p=1,audio=True,usage=True)"
   ]
  },
  {
   "cell_type": "markdown",
   "metadata": {},
   "source": [
    "##### ROC"
   ]
  },
  {
   "cell_type": "code",
   "execution_count": 207,
   "metadata": {},
   "outputs": [],
   "source": [
    "def count_audio_usage(z):\n",
    "    audio=0\n",
    "    usage=0\n",
    "    n=len(z) # n'a de sens que si n=384=256+128\n",
    "    for i in range (len(z)):\n",
    "        if z[i]>0 and i<256:\n",
    "            audio+=1\n",
    "        if z[i]>0 and i>255: \n",
    "            usage+=1\n",
    "    return(audio,usage)"
   ]
  },
  {
   "cell_type": "code",
   "execution_count": 126,
   "metadata": {},
   "outputs": [
    {
     "data": {
      "text/plain": [
       "<Figure size 432x288 with 0 Axes>"
      ]
     },
     "metadata": {},
     "output_type": "display_data"
    }
   ],
   "source": [
    "df_hat=pd.DataFrame()\n",
    "df_test=pd.DataFrame()\n",
    "i=0\n",
    "n_features=[]\n",
    "n_audio=[]\n",
    "n_usage=[]\n",
    "auc_labels=[]\n",
    "for label in l:\n",
    "    X_train,X_test,Y_train,Y_test = train_test_split(X,Y[:,i],test_size=0.3, random_state=5)\n",
    "    logreg = LogisticRegression(penalty='l1',solver='liblinear',max_iter=5000)\n",
    "    parameters={'C':[1e-5,1e-4,1e-3,1e-2,1e-1,1]}\n",
    "    gs=GridSearchCV(logreg,parameters,cv=3,verbose=3)\n",
    "    filename=os.path.join(project_dir,'docs/LR/joblib_LR_audio_usage_penal/'+label)\n",
    "    logreg = load_fit(gs,X_train,Y_train,filename) \n",
    "    temp=logreg.best_estimator_.coef_[0]\n",
    "    n_label=(temp>0).sum()\n",
    "    n_label_a,n_label_u=count_audio_usage(temp)\n",
    "    n_audio.append(n_label_a)\n",
    "    n_usage.append(n_label_u)\n",
    "    n_features.append(n_label)\n",
    "    y_hat= logreg.predict(X_test)\n",
    "    df_hat[label] = y_hat\n",
    "    df_test[label]=Y_test\n",
    "    name_fig= os.path.join(project_dir,'docs/LR/ROC_LR_audio_usage_penal/'+label)\n",
    "    AUC= plot_roc_curve(Y_test, y_hat, title=label, name_fig=name_fig,save=True)\n",
    "    auc_labels.append(AUC)\n",
    "    i+=1\n"
   ]
  },
  {
   "cell_type": "code",
   "execution_count": 127,
   "metadata": {},
   "outputs": [
    {
     "data": {
      "image/png": "[encoded data removed]",
      "text/plain": [
       "<Figure size 432x288 with 1 Axes>"
      ]
     },
     "metadata": {
      "needs_background": "light"
     },
     "output_type": "display_data"
    }
   ],
   "source": [
    "name=os.path.join(project_dir,'docs/LR/ROC_LR_audio_usage_penal/AUC')\n",
    "graph_auc(auc_labels,'RL audio & usage, pénalisation',save=True,name_fig=name)"
   ]
  },
  {
   "cell_type": "markdown",
   "metadata": {},
   "source": [
    "##### Étude des variables séléctionnées:"
   ]
  },
  {
   "cell_type": "code",
   "execution_count": 128,
   "metadata": {},
   "outputs": [],
   "source": [
    "i=0\n",
    "for i in range (21): \n",
    "    n_audio[i]=round((n_audio[i]/n_features[i])*100,2)\n",
    "    n_usage[i]=round((n_usage[i]/n_features[i])*100,2)"
   ]
  },
  {
   "cell_type": "code",
   "execution_count": 129,
   "metadata": {},
   "outputs": [],
   "source": [
    "selected_audio_usage=pd.DataFrame(columns=['Nombre de variables sélectionnées sur 384', \"Pourcentage de variables audio\" , \"Pourcentage de variables usage\"])"
   ]
  },
  {
   "cell_type": "code",
   "execution_count": 130,
   "metadata": {},
   "outputs": [],
   "source": [
    "for i in range (21):\n",
    "    label=l[i]\n",
    "    selected_audio_usage.loc[label]=[n_features[i],n_audio[i],n_usage[i]]"
   ]
  },
  {
   "cell_type": "code",
   "execution_count": 131,
   "metadata": {},
   "outputs": [],
   "source": [
    "m=round(mean(n_features),2)\n",
    "ma=round(mean(n_audio),2)\n",
    "mu=round(mean(n_usage),2)\n",
    "selected_audio_usage.loc['Moyenne sur tous les Labels']=[m,ma,mu]"
   ]
  },
  {
   "cell_type": "code",
   "execution_count": 132,
   "metadata": {},
   "outputs": [],
   "source": [
    "selected_audio_usage.to_csv(os.path.join(project_dir,'docs/LR/selected_audio_usage.csv'))"
   ]
  },
  {
   "cell_type": "markdown",
   "metadata": {},
   "source": [
    "##### Matrice de confusion"
   ]
  },
  {
   "cell_type": "code",
   "execution_count": 215,
   "metadata": {},
   "outputs": [
    {
     "data": {
      "text/plain": [
       "<Figure size 432x288 with 0 Axes>"
      ]
     },
     "metadata": {},
     "output_type": "display_data"
    }
   ],
   "source": [
    "y_true=df_test.values\n",
    "y_pred=df_hat.values\n",
    "conf=multilabel_confusion_matrix(y_true,y_pred)\n",
    "i=0\n",
    "for cm in conf:\n",
    "    label=l[i]\n",
    "    name_fig= os.path.join(project_dir,'docs/LR/CM_LR_audio_usage_penal/'+label)\n",
    "    plot_confusion_matrix(cm,title=label,classes=[label,'Others'],normalize=True,save=True,name_fig=name_fig)\n",
    "    i=i+1"
   ]
  },
  {
   "cell_type": "markdown",
   "metadata": {},
   "source": [
    "##### Résultats"
   ]
  },
  {
   "cell_type": "code",
   "execution_count": 216,
   "metadata": {},
   "outputs": [],
   "source": [
    "r=all_metrics(y_true,y_pred)\n",
    "final_res.loc['RL audio-usage & pénalisation (optimisée)']=r"
   ]
  },
  {
   "cell_type": "code",
   "execution_count": 218,
   "metadata": {},
   "outputs": [],
   "source": [
    "final_res.to_csv(os.path.join(project_dir,'docs/LR/Results_RL.csv'))"
   ]
  },
  {
   "cell_type": "code",
   "execution_count": null,
   "metadata": {},
   "outputs": [],
   "source": [
    "### ROC CURVE même graphique"
   ]
  },
  {
   "cell_type": "code",
   "execution_count": 155,
   "metadata": {},
   "outputs": [],
   "source": [
    "def roc_same_graph(df,i,label,save=False,name_fig=None):\n",
    "    plt.clf()\n",
    "    plt.title(label)\n",
    "    plt.plot([0, 1], [0, 1],'p--')\n",
    "    plt.xlim([0, 1])\n",
    "    plt.ylim([0, 1])\n",
    "    plt.ylabel('True Positive Rate')\n",
    "    plt.xlabel('False Positive Rate')\n",
    "    X_a,Y_a=extract_values_array(df,p=1,audio=True,usage=False)\n",
    "    X_u,Y_u=extract_values_array(df,p=1,audio=False,usage=True)\n",
    "    X,Y=extract_values_array(df,p=1,audio=True,usage=True)\n",
    "    #audio\n",
    "    X_train,X_test,Y_train,Y_test = train_test_split(X_a,Y_a[:,i],test_size=0.3, random_state=5)\n",
    "    filename=os.path.join(project_dir,'docs/LR/joblib_LR_audio_only_penal/'+label)\n",
    "    logreg = LogisticRegression(penalty='l1',solver='liblinear',max_iter=5000)\n",
    "    gs=GridSearchCV(logreg,parameters,cv=3,verbose=3)\n",
    "    logreg = load_fit(gs,X_train,Y_train,filename) \n",
    "    y_hat_a= logreg.predict(X_test)\n",
    "    fpr, tpr, threshold = metrics.roc_curve(Y_test, y_hat_a)\n",
    "    roc_auc = metrics.auc(fpr, tpr)\n",
    "    plt.plot(fpr, tpr, 'b', label = 'AUC audio = %0.2f' % roc_auc)\n",
    "    #usage\n",
    "    X_train,X_test,Y_train,Y_test = train_test_split(X_u,Y_u[:,i],test_size=0.3, random_state=5)\n",
    "    filename=os.path.join(project_dir,'docs/LR/joblib_LR_usage_only_penal/'+ label)\n",
    "    logreg = LogisticRegression(penalty='l1',solver='liblinear',max_iter=5000)\n",
    "    gs=GridSearchCV(logreg,parameters,cv=3,verbose=3)\n",
    "    logreg = load_fit(gs,X_train,Y_train,filename) \n",
    "    y_hat_u= logreg.predict(X_test)\n",
    "    fpr, tpr, threshold = metrics.roc_curve(Y_test, y_hat_u)\n",
    "    roc_auc = metrics.auc(fpr, tpr)\n",
    "    plt.plot(fpr, tpr, 'r', label = 'AUC usage = %0.2f' % roc_auc)\n",
    "    #audiousage\n",
    "    X_train,X_test,Y_train,Y_test = train_test_split(X,Y[:,i],test_size=0.3, random_state=5)\n",
    "    filename=os.path.join(project_dir,'docs/LR/joblib_LR_audio_usage_penal/'+label)\n",
    "    logreg = LogisticRegression(penalty='l1',solver='liblinear',max_iter=5000)\n",
    "    gs=GridSearchCV(logreg,parameters,cv=3,verbose=3)\n",
    "    logreg = load_fit(gs,X_train,Y_train,filename) \n",
    "    y_hat= logreg.predict(X_test)\n",
    "    fpr, tpr, threshold = metrics.roc_curve(Y_test, y_hat)\n",
    "    roc_auc = metrics.auc(fpr, tpr)\n",
    "    plt.plot(fpr, tpr, 'g', label = 'AUC audio and usage = %0.2f' % roc_auc)\n",
    "    plt.legend(loc = 'lower right')\n",
    "    if not save:\n",
    "        plt.show()\n",
    "    else:\n",
    "        plt.savefig(name_fig)"
   ]
  },
  {
   "cell_type": "code",
   "execution_count": 156,
   "metadata": {},
   "outputs": [
    {
     "data": {
      "image/png": "[encoded data removed]",
      "text/plain": [
       "<Figure size 432x288 with 1 Axes>"
      ]
     },
     "metadata": {
      "needs_background": "light"
     },
     "output_type": "display_data"
    }
   ],
   "source": [
    "from sklearn import metrics\n",
    "plt.title('Classical')\n",
    "plt.plot([0, 1], [0, 1],'p--')\n",
    "plt.xlim([0, 1])\n",
    "plt.ylim([0, 1])\n",
    "plt.ylabel('True Positive Rate')\n",
    "plt.xlabel('False Positive Rate')\n",
    "#audio\n",
    "X_a,Y_a=extract_values_array(df,p=1,audio=True,usage=False)\n",
    "X_train,X_test,Y_train,Y_test = train_test_split(X_a,Y_a[:,12],test_size=0.3, random_state=5)\n",
    "filename=os.path.join(project_dir,'docs/LR/joblib_LR_audio_only_penal/'+'classical')\n",
    "logreg = LogisticRegression(penalty='l1',solver='liblinear',max_iter=5000)\n",
    "gs=GridSearchCV(logreg,parameters,cv=3,verbose=3)\n",
    "logreg = load_fit(gs,X_train,Y_train,filename) \n",
    "y_hat_a= logreg.predict(X_test)\n",
    "fpr, tpr, threshold = metrics.roc_curve(Y_test, y_hat_a)\n",
    "roc_auc = metrics.auc(fpr, tpr)\n",
    "plt.plot(fpr, tpr, 'b', label = 'AUC audio = %0.2f' % roc_auc)\n",
    "#usage\n",
    "X_u,Y_u=extract_values_array(df,p=1,audio=False,usage=True)\n",
    "X_train,X_test,Y_train,Y_test = train_test_split(X_u,Y_u[:,12],test_size=0.3, random_state=5)\n",
    "filename=os.path.join(project_dir,'docs/LR/joblib_LR_usage_only_penal/'+'classical')\n",
    "logreg = LogisticRegression(penalty='l1',solver='liblinear',max_iter=5000)\n",
    "gs=GridSearchCV(logreg,parameters,cv=3,verbose=3)\n",
    "logreg = load_fit(gs,X_train,Y_train,filename) \n",
    "y_hat_u= logreg.predict(X_test)\n",
    "fpr, tpr, threshold = metrics.roc_curve(Y_test, y_hat_u)\n",
    "roc_auc = metrics.auc(fpr, tpr)\n",
    "plt.plot(fpr, tpr, 'r', label = 'AUC usage = %0.2f' % roc_auc)\n",
    "#audiousage\n",
    "X,Y=extract_values_array(df,p=1,audio=True,usage=True)\n",
    "X_train,X_test,Y_train,Y_test = train_test_split(X,Y[:,12],test_size=0.3, random_state=5)\n",
    "filename=os.path.join(project_dir,'docs/LR/joblib_LR_audio_usage_penal/'+'classical')\n",
    "logreg = LogisticRegression(penalty='l1',solver='liblinear',max_iter=5000)\n",
    "gs=GridSearchCV(logreg,parameters,cv=3,verbose=3)\n",
    "logreg = load_fit(gs,X_train,Y_train,filename) \n",
    "y_hat= logreg.predict(X_test)\n",
    "fpr, tpr, threshold = metrics.roc_curve(Y_test, y_hat)\n",
    "roc_auc = metrics.auc(fpr, tpr)\n",
    "plt.plot(fpr, tpr, 'g', label = 'AUC audio and usage = %0.2f' % roc_auc)\n",
    "plt.legend(loc = 'lower right')\n",
    "plt.show()"
   ]
  },
  {
   "cell_type": "code",
   "execution_count": 157,
   "metadata": {},
   "outputs": [
    {
     "data": {
      "image/png": "[encoded data removed]",
      "text/plain": [
       "<Figure size 432x288 with 1 Axes>"
      ]
     },
     "metadata": {
      "needs_background": "light"
     },
     "output_type": "display_data"
    }
   ],
   "source": [
    "i=0\n",
    "for label in l:\n",
    "    filename=os.path.join(project_dir,'docs/LR/ROC/'+label)\n",
    "    roc_same_graph(df,i,label,save=True,name_fig=filename)\n",
    "    i=i+1"
   ]
  },
  {
   "cell_type": "code",
   "execution_count": null,
   "metadata": {},
   "outputs": [],
   "source": []
  }
 ],
 "metadata": {
  "colab": {
   "collapsed_sections": [],
   "name": "metrics_models",
   "provenance": []
  },
  "kernelspec": {
   "display_name": "Python 3 (ipykernel)",
   "language": "python",
   "name": "python3"
  },
  "language_info": {
   "codemirror_mode": {
    "name": "ipython",
    "version": 3
   },
   "file_extension": ".py",
   "mimetype": "text/x-python",
   "name": "python",
   "nbconvert_exporter": "python",
   "pygments_lexer": "ipython3",
   "version": "3.9.12"
  }
 },
 "nbformat": 4,
 "nbformat_minor": 4
}
