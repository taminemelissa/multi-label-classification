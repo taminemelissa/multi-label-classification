{
 "cells": [
  {
   "cell_type": "code",
   "execution_count": 58,
   "id": "4ae7f1c8-45d9-4bf2-a104-b1fe3b46f317",
   "metadata": {
    "tags": []
   },
   "outputs": [
    {
     "name": "stdout",
     "output_type": "stream",
     "text": [
      "Requirement already satisfied: xgboost in /opt/conda/lib/python3.9/site-packages (1.5.0)\n",
      "Requirement already satisfied: numpy in /opt/conda/lib/python3.9/site-packages (from xgboost) (1.21.6)\n",
      "Requirement already satisfied: scipy in /opt/conda/lib/python3.9/site-packages (from xgboost) (1.8.0)\n"
     ]
    }
   ],
   "source": [
    "!pip install xgboost"
   ]
  },
  {
   "cell_type": "code",
   "execution_count": 59,
   "id": "25848cdf-234f-4cf7-804c-16c340a384a9",
   "metadata": {
    "tags": []
   },
   "outputs": [],
   "source": [
    "import numpy as np \n",
    "import pandas as pd \n",
    "import xgboost as xgb \n",
    "from sklearn.model_selection import train_test_split\n",
    "from sklearn.metrics import confusion_matrix\n",
    "from sklearn.metrics import roc_auc_score\n",
    "from sklearn.metrics import classification_report\n",
    "from sklearn.datasets import make_multilabel_classification\n",
    "from xgboost import XGBClassifier\n",
    "from sklearn.model_selection import KFold\n",
    "from sklearn.multioutput import MultiOutputClassifier\n",
    "from sklearn.pipeline import Pipeline\n"
   ]
  },
  {
   "cell_type": "code",
   "execution_count": 60,
   "id": "ee40263e-f6a3-44ff-a330-2cac3f91445f",
   "metadata": {},
   "outputs": [],
   "source": [
    "import os\n",
    "import sys\n",
    "project_dir = os.getcwd().split('notebooks')[0]\n",
    "sys.path.append(project_dir)"
   ]
  },
  {
   "cell_type": "code",
   "execution_count": 61,
   "id": "45ca6a09-f1b1-4c72-a2c9-000d01b4d38a",
   "metadata": {},
   "outputs": [],
   "source": [
    "import numpy as np\n",
    "import pandas as pd\n",
    "from math import *\n",
    "import matplotlib.pyplot as plt\n",
    "import scipy\n",
    "import seaborn as sns\n",
    "import sklearn.preprocessing\n",
    "from sklearn.model_selection import train_test_split \n",
    "from src.utils.extract_data import *\n",
    "from src.utils.metrics_plot import *\n",
    "from sklearn.metrics import precision_score\n",
    "from sklearn.metrics import accuracy_score\n",
    "from sklearn.metrics import recall_score\n",
    "from sklearn.metrics import hamming_loss\n",
    "from sklearn.metrics import f1_score\n",
    "from sklearn.metrics import multilabel_confusion_matrix\n",
    "from statistics import mean\n"
   ]
  },
  {
   "cell_type": "code",
   "execution_count": 62,
   "id": "bf317dbd-ecf7-4538-874c-025f76283855",
   "metadata": {},
   "outputs": [
    {
     "data": {
      "text/html": [
       "<div>\n",
       "<style scoped>\n",
       "    .dataframe tbody tr th:only-of-type {\n",
       "        vertical-align: middle;\n",
       "    }\n",
       "\n",
       "    .dataframe tbody tr th {\n",
       "        vertical-align: top;\n",
       "    }\n",
       "\n",
       "    .dataframe thead th {\n",
       "        text-align: right;\n",
       "    }\n",
       "</style>\n",
       "<table border=\"1\" class=\"dataframe\">\n",
       "  <thead>\n",
       "    <tr style=\"text-align: right;\">\n",
       "      <th></th>\n",
       "      <th>asian</th>\n",
       "      <th>rnb</th>\n",
       "      <th>reggae</th>\n",
       "      <th>blues</th>\n",
       "      <th>pop</th>\n",
       "      <th>dance</th>\n",
       "      <th>folk</th>\n",
       "      <th>arabic-music</th>\n",
       "      <th>indie</th>\n",
       "      <th>rock</th>\n",
       "      <th>...</th>\n",
       "      <th>usage_feature_119</th>\n",
       "      <th>usage_feature_120</th>\n",
       "      <th>usage_feature_121</th>\n",
       "      <th>usage_feature_122</th>\n",
       "      <th>usage_feature_123</th>\n",
       "      <th>usage_feature_124</th>\n",
       "      <th>usage_feature_125</th>\n",
       "      <th>usage_feature_126</th>\n",
       "      <th>usage_feature_127</th>\n",
       "      <th>usage_feature_128</th>\n",
       "    </tr>\n",
       "    <tr>\n",
       "      <th>song_index</th>\n",
       "      <th></th>\n",
       "      <th></th>\n",
       "      <th></th>\n",
       "      <th></th>\n",
       "      <th></th>\n",
       "      <th></th>\n",
       "      <th></th>\n",
       "      <th></th>\n",
       "      <th></th>\n",
       "      <th></th>\n",
       "      <th></th>\n",
       "      <th></th>\n",
       "      <th></th>\n",
       "      <th></th>\n",
       "      <th></th>\n",
       "      <th></th>\n",
       "      <th></th>\n",
       "      <th></th>\n",
       "      <th></th>\n",
       "      <th></th>\n",
       "      <th></th>\n",
       "    </tr>\n",
       "  </thead>\n",
       "  <tbody>\n",
       "    <tr>\n",
       "      <th>195</th>\n",
       "      <td>0</td>\n",
       "      <td>0</td>\n",
       "      <td>0</td>\n",
       "      <td>0</td>\n",
       "      <td>0</td>\n",
       "      <td>0</td>\n",
       "      <td>0</td>\n",
       "      <td>0</td>\n",
       "      <td>0</td>\n",
       "      <td>0</td>\n",
       "      <td>...</td>\n",
       "      <td>0.008582</td>\n",
       "      <td>-0.000024</td>\n",
       "      <td>-0.272207</td>\n",
       "      <td>0.210503</td>\n",
       "      <td>0.030972</td>\n",
       "      <td>0.080964</td>\n",
       "      <td>-0.015423</td>\n",
       "      <td>0.102148</td>\n",
       "      <td>0.365081</td>\n",
       "      <td>-0.066897</td>\n",
       "    </tr>\n",
       "    <tr>\n",
       "      <th>417</th>\n",
       "      <td>0</td>\n",
       "      <td>0</td>\n",
       "      <td>0</td>\n",
       "      <td>0</td>\n",
       "      <td>0</td>\n",
       "      <td>0</td>\n",
       "      <td>0</td>\n",
       "      <td>0</td>\n",
       "      <td>0</td>\n",
       "      <td>1</td>\n",
       "      <td>...</td>\n",
       "      <td>-0.182309</td>\n",
       "      <td>-0.051225</td>\n",
       "      <td>-0.004617</td>\n",
       "      <td>-0.005726</td>\n",
       "      <td>-0.038334</td>\n",
       "      <td>-0.063972</td>\n",
       "      <td>0.053881</td>\n",
       "      <td>-0.001152</td>\n",
       "      <td>0.045032</td>\n",
       "      <td>0.027505</td>\n",
       "    </tr>\n",
       "    <tr>\n",
       "      <th>530</th>\n",
       "      <td>0</td>\n",
       "      <td>0</td>\n",
       "      <td>0</td>\n",
       "      <td>0</td>\n",
       "      <td>1</td>\n",
       "      <td>0</td>\n",
       "      <td>0</td>\n",
       "      <td>0</td>\n",
       "      <td>0</td>\n",
       "      <td>0</td>\n",
       "      <td>...</td>\n",
       "      <td>-0.044620</td>\n",
       "      <td>-0.132282</td>\n",
       "      <td>-0.141684</td>\n",
       "      <td>-0.106271</td>\n",
       "      <td>-0.189065</td>\n",
       "      <td>-0.229804</td>\n",
       "      <td>0.083824</td>\n",
       "      <td>-0.160790</td>\n",
       "      <td>0.040417</td>\n",
       "      <td>-0.094503</td>\n",
       "    </tr>\n",
       "    <tr>\n",
       "      <th>909</th>\n",
       "      <td>0</td>\n",
       "      <td>0</td>\n",
       "      <td>0</td>\n",
       "      <td>0</td>\n",
       "      <td>0</td>\n",
       "      <td>0</td>\n",
       "      <td>0</td>\n",
       "      <td>0</td>\n",
       "      <td>0</td>\n",
       "      <td>1</td>\n",
       "      <td>...</td>\n",
       "      <td>-0.127573</td>\n",
       "      <td>-0.068515</td>\n",
       "      <td>-0.106374</td>\n",
       "      <td>-0.102694</td>\n",
       "      <td>-0.066937</td>\n",
       "      <td>0.026911</td>\n",
       "      <td>-0.032158</td>\n",
       "      <td>0.063670</td>\n",
       "      <td>-0.026653</td>\n",
       "      <td>-0.068251</td>\n",
       "    </tr>\n",
       "    <tr>\n",
       "      <th>1257</th>\n",
       "      <td>0</td>\n",
       "      <td>0</td>\n",
       "      <td>0</td>\n",
       "      <td>0</td>\n",
       "      <td>0</td>\n",
       "      <td>0</td>\n",
       "      <td>0</td>\n",
       "      <td>0</td>\n",
       "      <td>0</td>\n",
       "      <td>0</td>\n",
       "      <td>...</td>\n",
       "      <td>0.024463</td>\n",
       "      <td>-0.052952</td>\n",
       "      <td>-0.059056</td>\n",
       "      <td>0.041670</td>\n",
       "      <td>-0.025673</td>\n",
       "      <td>-0.000446</td>\n",
       "      <td>-0.003438</td>\n",
       "      <td>0.060359</td>\n",
       "      <td>0.058938</td>\n",
       "      <td>0.029523</td>\n",
       "    </tr>\n",
       "    <tr>\n",
       "      <th>...</th>\n",
       "      <td>...</td>\n",
       "      <td>...</td>\n",
       "      <td>...</td>\n",
       "      <td>...</td>\n",
       "      <td>...</td>\n",
       "      <td>...</td>\n",
       "      <td>...</td>\n",
       "      <td>...</td>\n",
       "      <td>...</td>\n",
       "      <td>...</td>\n",
       "      <td>...</td>\n",
       "      <td>...</td>\n",
       "      <td>...</td>\n",
       "      <td>...</td>\n",
       "      <td>...</td>\n",
       "      <td>...</td>\n",
       "      <td>...</td>\n",
       "      <td>...</td>\n",
       "      <td>...</td>\n",
       "      <td>...</td>\n",
       "      <td>...</td>\n",
       "    </tr>\n",
       "    <tr>\n",
       "      <th>49454</th>\n",
       "      <td>0</td>\n",
       "      <td>0</td>\n",
       "      <td>0</td>\n",
       "      <td>0</td>\n",
       "      <td>1</td>\n",
       "      <td>0</td>\n",
       "      <td>0</td>\n",
       "      <td>0</td>\n",
       "      <td>0</td>\n",
       "      <td>0</td>\n",
       "      <td>...</td>\n",
       "      <td>-0.034780</td>\n",
       "      <td>0.112294</td>\n",
       "      <td>-0.084898</td>\n",
       "      <td>-0.191570</td>\n",
       "      <td>0.153120</td>\n",
       "      <td>0.106828</td>\n",
       "      <td>0.056458</td>\n",
       "      <td>0.127816</td>\n",
       "      <td>0.086341</td>\n",
       "      <td>-0.024928</td>\n",
       "    </tr>\n",
       "    <tr>\n",
       "      <th>49589</th>\n",
       "      <td>0</td>\n",
       "      <td>0</td>\n",
       "      <td>0</td>\n",
       "      <td>0</td>\n",
       "      <td>0</td>\n",
       "      <td>0</td>\n",
       "      <td>0</td>\n",
       "      <td>1</td>\n",
       "      <td>0</td>\n",
       "      <td>0</td>\n",
       "      <td>...</td>\n",
       "      <td>0.063418</td>\n",
       "      <td>0.166352</td>\n",
       "      <td>0.021962</td>\n",
       "      <td>0.003740</td>\n",
       "      <td>0.146321</td>\n",
       "      <td>-0.094655</td>\n",
       "      <td>-0.118755</td>\n",
       "      <td>-0.008160</td>\n",
       "      <td>-0.068332</td>\n",
       "      <td>0.041923</td>\n",
       "    </tr>\n",
       "    <tr>\n",
       "      <th>49689</th>\n",
       "      <td>0</td>\n",
       "      <td>0</td>\n",
       "      <td>0</td>\n",
       "      <td>0</td>\n",
       "      <td>0</td>\n",
       "      <td>0</td>\n",
       "      <td>0</td>\n",
       "      <td>0</td>\n",
       "      <td>0</td>\n",
       "      <td>0</td>\n",
       "      <td>...</td>\n",
       "      <td>-0.000624</td>\n",
       "      <td>-0.037719</td>\n",
       "      <td>0.018047</td>\n",
       "      <td>0.028091</td>\n",
       "      <td>-0.000380</td>\n",
       "      <td>0.015697</td>\n",
       "      <td>-0.035737</td>\n",
       "      <td>-0.022669</td>\n",
       "      <td>-0.003089</td>\n",
       "      <td>-0.014504</td>\n",
       "    </tr>\n",
       "    <tr>\n",
       "      <th>50137</th>\n",
       "      <td>0</td>\n",
       "      <td>0</td>\n",
       "      <td>0</td>\n",
       "      <td>0</td>\n",
       "      <td>0</td>\n",
       "      <td>0</td>\n",
       "      <td>0</td>\n",
       "      <td>0</td>\n",
       "      <td>0</td>\n",
       "      <td>0</td>\n",
       "      <td>...</td>\n",
       "      <td>0.063921</td>\n",
       "      <td>0.000640</td>\n",
       "      <td>-0.081422</td>\n",
       "      <td>-0.012015</td>\n",
       "      <td>-0.046315</td>\n",
       "      <td>-0.112069</td>\n",
       "      <td>0.017265</td>\n",
       "      <td>-0.063093</td>\n",
       "      <td>-0.134029</td>\n",
       "      <td>-0.007111</td>\n",
       "    </tr>\n",
       "    <tr>\n",
       "      <th>50139</th>\n",
       "      <td>0</td>\n",
       "      <td>0</td>\n",
       "      <td>0</td>\n",
       "      <td>0</td>\n",
       "      <td>0</td>\n",
       "      <td>0</td>\n",
       "      <td>0</td>\n",
       "      <td>1</td>\n",
       "      <td>0</td>\n",
       "      <td>0</td>\n",
       "      <td>...</td>\n",
       "      <td>0.093129</td>\n",
       "      <td>0.057563</td>\n",
       "      <td>-0.024371</td>\n",
       "      <td>-0.045108</td>\n",
       "      <td>0.084159</td>\n",
       "      <td>-0.003091</td>\n",
       "      <td>-0.109752</td>\n",
       "      <td>-0.009464</td>\n",
       "      <td>-0.059858</td>\n",
       "      <td>-0.001987</td>\n",
       "    </tr>\n",
       "  </tbody>\n",
       "</table>\n",
       "<p>50562 rows × 407 columns</p>\n",
       "</div>"
      ],
      "text/plain": [
       "            asian  rnb  reggae  blues  pop  dance  folk  arabic-music  indie  \\\n",
       "song_index                                                                     \n",
       "195             0    0       0      0    0      0     0             0      0   \n",
       "417             0    0       0      0    0      0     0             0      0   \n",
       "530             0    0       0      0    1      0     0             0      0   \n",
       "909             0    0       0      0    0      0     0             0      0   \n",
       "1257            0    0       0      0    0      0     0             0      0   \n",
       "...           ...  ...     ...    ...  ...    ...   ...           ...    ...   \n",
       "49454           0    0       0      0    1      0     0             0      0   \n",
       "49589           0    0       0      0    0      0     0             1      0   \n",
       "49689           0    0       0      0    0      0     0             0      0   \n",
       "50137           0    0       0      0    0      0     0             0      0   \n",
       "50139           0    0       0      0    0      0     0             1      0   \n",
       "\n",
       "            rock  ...  usage_feature_119  usage_feature_120  \\\n",
       "song_index        ...                                         \n",
       "195            0  ...           0.008582          -0.000024   \n",
       "417            1  ...          -0.182309          -0.051225   \n",
       "530            0  ...          -0.044620          -0.132282   \n",
       "909            1  ...          -0.127573          -0.068515   \n",
       "1257           0  ...           0.024463          -0.052952   \n",
       "...          ...  ...                ...                ...   \n",
       "49454          0  ...          -0.034780           0.112294   \n",
       "49589          0  ...           0.063418           0.166352   \n",
       "49689          0  ...          -0.000624          -0.037719   \n",
       "50137          0  ...           0.063921           0.000640   \n",
       "50139          0  ...           0.093129           0.057563   \n",
       "\n",
       "            usage_feature_121  usage_feature_122  usage_feature_123  \\\n",
       "song_index                                                            \n",
       "195                 -0.272207           0.210503           0.030972   \n",
       "417                 -0.004617          -0.005726          -0.038334   \n",
       "530                 -0.141684          -0.106271          -0.189065   \n",
       "909                 -0.106374          -0.102694          -0.066937   \n",
       "1257                -0.059056           0.041670          -0.025673   \n",
       "...                       ...                ...                ...   \n",
       "49454               -0.084898          -0.191570           0.153120   \n",
       "49589                0.021962           0.003740           0.146321   \n",
       "49689                0.018047           0.028091          -0.000380   \n",
       "50137               -0.081422          -0.012015          -0.046315   \n",
       "50139               -0.024371          -0.045108           0.084159   \n",
       "\n",
       "            usage_feature_124  usage_feature_125  usage_feature_126  \\\n",
       "song_index                                                            \n",
       "195                  0.080964          -0.015423           0.102148   \n",
       "417                 -0.063972           0.053881          -0.001152   \n",
       "530                 -0.229804           0.083824          -0.160790   \n",
       "909                  0.026911          -0.032158           0.063670   \n",
       "1257                -0.000446          -0.003438           0.060359   \n",
       "...                       ...                ...                ...   \n",
       "49454                0.106828           0.056458           0.127816   \n",
       "49589               -0.094655          -0.118755          -0.008160   \n",
       "49689                0.015697          -0.035737          -0.022669   \n",
       "50137               -0.112069           0.017265          -0.063093   \n",
       "50139               -0.003091          -0.109752          -0.009464   \n",
       "\n",
       "            usage_feature_127  usage_feature_128  \n",
       "song_index                                        \n",
       "195                  0.365081          -0.066897  \n",
       "417                  0.045032           0.027505  \n",
       "530                  0.040417          -0.094503  \n",
       "909                 -0.026653          -0.068251  \n",
       "1257                 0.058938           0.029523  \n",
       "...                       ...                ...  \n",
       "49454                0.086341          -0.024928  \n",
       "49589               -0.068332           0.041923  \n",
       "49689               -0.003089          -0.014504  \n",
       "50137               -0.134029          -0.007111  \n",
       "50139               -0.059858          -0.001987  \n",
       "\n",
       "[50562 rows x 407 columns]"
      ]
     },
     "execution_count": 62,
     "metadata": {},
     "output_type": "execute_result"
    }
   ],
   "source": [
    "transform_parquet_to_csv(os.path.join(project_dir,'dataset2.parquet'),os.path.join(project_dir,'dataset.csv'))"
   ]
  },
  {
   "cell_type": "code",
   "execution_count": 63,
   "id": "5f9a9ddf-126e-48fc-93d7-0113acf963f8",
   "metadata": {},
   "outputs": [],
   "source": [
    "df=pd.read_csv(os.path.join(project_dir,'dataset.csv'))\n",
    "X,Y=extract_values_array(df,p=1,audio=True,usage=True)\n",
    "l=list(df.columns[0:22])\n",
    "l.remove('song_index')"
   ]
  },
  {
   "cell_type": "code",
   "execution_count": 64,
   "id": "8d46c8dc-d450-4248-a8ab-33810f026924",
   "metadata": {},
   "outputs": [],
   "source": [
    "metrics=['Accuracy','Precision micro', 'Recall micro', 'F1 score micro', 'Hamming-Loss']\n",
    "final_res=pd.DataFrame(columns=metrics)"
   ]
  },
  {
   "cell_type": "code",
   "execution_count": 65,
   "id": "2f2a17a4-5d61-460c-b7d2-29b069561906",
   "metadata": {},
   "outputs": [
    {
     "data": {
      "image/png": "[encoded data removed]",
      "text/plain": [
       "<Figure size 432x288 with 2 Axes>"
      ]
     },
     "metadata": {
      "needs_background": "light"
     },
     "output_type": "display_data"
    }
   ],
   "source": [
    "labels = [\"True Pos\",\"False Neg\",\"False Pos\",\"True Neg\"]\n",
    "labels = np.asarray(labels).reshape(2,2)\n",
    "sns.heatmap(np.eye(2), annot=labels, fmt=\"\", cmap='Blues')\n",
    "plt.savefig('Modèle Matrice de Confusion')"
   ]
  },
  {
   "cell_type": "code",
   "execution_count": 66,
   "id": "e5591b16-bdc3-4b5e-874e-a53db371a1c3",
   "metadata": {},
   "outputs": [],
   "source": [
    "metrics=['Accuracy','Precision micro', 'Recall micro', 'F1 score micro', 'Hamming-Loss']\n",
    "final_res=pd.DataFrame(columns=metrics)"
   ]
  },
  {
   "cell_type": "code",
   "execution_count": 67,
   "id": "c3c744c4-9603-4dbd-ad66-7df06d52130e",
   "metadata": {},
   "outputs": [
    {
     "name": "stdout",
     "output_type": "stream",
     "text": [
      "No Warning Shown\n"
     ]
    }
   ],
   "source": [
    "import warnings\n",
    "warnings.filterwarnings('ignore')\n",
    "warnings.warn('DelftStack')\n",
    "warnings.warn('Do not show this message')\n",
    "print(\"No Warning Shown\")"
   ]
  },
  {
   "cell_type": "code",
   "execution_count": 68,
   "id": "09957bcb-b570-40d1-89ed-8a6124e3df85",
   "metadata": {},
   "outputs": [],
   "source": [
    "X_train, X_test, y_train,y_test = train_test_split(X, Y, train_size=0.7, random_state=88)"
   ]
  },
  {
   "cell_type": "code",
   "execution_count": 69,
   "id": "aa3085f1-8aca-4723-96d2-12fe69aabad7",
   "metadata": {},
   "outputs": [
    {
     "data": {
      "text/plain": [
       "<Figure size 432x288 with 0 Axes>"
      ]
     },
     "metadata": {},
     "output_type": "display_data"
    }
   ],
   "source": [
    "i=0\n",
    "df_hat=pd.DataFrame()\n",
    "df_test=pd.DataFrame()\n",
    "auc_labels=[]\n",
    "params = {\n",
    "        'eta': 0.3,\n",
    "        'objective': 'binary:logistic',\n",
    "        'gamma': 0.01,\n",
    "        'max_depth': 8,\n",
    "    }\n",
    "for label in l:\n",
    "    Y_train,Y_test = y_train[:,i],y_test[:,i]\n",
    "    xgtrain = xgb.DMatrix(X_train, Y_train)\n",
    "    xgtest = xgb.DMatrix(X_test)\n",
    "    filename =os.path.join(project_dir,'docs/XGB/joblib_XGB2/'+label+'.json')\n",
    "    if not os.path.exists(filename):\n",
    "        bst=xgb.train(dtrain=xgtrain,params=params)\n",
    "        bst.save_model(filename)\n",
    "    else:\n",
    "        bst = xgb.Booster()\n",
    "        bst.load_model(filename)\n",
    "    y_hat = ((bst.predict(xgtest))>0.5)*1\n",
    "    df_hat[label] = y_hat\n",
    "    df_test[label]=Y_test\n",
    "    title='ROC curve ' + label + ' XGB'\n",
    "    name_fig=os.path.join(project_dir,'docs/XGB/ROC/'+label)\n",
    "    AUC= plot_roc_curve(Y_test, y_hat, title=title, name_fig=name_fig,save=True)\n",
    "    auc_labels.append(AUC)\n",
    "    i+=1"
   ]
  },
  {
   "cell_type": "code",
   "execution_count": 73,
   "id": "690fbd3a-42b0-48e3-844f-c060f9e68500",
   "metadata": {
    "tags": []
   },
   "outputs": [
    {
     "data": {
      "text/html": [
       "<div>\n",
       "<style scoped>\n",
       "    .dataframe tbody tr th:only-of-type {\n",
       "        vertical-align: middle;\n",
       "    }\n",
       "\n",
       "    .dataframe tbody tr th {\n",
       "        vertical-align: top;\n",
       "    }\n",
       "\n",
       "    .dataframe thead th {\n",
       "        text-align: right;\n",
       "    }\n",
       "</style>\n",
       "<table border=\"1\" class=\"dataframe\">\n",
       "  <thead>\n",
       "    <tr style=\"text-align: right;\">\n",
       "      <th></th>\n",
       "      <th>Accuracy</th>\n",
       "      <th>Precision micro</th>\n",
       "      <th>Recall micro</th>\n",
       "      <th>F1 score micro</th>\n",
       "      <th>Hamming-Loss</th>\n",
       "    </tr>\n",
       "  </thead>\n",
       "  <tbody>\n",
       "    <tr>\n",
       "      <th>XGB</th>\n",
       "      <td>0.749</td>\n",
       "      <td>0.904</td>\n",
       "      <td>0.799</td>\n",
       "      <td>0.849</td>\n",
       "      <td>0.016</td>\n",
       "    </tr>\n",
       "  </tbody>\n",
       "</table>\n",
       "</div>"
      ],
      "text/plain": [
       "     Accuracy  Precision micro  Recall micro  F1 score micro  Hamming-Loss\n",
       "XGB     0.749            0.904         0.799           0.849         0.016"
      ]
     },
     "execution_count": 73,
     "metadata": {},
     "output_type": "execute_result"
    }
   ],
   "source": [
    "y_true=df_test.values\n",
    "y_pred=df_hat.values\n",
    "r=all_metrics(y_true,y_pred)\n",
    "final_res.loc['XGB']=r\n",
    "final_res"
   ]
  },
  {
   "cell_type": "markdown",
   "id": "e21773c8-43c7-4ca3-8040-511868c72d2a",
   "metadata": {},
   "source": [
    "##### CM"
   ]
  },
  {
   "cell_type": "code",
   "execution_count": 74,
   "id": "5974e371-b5bc-4bf8-9d71-63f7755f1431",
   "metadata": {},
   "outputs": [
    {
     "data": {
      "text/plain": [
       "<Figure size 432x288 with 0 Axes>"
      ]
     },
     "metadata": {},
     "output_type": "display_data"
    }
   ],
   "source": [
    "conf=multilabel_confusion_matrix(y_true,y_pred)\n",
    "i=0\n",
    "for cm in conf:\n",
    "    label=l[i]\n",
    "    name_fig= os.path.join(project_dir,'docs/XGB/CM_XGB/'+label)\n",
    "    plot_confusion_matrix(cm,title=label,classes=[label,'Others'],normalize=True,save=True,name_fig=name_fig)\n",
    "    i=i+1"
   ]
  },
  {
   "cell_type": "code",
   "execution_count": 75,
   "id": "913ad309-6bd4-4b02-8db1-0909fb5f1099",
   "metadata": {},
   "outputs": [
    {
     "data": {
      "image/png": "[encoded data removed]",
      "text/plain": [
       "<Figure size 432x288 with 1 Axes>"
      ]
     },
     "metadata": {
      "needs_background": "light"
     },
     "output_type": "display_data"
    }
   ],
   "source": [
    "name=os.path.join(project_dir,'docs/XGB/ROC/AUC')\n",
    "graph_auc(auc_labels,'XGB audio et usage',save=True,name_fig=name)\n"
   ]
  },
  {
   "cell_type": "markdown",
   "id": "e544d2f7-84e9-446e-8646-0a3ca9a846b2",
   "metadata": {},
   "source": [
    "### TUNNING POUR CLASSIQUE"
   ]
  },
  {
   "cell_type": "code",
   "execution_count": 14,
   "id": "1d61f10e-736f-4463-8e89-8b18a86d7d5e",
   "metadata": {
    "tags": []
   },
   "outputs": [],
   "source": [
    "X_train, X_test, y_train,y_test = train_test_split(X, Y[:,12], train_size=0.8, random_state=88)"
   ]
  },
  {
   "cell_type": "code",
   "execution_count": null,
   "id": "199b6f92-5696-41f1-86d6-8bcdbfd3e1ff",
   "metadata": {
    "tags": []
   },
   "outputs": [],
   "source": [
    "from sklearn.model_selection import GridSearchCV\n",
    "params = { 'max_depth': [3,6,10], #par defaut=6, augmente bcp la mémoire et le temps de calcul on se restreint à 10 max\n",
    "           'learning_rate': [ 0.05, 0.1, 0.3], #taux qu'on met devant chaque nouvel arbre pr la final computation\n",
    "           'n_estimators': [100, 500, 1000],\n",
    "          \"min_child_weight\" : [ 1, 3, 5], #Min child weight makes sure a leaf has enough cover, leading to controlled weight or score. Gamma makes sure we are not splitting a node such that the overall gain from parent to children is very low. So they are not the same.\n",
    "             \"gamma\" : [ 0.0, 0.1, 0.2 , 0.3 ],\n",
    "           'colsample_bytree': [0.3, 0.7]} # is the subsample ratio of columns when constructing each tree. Subsampling occurs once for every tree constructed.\n",
    "xgbr = XGBClassifier(objective='binary:logistic')\n",
    "clf = GridSearchCV(estimator=xgbr, param_grid=params,verbose=2)\n",
    "clf.fit(X_train,y_train)"
   ]
  },
  {
   "cell_type": "code",
   "execution_count": null,
   "id": "dc6c492c-547c-490f-be0b-d5084c674cbc",
   "metadata": {
    "tags": []
   },
   "outputs": [],
   "source": [
    " print(clf.best_params_)\n",
    "xgb_hyper=clf.best_estimator"
   ]
  },
  {
   "cell_type": "markdown",
   "id": "f4161c77-d762-4e18-95de-beaab5bd51ab",
   "metadata": {},
   "source": [
    "### TUNNING POUR INDIE"
   ]
  },
  {
   "cell_type": "code",
   "execution_count": 76,
   "id": "5ec19be5-e31a-49ed-9442-a3b6f7d8525f",
   "metadata": {},
   "outputs": [],
   "source": [
    "X_train, X_test, y_train, y_test = train_test_split(X, Y[:,8], train_size=0.8, random_state=88)"
   ]
  },
  {
   "cell_type": "raw",
   "id": "41e3d0eb-32b4-43bf-ad60-a7894a6de473",
   "metadata": {
    "jupyter": {
     "outputs_hidden": true
    },
    "tags": []
   },
   "source": [
    "from sklearn.model_selection import GridSearchCV\n",
    "params = { 'max_depth': [3,6,10], #par defaut=6, augmente bcp la mémoire et le temps de calcul on se restreint à 10 max\n",
    "           'learning_rate': [0.05, 0.1, 0.25], #taux qu'on met devant chaque nouvel arbre pr la final computation\n",
    "           'n_estimators': [100, 500, 1000],\n",
    "          \"min_child_weight\" : [ 1, 3, 5], #Min child weight makes sure a leaf has enough cover, leading to controlled weight or score. Gamma makes sure we are not splitting a node such that the overall gain from parent to children is very low. So they are not the same.\n",
    "             \"gamma\" : [ 0.0, 0.1, 0.25 ],\n",
    "           'colsample_bytree': [0.3, 0.7]} # is the subsample ratio of columns when constructing each tree. Subsampling occurs once for every tree constructed.\n",
    "xgbr = XGBClassifier(objective='binary:logistic')\n",
    "clf = GridSearchCV(estimator=xgbr, param_grid=params,cv=3,verbose=4)\n",
    "clf.fit(X_train,y_train)"
   ]
  },
  {
   "cell_type": "markdown",
   "id": "9e7b8412-e803-4578-9417-9bb7d554fab2",
   "metadata": {},
   "source": [
    "on trouve les paramètres suivant: \\\n",
    "{'colsample_bytree': 0.7, 'gamma': 0.0, 'learning_rate': 0.05, 'max_depth': 10, 'min_child_weight': 1, 'n_estimators': 1000}"
   ]
  },
  {
   "cell_type": "code",
   "execution_count": 77,
   "id": "fb9476cf-4aff-494f-b942-354833289fe6",
   "metadata": {
    "tags": []
   },
   "outputs": [],
   "source": [
    "xgb_hyper=XGBClassifier(objective='binary:logistic', colsample_bytree= 0.7, gamma= 0.0, \n",
    "                                learning_rate=0.05, max_depth=10, min_child_weight=1, n_estimators=1000)"
   ]
  },
  {
   "cell_type": "code",
   "execution_count": 78,
   "id": "46b37ae0-54ea-4988-b3c0-97a6752ae0a8",
   "metadata": {},
   "outputs": [],
   "source": [
    "xgb_hyper.fit(X_train,y_train)\n",
    "y_hat=xgb_hyper.predict(X_test)"
   ]
  },
  {
   "cell_type": "code",
   "execution_count": 80,
   "id": "835faf61-4e07-443b-a9d1-d6d6c4223d0b",
   "metadata": {},
   "outputs": [
    {
     "data": {
      "image/png": "[encoded data removed]",
      "text/plain": [
       "<Figure size 432x288 with 1 Axes>"
      ]
     },
     "metadata": {
      "needs_background": "light"
     },
     "output_type": "display_data"
    },
    {
     "data": {
      "text/plain": [
       "0.7957887899785424"
      ]
     },
     "execution_count": 80,
     "metadata": {},
     "output_type": "execute_result"
    }
   ],
   "source": [
    "plot_roc_curve(y_test,y_hat,'ROC tunned XGB indie ',save=False,name_fig=None)\n",
    "\n"
   ]
  },
  {
   "cell_type": "code",
   "execution_count": 19,
   "id": "64daaa65-5d14-438f-a3f6-f6471d966c55",
   "metadata": {},
   "outputs": [],
   "source": [
    "param_grid_search_1= {'colsample_bytree': 0.7, 'gamma': 0.0, 'learning_rate': 0.1, 'max_depth': 10,\n",
    "                      'min_child_weight': 1, 'n_estimators': 1000}\n",
    "#auc 0.7939408044297458"
   ]
  },
  {
   "cell_type": "code",
   "execution_count": 36,
   "id": "95eb93e9-e4eb-4ba0-ab17-57a57582464b",
   "metadata": {},
   "outputs": [],
   "source": [
    "filename =os.path.join(project_dir,'docs/XGB/joblib_XGB2/'+'indie'+'.json')\n",
    "bst = xgb.Booster()\n",
    "bst.load_model(filename)\n",
    "xgtest = xgb.DMatrix(X_test)\n",
    "y_hat_2 = bst.predict(xgtest)\n"
   ]
  },
  {
   "cell_type": "code",
   "execution_count": 40,
   "id": "6131ebbc-b64e-4707-99b1-bed7f60f4e0d",
   "metadata": {},
   "outputs": [],
   "source": [
    "y_hat_2=(y_hat_2>0.5)*1"
   ]
  },
  {
   "cell_type": "code",
   "execution_count": 51,
   "id": "c599d4cb-7400-42ce-886f-7fe8a3b99a00",
   "metadata": {},
   "outputs": [
    {
     "name": "stdout",
     "output_type": "stream",
     "text": [
      "accuracy score 0.9747849302877485\n",
      "precision 0.8465909090909091\n",
      "recall 0.5971943887775552\n",
      "f1 score 0.700352526439483\n"
     ]
    }
   ],
   "source": [
    "#après tuning\n",
    "print('accuracy score', accuracy_score(y_test,y_hat))\n",
    "print('precision', precision_score(y_test,y_hat))\n",
    "print('recall', recall_score(y_test,y_hat))\n",
    "print('f1 score', f1_score(y_test,y_hat))"
   ]
  },
  {
   "cell_type": "code",
   "execution_count": 52,
   "id": "bd26b108-ae08-4265-a06d-f9c568de6371",
   "metadata": {},
   "outputs": [
    {
     "name": "stdout",
     "output_type": "stream",
     "text": [
      "accuracy 0.9707307426085237\n",
      "precision 0.7827298050139275\n",
      "recall 0.56312625250501\n",
      "f1 score 0.6550116550116549\n"
     ]
    }
   ],
   "source": [
    "#avant tuning\n",
    "print('accuracy',accuracy_score(y_test,y_hat_2))\n",
    "print('precision', precision_score(y_test,y_hat_2))\n",
    "print('recall', recall_score(y_test,y_hat_2))\n",
    "print('f1 score', f1_score(y_test,y_hat_2))"
   ]
  },
  {
   "cell_type": "code",
   "execution_count": null,
   "id": "113e0f50-3fd5-41e3-98e6-a6c1119b2d69",
   "metadata": {},
   "outputs": [],
   "source": []
  }
 ],
 "metadata": {
  "kernelspec": {
   "display_name": "Python 3 (ipykernel)",
   "language": "python",
   "name": "python3"
  },
  "language_info": {
   "codemirror_mode": {
    "name": "ipython",
    "version": 3
   },
   "file_extension": ".py",
   "mimetype": "text/x-python",
   "name": "python",
   "nbconvert_exporter": "python",
   "pygments_lexer": "ipython3",
   "version": "3.9.12"
  }
 },
 "nbformat": 4,
 "nbformat_minor": 5
}
