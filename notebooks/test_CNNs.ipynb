{
 "cells": [
  {
   "cell_type": "code",
   "execution_count": 1,
   "id": "befde493-4664-4ab7-865e-d9a42cf4ec24",
   "metadata": {},
   "outputs": [],
   "source": [
    "import torch\n",
    "import torch.nn as nn\n",
    "from torch.utils.data import DataLoader\n",
    "import tqdm"
   ]
  },
  {
   "cell_type": "code",
   "execution_count": 2,
   "id": "625cd8f3-4581-4b80-ac66-ec04c46b3fde",
   "metadata": {},
   "outputs": [
    {
     "data": {
      "text/plain": [
       "torch.Size([8, 1, 10])"
      ]
     },
     "execution_count": 2,
     "metadata": {},
     "output_type": "execute_result"
    }
   ],
   "source": [
    "torch.randn(8,1,10).shape"
   ]
  },
  {
   "cell_type": "code",
   "execution_count": 75,
   "id": "daa12d76-bb3c-4afb-b861-88be3fb48100",
   "metadata": {},
   "outputs": [],
   "source": [
    "import os\n",
    "import sys\n",
    "project_dir = os.getcwd().split('notebooks')[0]\n",
    "sys.path.append(project_dir)\n",
    "import pandas as pd"
   ]
  },
  {
   "cell_type": "code",
   "execution_count": 76,
   "id": "7adcf88e-6f2a-447e-aa0c-ca2d644421e1",
   "metadata": {},
   "outputs": [],
   "source": [
    "from src.models.NN.dataset import TrackDataset\n",
    "from src.models.NN.audio_models import AudioNet3"
   ]
  },
  {
   "cell_type": "code",
   "execution_count": 77,
   "id": "8f1cb32b-38df-45ce-9100-32d07cc93183",
   "metadata": {},
   "outputs": [],
   "source": [
    "device = torch.device('cuda' if torch.cuda.is_available() else 'cpu')"
   ]
  },
  {
   "cell_type": "code",
   "execution_count": 78,
   "id": "3b646248-3921-455f-8461-78eacdbfc12b",
   "metadata": {},
   "outputs": [
    {
     "data": {
      "text/plain": [
       "AudioNet3(\n",
       "  (conv1): Conv1d(1, 32, kernel_size=(3,), stride=(1,))\n",
       "  (conv2): Conv1d(32, 32, kernel_size=(3,), stride=(1,))\n",
       "  (relu): ReLU()\n",
       "  (maxpool1): MaxPool1d(kernel_size=2, stride=2, padding=0, dilation=1, ceil_mode=False)\n",
       "  (fc1): Linear(in_features=126, out_features=21, bias=True)\n",
       ")"
      ]
     },
     "execution_count": 78,
     "metadata": {},
     "output_type": "execute_result"
    }
   ],
   "source": [
    "model = AudioNet3()\n",
    "model.to(device=device)\n",
    "model.eval()"
   ]
  },
  {
   "cell_type": "code",
   "execution_count": 43,
   "id": "95cde42e-a954-4bc7-8043-5dcdc013807a",
   "metadata": {},
   "outputs": [],
   "source": [
    "df = pd.read_parquet(os.path.join(project_dir,\"dataset2.parquet\"), engine=\"pyarrow\")"
   ]
  },
  {
   "cell_type": "code",
   "execution_count": 44,
   "id": "7b442ac8-be58-4313-a863-f0a94618149f",
   "metadata": {},
   "outputs": [
    {
     "name": "stdout",
     "output_type": "stream",
     "text": [
      "Number of training features: 42977\n"
     ]
    }
   ],
   "source": [
    "train_data = TrackDataset(df, train=True, test=False)"
   ]
  },
  {
   "cell_type": "code",
   "execution_count": 45,
   "id": "150da339-c533-4532-8d12-dd8021bbab04",
   "metadata": {},
   "outputs": [],
   "source": [
    "inp = torch.reshape(train_data.__getitem__(0)['audio_feature'], (1,1,256))"
   ]
  },
  {
   "cell_type": "code",
   "execution_count": 46,
   "id": "39138aaf-daf7-48d1-ba46-3d9c23ea555e",
   "metadata": {},
   "outputs": [],
   "source": [
    "x = train_data.__getitem__(0)['audio_feature']"
   ]
  },
  {
   "cell_type": "code",
   "execution_count": 55,
   "id": "53e0e9dc-2b1a-49ad-81ba-76f5f40e4793",
   "metadata": {},
   "outputs": [],
   "source": [
    "conv1 = nn.Conv1d(in_channels=1, out_channels=32, kernel_size=3, stride=1, padding=0)\n",
    "conv2 = nn.Conv1d(in_channels=32, out_channels=1, kernel_size=3, stride=1, padding=0)\n",
    "relu = nn.ReLU()\n",
    "maxpool1 = nn.MaxPool1d(2)\n",
    "fc1 = nn.Linear(126,21)"
   ]
  },
  {
   "cell_type": "code",
   "execution_count": 58,
   "id": "a8d4ef95-470a-47a2-92c4-2979df6a68b4",
   "metadata": {},
   "outputs": [
    {
     "data": {
      "text/plain": [
       "tensor([[0.5063, 0.4906, 0.4962, 0.5150, 0.5041, 0.5020, 0.4919, 0.4894, 0.5060,\n",
       "         0.4848, 0.5042, 0.5078, 0.4853, 0.5136, 0.5009, 0.5188, 0.5165, 0.5159,\n",
       "         0.4905, 0.5133, 0.5073]], grad_fn=<SigmoidBackward0>)"
      ]
     },
     "execution_count": 58,
     "metadata": {},
     "output_type": "execute_result"
    }
   ],
   "source": [
    "out = conv1(inp)\n",
    "out = relu(out)\n",
    "out = conv2(out)\n",
    "out = relu(out)\n",
    "out = maxpool1(out)\n",
    "out = fc1(out)\n",
    "out = out.reshape([1,21])\n",
    "out = torch.sigmoid(out)\n",
    "out"
   ]
  },
  {
   "cell_type": "code",
   "execution_count": 15,
   "id": "74f4e6c9-ec67-4e25-ba3f-617b672af94a",
   "metadata": {},
   "outputs": [
    {
     "data": {
      "text/plain": [
       "tensor([[[0.5255, 0.4843, 0.4891, 0.5206, 0.5645, 0.5369, 0.5048, 0.5411,\n",
       "          0.4919, 0.5592, 0.5389, 0.5297, 0.4925, 0.5345, 0.4743, 0.5256,\n",
       "          0.5036, 0.5614, 0.4962, 0.4310, 0.5543],\n",
       "         [0.5102, 0.4813, 0.4925, 0.4952, 0.5295, 0.5146, 0.5115, 0.4950,\n",
       "          0.4969, 0.4937, 0.5322, 0.5101, 0.5096, 0.5127, 0.5106, 0.5198,\n",
       "          0.4972, 0.5242, 0.4934, 0.4798, 0.5208],\n",
       "         [0.5063, 0.4703, 0.5014, 0.5042, 0.5417, 0.5258, 0.5020, 0.5198,\n",
       "          0.4939, 0.5306, 0.5334, 0.5290, 0.4973, 0.5377, 0.4907, 0.5184,\n",
       "          0.4992, 0.5413, 0.5034, 0.4451, 0.5414],\n",
       "         [0.5027, 0.4790, 0.4914, 0.4940, 0.5460, 0.5137, 0.5034, 0.5090,\n",
       "          0.4918, 0.5195, 0.5462, 0.5241, 0.4996, 0.5299, 0.5096, 0.5167,\n",
       "          0.5062, 0.5468, 0.4817, 0.4396, 0.5514],\n",
       "         [0.5042, 0.4798, 0.5076, 0.4834, 0.5116, 0.4999, 0.5153, 0.4954,\n",
       "          0.4962, 0.4861, 0.5121, 0.5205, 0.5112, 0.5202, 0.5212, 0.5190,\n",
       "          0.5038, 0.5059, 0.4942, 0.5008, 0.5178],\n",
       "         [0.5088, 0.4802, 0.5018, 0.4976, 0.5370, 0.5138, 0.5203, 0.5159,\n",
       "          0.4833, 0.5257, 0.5196, 0.5287, 0.5063, 0.5397, 0.4917, 0.5262,\n",
       "          0.5101, 0.5460, 0.4797, 0.4588, 0.5476],\n",
       "         [0.5203, 0.4539, 0.5023, 0.4923, 0.5567, 0.5093, 0.5126, 0.5252,\n",
       "          0.4854, 0.5177, 0.5372, 0.4945, 0.5136, 0.5173, 0.4941, 0.5132,\n",
       "          0.5012, 0.5297, 0.4875, 0.4427, 0.5400],\n",
       "         [0.5037, 0.4803, 0.5074, 0.4829, 0.5111, 0.5001, 0.5157, 0.4952,\n",
       "          0.4958, 0.4864, 0.5115, 0.5208, 0.5109, 0.5199, 0.5212, 0.5194,\n",
       "          0.5036, 0.5055, 0.4942, 0.5010, 0.5180],\n",
       "         [0.5271, 0.4816, 0.5012, 0.5066, 0.5521, 0.5320, 0.5175, 0.5383,\n",
       "          0.4689, 0.5336, 0.5203, 0.5289, 0.4950, 0.5498, 0.4796, 0.5389,\n",
       "          0.5067, 0.5569, 0.4767, 0.4455, 0.5462],\n",
       "         [0.5003, 0.4844, 0.5064, 0.4839, 0.5152, 0.4957, 0.5103, 0.4934,\n",
       "          0.5085, 0.4967, 0.5176, 0.5260, 0.5076, 0.5203, 0.5157, 0.5145,\n",
       "          0.5018, 0.5054, 0.5007, 0.4932, 0.5274],\n",
       "         [0.5282, 0.4715, 0.5026, 0.5000, 0.5391, 0.5182, 0.5218, 0.5240,\n",
       "          0.4743, 0.5216, 0.5142, 0.5209, 0.5096, 0.5377, 0.5017, 0.5373,\n",
       "          0.5071, 0.5396, 0.4746, 0.4538, 0.5318],\n",
       "         [0.5117, 0.4715, 0.4877, 0.5027, 0.5664, 0.5203, 0.5012, 0.5165,\n",
       "          0.5020, 0.5413, 0.5493, 0.5142, 0.4981, 0.5089, 0.4887, 0.5108,\n",
       "          0.4989, 0.5466, 0.5077, 0.4378, 0.5531],\n",
       "         [0.5217, 0.4892, 0.5123, 0.5013, 0.5129, 0.5108, 0.5081, 0.5190,\n",
       "          0.4934, 0.5047, 0.5103, 0.5330, 0.4927, 0.5338, 0.5008, 0.5419,\n",
       "          0.5028, 0.5147, 0.5042, 0.4958, 0.5369],\n",
       "         [0.5037, 0.4803, 0.5074, 0.4829, 0.5111, 0.5001, 0.5157, 0.4952,\n",
       "          0.4958, 0.4864, 0.5115, 0.5208, 0.5109, 0.5199, 0.5212, 0.5194,\n",
       "          0.5036, 0.5055, 0.4942, 0.5010, 0.5180],\n",
       "         [0.5037, 0.4803, 0.5074, 0.4829, 0.5111, 0.5001, 0.5157, 0.4952,\n",
       "          0.4958, 0.4864, 0.5115, 0.5208, 0.5109, 0.5199, 0.5212, 0.5194,\n",
       "          0.5036, 0.5055, 0.4942, 0.5010, 0.5180],\n",
       "         [0.5053, 0.4755, 0.5078, 0.4880, 0.5138, 0.5045, 0.5055, 0.4972,\n",
       "          0.5000, 0.4893, 0.5221, 0.5185, 0.5082, 0.5290, 0.5151, 0.5100,\n",
       "          0.5030, 0.5049, 0.5025, 0.4868, 0.5263],\n",
       "         [0.5236, 0.4861, 0.4982, 0.5134, 0.5349, 0.5387, 0.5001, 0.5315,\n",
       "          0.4888, 0.5373, 0.5297, 0.5356, 0.4933, 0.5583, 0.4871, 0.5287,\n",
       "          0.5082, 0.5433, 0.4945, 0.4526, 0.5446],\n",
       "         [0.5251, 0.4915, 0.5005, 0.4937, 0.5473, 0.5271, 0.5201, 0.5274,\n",
       "          0.4576, 0.5166, 0.5207, 0.5170, 0.5057, 0.5386, 0.4962, 0.5434,\n",
       "          0.5169, 0.5528, 0.4653, 0.4802, 0.5309],\n",
       "         [0.5047, 0.4807, 0.5079, 0.4833, 0.5117, 0.5003, 0.5158, 0.4954,\n",
       "          0.4950, 0.4858, 0.5119, 0.5207, 0.5106, 0.5203, 0.5203, 0.5188,\n",
       "          0.5031, 0.5060, 0.4940, 0.5006, 0.5185],\n",
       "         [0.5095, 0.4819, 0.5096, 0.4891, 0.5255, 0.4981, 0.5127, 0.5073,\n",
       "          0.4909, 0.5171, 0.5132, 0.5242, 0.5053, 0.5245, 0.4956, 0.5239,\n",
       "          0.5085, 0.5262, 0.4943, 0.4647, 0.5489],\n",
       "         [0.4959, 0.4902, 0.5023, 0.4827, 0.5110, 0.5015, 0.5079, 0.5047,\n",
       "          0.5084, 0.5164, 0.5211, 0.5277, 0.5051, 0.5104, 0.4937, 0.5209,\n",
       "          0.4928, 0.5052, 0.5276, 0.5025, 0.5394],\n",
       "         [0.5113, 0.4791, 0.5124, 0.4863, 0.5123, 0.4972, 0.5091, 0.4979,\n",
       "          0.4941, 0.4941, 0.5089, 0.5258, 0.5035, 0.5245, 0.5205, 0.5312,\n",
       "          0.5016, 0.5086, 0.5017, 0.4935, 0.5273],\n",
       "         [0.5052, 0.4805, 0.5037, 0.4907, 0.5160, 0.5157, 0.5082, 0.5006,\n",
       "          0.4917, 0.5012, 0.5226, 0.5238, 0.5072, 0.5419, 0.5132, 0.5147,\n",
       "          0.5071, 0.5202, 0.4876, 0.4785, 0.5360],\n",
       "         [0.5037, 0.4803, 0.5074, 0.4829, 0.5111, 0.5001, 0.5157, 0.4952,\n",
       "          0.4958, 0.4864, 0.5115, 0.5208, 0.5109, 0.5199, 0.5212, 0.5194,\n",
       "          0.5036, 0.5055, 0.4942, 0.5010, 0.5180],\n",
       "         [0.5215, 0.4773, 0.5045, 0.5004, 0.5379, 0.5154, 0.5142, 0.5228,\n",
       "          0.4748, 0.5175, 0.5145, 0.5267, 0.5032, 0.5418, 0.4978, 0.5302,\n",
       "          0.5120, 0.5408, 0.4723, 0.4626, 0.5377],\n",
       "         [0.5210, 0.4537, 0.5043, 0.4879, 0.5491, 0.5013, 0.5118, 0.5133,\n",
       "          0.4843, 0.5079, 0.5425, 0.4944, 0.5146, 0.5141, 0.5120, 0.5190,\n",
       "          0.5041, 0.5407, 0.4813, 0.4428, 0.5343],\n",
       "         [0.5027, 0.4806, 0.5061, 0.4836, 0.5099, 0.5017, 0.5159, 0.4962,\n",
       "          0.4952, 0.4879, 0.5106, 0.5229, 0.5130, 0.5204, 0.5217, 0.5197,\n",
       "          0.5038, 0.5063, 0.4923, 0.5021, 0.5154],\n",
       "         [0.5037, 0.4803, 0.5074, 0.4829, 0.5111, 0.5001, 0.5157, 0.4952,\n",
       "          0.4958, 0.4864, 0.5115, 0.5208, 0.5109, 0.5199, 0.5212, 0.5194,\n",
       "          0.5036, 0.5055, 0.4942, 0.5010, 0.5180],\n",
       "         [0.5064, 0.4804, 0.5069, 0.4791, 0.5159, 0.5059, 0.5191, 0.4977,\n",
       "          0.4899, 0.4929, 0.5114, 0.5224, 0.5135, 0.5245, 0.5246, 0.5221,\n",
       "          0.5034, 0.5104, 0.4818, 0.4968, 0.5200],\n",
       "         [0.4996, 0.4727, 0.4931, 0.4895, 0.5217, 0.5135, 0.4933, 0.4923,\n",
       "          0.5024, 0.5064, 0.5458, 0.5164, 0.5027, 0.5313, 0.5239, 0.5113,\n",
       "          0.4988, 0.5212, 0.4998, 0.4560, 0.5435],\n",
       "         [0.5084, 0.4701, 0.4966, 0.5019, 0.5597, 0.5390, 0.5101, 0.5291,\n",
       "          0.4775, 0.5380, 0.5253, 0.5252, 0.5058, 0.5356, 0.4864, 0.5200,\n",
       "          0.5077, 0.5485, 0.4932, 0.4494, 0.5372],\n",
       "         [0.4994, 0.4818, 0.4971, 0.4887, 0.5147, 0.5044, 0.5061, 0.4954,\n",
       "          0.5007, 0.4982, 0.5355, 0.5220, 0.5020, 0.5314, 0.5246, 0.5122,\n",
       "          0.4986, 0.5218, 0.4912, 0.4692, 0.5335]]],\n",
       "       grad_fn=<SigmoidBackward0>)"
      ]
     },
     "execution_count": 15,
     "metadata": {},
     "output_type": "execute_result"
    }
   ],
   "source": [
    "torch.sigmoid(out)"
   ]
  },
  {
   "cell_type": "code",
   "execution_count": 68,
   "id": "b2c810e6-03de-4ab1-9a45-8edc512b6a43",
   "metadata": {},
   "outputs": [
    {
     "data": {
      "text/plain": [
       "torch.Size([1, 1, 256])"
      ]
     },
     "execution_count": 68,
     "metadata": {},
     "output_type": "execute_result"
    }
   ],
   "source": [
    "inp.shape"
   ]
  },
  {
   "cell_type": "code",
   "execution_count": 70,
   "id": "288fa276-d291-4055-bf87-8fce95a054aa",
   "metadata": {},
   "outputs": [
    {
     "name": "stdout",
     "output_type": "stream",
     "text": [
      "Number of training features: 42977\n"
     ]
    }
   ],
   "source": [
    "train_data = TrackDataset(df, train=True, test=False)"
   ]
  },
  {
   "cell_type": "code",
   "execution_count": 73,
   "id": "3d94a584-92ce-407d-ad49-4e58169e580e",
   "metadata": {},
   "outputs": [],
   "source": [
    "train_loader = DataLoader(train_data, batch_size=32, shuffle=True)"
   ]
  },
  {
   "cell_type": "code",
   "execution_count": 90,
   "id": "e45d0555-1d1f-4b3e-b4e9-b23dee331015",
   "metadata": {},
   "outputs": [
    {
     "ename": "AttributeError",
     "evalue": "'DataLoader' object has no attribute 'items'",
     "output_type": "error",
     "traceback": [
      "\u001b[0;31m---------------------------------------------------------------------------\u001b[0m",
      "\u001b[0;31mAttributeError\u001b[0m                            Traceback (most recent call last)",
      "\u001b[0;32m/tmp/ipykernel_3635/2625538039.py\u001b[0m in \u001b[0;36m<module>\u001b[0;34m\u001b[0m\n\u001b[0;32m----> 1\u001b[0;31m \u001b[0mtrain_loader\u001b[0m\u001b[0;34m.\u001b[0m\u001b[0mitems\u001b[0m\u001b[0;34m\u001b[0m\u001b[0;34m\u001b[0m\u001b[0m\n\u001b[0m",
      "\u001b[0;31mAttributeError\u001b[0m: 'DataLoader' object has no attribute 'items'"
     ]
    }
   ],
   "source": [
    "train_loader"
   ]
  },
  {
   "cell_type": "code",
   "execution_count": 83,
   "id": "fc421c90-0a17-4591-94e4-a1876879cc2d",
   "metadata": {},
   "outputs": [
    {
     "ename": "TypeError",
     "evalue": "'module' object is not callable",
     "output_type": "error",
     "traceback": [
      "\u001b[0;31m---------------------------------------------------------------------------\u001b[0m",
      "\u001b[0;31mTypeError\u001b[0m                                 Traceback (most recent call last)",
      "\u001b[0;32m/tmp/ipykernel_3635/4231383597.py\u001b[0m in \u001b[0;36m<module>\u001b[0;34m\u001b[0m\n\u001b[0;32m----> 1\u001b[0;31m \u001b[0;32mfor\u001b[0m \u001b[0mi\u001b[0m\u001b[0;34m,\u001b[0m \u001b[0mdata\u001b[0m \u001b[0;32min\u001b[0m \u001b[0mtqdm\u001b[0m\u001b[0;34m(\u001b[0m\u001b[0menumerate\u001b[0m\u001b[0;34m(\u001b[0m\u001b[0mtrain_loader\u001b[0m\u001b[0;34m)\u001b[0m\u001b[0;34m,\u001b[0m \u001b[0mtotal\u001b[0m\u001b[0;34m=\u001b[0m\u001b[0mint\u001b[0m\u001b[0;34m(\u001b[0m\u001b[0mlen\u001b[0m\u001b[0;34m(\u001b[0m\u001b[0mtrain_data\u001b[0m\u001b[0;34m)\u001b[0m \u001b[0;34m/\u001b[0m \u001b[0mtrain_loader\u001b[0m\u001b[0;34m.\u001b[0m\u001b[0mbatch_size\u001b[0m\u001b[0;34m)\u001b[0m\u001b[0;34m)\u001b[0m\u001b[0;34m:\u001b[0m\u001b[0;34m\u001b[0m\u001b[0;34m\u001b[0m\u001b[0m\n\u001b[0m\u001b[1;32m      2\u001b[0m     \u001b[0mdata\u001b[0m\u001b[0;34m,\u001b[0m \u001b[0mtarget\u001b[0m \u001b[0;34m=\u001b[0m \u001b[0mdata\u001b[0m\u001b[0;34m[\u001b[0m\u001b[0;34m'audio_feature'\u001b[0m\u001b[0;34m]\u001b[0m\u001b[0;34m.\u001b[0m\u001b[0mto\u001b[0m\u001b[0;34m(\u001b[0m\u001b[0mdevice\u001b[0m\u001b[0;34m)\u001b[0m\u001b[0;34m,\u001b[0m \u001b[0mdata\u001b[0m\u001b[0;34m[\u001b[0m\u001b[0;34m'label'\u001b[0m\u001b[0;34m]\u001b[0m\u001b[0;34m.\u001b[0m\u001b[0mto\u001b[0m\u001b[0;34m(\u001b[0m\u001b[0mdevice\u001b[0m\u001b[0;34m)\u001b[0m\u001b[0;34m\u001b[0m\u001b[0;34m\u001b[0m\u001b[0m\n\u001b[1;32m      3\u001b[0m     \u001b[0moptimizer\u001b[0m\u001b[0;34m.\u001b[0m\u001b[0mzero_grad\u001b[0m\u001b[0;34m(\u001b[0m\u001b[0;34m)\u001b[0m\u001b[0;34m\u001b[0m\u001b[0;34m\u001b[0m\u001b[0m\n\u001b[1;32m      4\u001b[0m     \u001b[0moutputs\u001b[0m \u001b[0;34m=\u001b[0m \u001b[0mmodel\u001b[0m\u001b[0;34m(\u001b[0m\u001b[0mdata\u001b[0m\u001b[0;34m)\u001b[0m\u001b[0;34m\u001b[0m\u001b[0;34m\u001b[0m\u001b[0m\n",
      "\u001b[0;31mTypeError\u001b[0m: 'module' object is not callable"
     ]
    }
   ],
   "source": [
    "for i, data in tqdm(enumerate(train_loader), total=int(len(train_data) / train_loader.batch_size)):\n",
    "    data, target = data['audio_feature'].to(device), data['label'].to(device)\n",
    "    optimizer.zero_grad()\n",
    "    outputs = model(data)"
   ]
  },
  {
   "cell_type": "code",
   "execution_count": 60,
   "id": "987e7cac-f17d-45d7-9f22-b3251dcaa02d",
   "metadata": {},
   "outputs": [],
   "source": [
    "audio_features = df[:]['audio_features']"
   ]
  },
  {
   "cell_type": "code",
   "execution_count": 61,
   "id": "0f7db857-85c1-499f-9ee9-0c3da417d28c",
   "metadata": {},
   "outputs": [],
   "source": [
    "audio_feature = audio_features[0]"
   ]
  },
  {
   "cell_type": "code",
   "execution_count": 66,
   "id": "6ae52495-1ab0-4a11-9a53-ecbee4e609a8",
   "metadata": {},
   "outputs": [],
   "source": [
    "torch_audio = torch.tensor(audio_feature, dtype=torch.float32)"
   ]
  },
  {
   "cell_type": "code",
   "execution_count": 67,
   "id": "e30a0001-78f6-4e80-b7f9-4275a564420b",
   "metadata": {},
   "outputs": [
    {
     "data": {
      "text/plain": [
       "torch.Size([256])"
      ]
     },
     "execution_count": 67,
     "metadata": {},
     "output_type": "execute_result"
    }
   ],
   "source": [
    "torch_audio.shape"
   ]
  },
  {
   "cell_type": "code",
   "execution_count": 68,
   "id": "e7d6bf11-a3e8-4dda-bde9-514153e051ab",
   "metadata": {},
   "outputs": [],
   "source": [
    "audio = torch.reshape(torch_audio, (1,1,256))"
   ]
  },
  {
   "cell_type": "code",
   "execution_count": 69,
   "id": "37779195-b69e-49da-8d6f-9ac112f9ba1e",
   "metadata": {},
   "outputs": [
    {
     "data": {
      "text/plain": [
       "torch.Size([1, 1, 256])"
      ]
     },
     "execution_count": 69,
     "metadata": {},
     "output_type": "execute_result"
    }
   ],
   "source": [
    "audio.shape"
   ]
  },
  {
   "cell_type": "code",
   "execution_count": 70,
   "id": "5622cce5-551f-4cac-9a72-43c1a32f364c",
   "metadata": {},
   "outputs": [],
   "source": [
    "data_loader = DataLoader(audio)"
   ]
  },
  {
   "cell_type": "code",
   "execution_count": 79,
   "id": "2a4ac287-3a4a-48f7-abaf-582d88188108",
   "metadata": {},
   "outputs": [
    {
     "name": "stdout",
     "output_type": "stream",
     "text": [
      "torch.Size([1, 1, 256])\n"
     ]
    }
   ],
   "source": [
    "for elt in data_loader:\n",
    "    print(elt.shape)\n",
    "    out = model(elt)"
   ]
  },
  {
   "cell_type": "code",
   "execution_count": 80,
   "id": "3c0036ce-0cf5-4c72-a775-feea1f171c26",
   "metadata": {},
   "outputs": [],
   "source": [
    "out"
   ]
  },
  {
   "cell_type": "code",
   "execution_count": null,
   "id": "023ade4f-5f28-42a5-80d5-de3e3280d5dd",
   "metadata": {},
   "outputs": [],
   "source": []
  }
 ],
 "metadata": {
  "kernelspec": {
   "display_name": "Python 3 (ipykernel)",
   "language": "python",
   "name": "python3"
  },
  "language_info": {
   "codemirror_mode": {
    "name": "ipython",
    "version": 3
   },
   "file_extension": ".py",
   "mimetype": "text/x-python",
   "name": "python",
   "nbconvert_exporter": "python",
   "pygments_lexer": "ipython3",
   "version": "3.9.7"
  }
 },
 "nbformat": 4,
 "nbformat_minor": 5
}
