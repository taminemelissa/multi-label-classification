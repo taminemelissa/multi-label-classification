{
 "cells": [
  {
   "cell_type": "markdown",
   "id": "8c564e61-c4a1-4882-9732-999561ca11dd",
   "metadata": {},
   "source": [
    "# Implémentation d'un réseau de neurones pour la tâche de classification multi-labels des genres musicaux"
   ]
  },
  {
   "cell_type": "markdown",
   "id": "60dddd6f-15d6-45ca-87db-b4784ec03dc0",
   "metadata": {},
   "source": [
    "## Importation de modules utiles"
   ]
  },
  {
   "cell_type": "code",
   "execution_count": 2,
   "id": "8956b630-fb69-4504-8d70-eec54292b0f4",
   "metadata": {},
   "outputs": [],
   "source": [
    "import numpy as np\n",
    "import pandas as pd\n",
    "import matplotlib.pyplot as plt"
   ]
  },
  {
   "cell_type": "markdown",
   "id": "83f925c4-fdb9-466d-9f9f-3bc124d8aebf",
   "metadata": {},
   "source": [
    "## Chargement et formatage des données"
   ]
  },
  {
   "cell_type": "markdown",
   "id": "0f20ece2-10e1-4e55-8a71-96753956d5b2",
   "metadata": {},
   "source": [
    "Nous commençons par charger les données."
   ]
  },
  {
   "cell_type": "code",
   "execution_count": 3,
   "id": "ab56e78c-71d5-471d-a8e3-c32e0e6362d6",
   "metadata": {},
   "outputs": [],
   "source": [
    "df = pd.read_parquet(\"dataset2.parquet\", engine=\"pyarrow\")"
   ]
  },
  {
   "cell_type": "code",
   "execution_count": 11,
   "id": "9f4564ec-41d7-4e5a-b15e-9564759950f5",
   "metadata": {},
   "outputs": [
    {
     "data": {
      "text/html": [
       "<div>\n",
       "<style scoped>\n",
       "    .dataframe tbody tr th:only-of-type {\n",
       "        vertical-align: middle;\n",
       "    }\n",
       "\n",
       "    .dataframe tbody tr th {\n",
       "        vertical-align: top;\n",
       "    }\n",
       "\n",
       "    .dataframe thead th {\n",
       "        text-align: right;\n",
       "    }\n",
       "</style>\n",
       "<table border=\"1\" class=\"dataframe\">\n",
       "  <thead>\n",
       "    <tr style=\"text-align: right;\">\n",
       "      <th></th>\n",
       "      <th>asian</th>\n",
       "      <th>rnb</th>\n",
       "      <th>reggae</th>\n",
       "      <th>blues</th>\n",
       "      <th>pop</th>\n",
       "      <th>dance</th>\n",
       "      <th>folk</th>\n",
       "      <th>arabic-music</th>\n",
       "      <th>indie</th>\n",
       "      <th>rock</th>\n",
       "      <th>...</th>\n",
       "      <th>rap</th>\n",
       "      <th>jazz</th>\n",
       "      <th>electronic</th>\n",
       "      <th>african</th>\n",
       "      <th>country</th>\n",
       "      <th>song_index</th>\n",
       "      <th>audio_features</th>\n",
       "      <th>usage_features</th>\n",
       "      <th>artist_name</th>\n",
       "      <th>song_title</th>\n",
       "    </tr>\n",
       "  </thead>\n",
       "  <tbody>\n",
       "    <tr>\n",
       "      <th>0</th>\n",
       "      <td>0</td>\n",
       "      <td>0</td>\n",
       "      <td>0</td>\n",
       "      <td>0</td>\n",
       "      <td>0</td>\n",
       "      <td>0</td>\n",
       "      <td>0</td>\n",
       "      <td>0</td>\n",
       "      <td>0</td>\n",
       "      <td>0</td>\n",
       "      <td>...</td>\n",
       "      <td>0</td>\n",
       "      <td>1</td>\n",
       "      <td>0</td>\n",
       "      <td>0</td>\n",
       "      <td>0</td>\n",
       "      <td>195</td>\n",
       "      <td>[0.7089933156967163, -0.6799708008766174, -0.3...</td>\n",
       "      <td>[-0.008137362965188247, -0.004262254068607103,...</td>\n",
       "      <td>Miles Davis</td>\n",
       "      <td>Générique</td>\n",
       "    </tr>\n",
       "    <tr>\n",
       "      <th>1</th>\n",
       "      <td>0</td>\n",
       "      <td>0</td>\n",
       "      <td>0</td>\n",
       "      <td>0</td>\n",
       "      <td>0</td>\n",
       "      <td>0</td>\n",
       "      <td>0</td>\n",
       "      <td>0</td>\n",
       "      <td>0</td>\n",
       "      <td>1</td>\n",
       "      <td>...</td>\n",
       "      <td>0</td>\n",
       "      <td>0</td>\n",
       "      <td>0</td>\n",
       "      <td>0</td>\n",
       "      <td>0</td>\n",
       "      <td>417</td>\n",
       "      <td>[-0.19785162806510925, 0.023803016170859337, 0...</td>\n",
       "      <td>[0.00041993208544090015, 0.0001525178585704480...</td>\n",
       "      <td>Spin Doctors</td>\n",
       "      <td>Two Princes</td>\n",
       "    </tr>\n",
       "    <tr>\n",
       "      <th>2</th>\n",
       "      <td>0</td>\n",
       "      <td>0</td>\n",
       "      <td>0</td>\n",
       "      <td>0</td>\n",
       "      <td>1</td>\n",
       "      <td>0</td>\n",
       "      <td>0</td>\n",
       "      <td>0</td>\n",
       "      <td>0</td>\n",
       "      <td>0</td>\n",
       "      <td>...</td>\n",
       "      <td>0</td>\n",
       "      <td>0</td>\n",
       "      <td>0</td>\n",
       "      <td>0</td>\n",
       "      <td>0</td>\n",
       "      <td>530</td>\n",
       "      <td>[-0.14142198860645294, 0.26422423124313354, 0....</td>\n",
       "      <td>[-0.009766703341977859, 0.0019064089803134893,...</td>\n",
       "      <td>Justin Bieber</td>\n",
       "      <td>One Less Lonely Girl</td>\n",
       "    </tr>\n",
       "    <tr>\n",
       "      <th>3</th>\n",
       "      <td>0</td>\n",
       "      <td>0</td>\n",
       "      <td>0</td>\n",
       "      <td>0</td>\n",
       "      <td>0</td>\n",
       "      <td>0</td>\n",
       "      <td>0</td>\n",
       "      <td>0</td>\n",
       "      <td>0</td>\n",
       "      <td>1</td>\n",
       "      <td>...</td>\n",
       "      <td>0</td>\n",
       "      <td>0</td>\n",
       "      <td>0</td>\n",
       "      <td>0</td>\n",
       "      <td>0</td>\n",
       "      <td>909</td>\n",
       "      <td>[-0.07582522183656693, -0.42076417803764343, -...</td>\n",
       "      <td>[0.005023148381526522, 0.010775540737929749, 0...</td>\n",
       "      <td>Paul McCartney</td>\n",
       "      <td>My Love</td>\n",
       "    </tr>\n",
       "    <tr>\n",
       "      <th>4</th>\n",
       "      <td>0</td>\n",
       "      <td>0</td>\n",
       "      <td>0</td>\n",
       "      <td>0</td>\n",
       "      <td>0</td>\n",
       "      <td>0</td>\n",
       "      <td>0</td>\n",
       "      <td>0</td>\n",
       "      <td>0</td>\n",
       "      <td>0</td>\n",
       "      <td>...</td>\n",
       "      <td>0</td>\n",
       "      <td>0</td>\n",
       "      <td>0</td>\n",
       "      <td>0</td>\n",
       "      <td>0</td>\n",
       "      <td>1257</td>\n",
       "      <td>[-0.16135981678962708, -0.07056394964456558, -...</td>\n",
       "      <td>[0.00517276708433931, 0.006723451311827004, 0....</td>\n",
       "      <td>Jackson 5</td>\n",
       "      <td>Dancing Machine</td>\n",
       "    </tr>\n",
       "  </tbody>\n",
       "</table>\n",
       "<p>5 rows × 26 columns</p>\n",
       "</div>"
      ],
      "text/plain": [
       "   asian  rnb  reggae  blues  pop  dance  folk  arabic-music  indie  rock  \\\n",
       "0      0    0       0      0    0      0     0             0      0     0   \n",
       "1      0    0       0      0    0      0     0             0      0     1   \n",
       "2      0    0       0      0    1      0     0             0      0     0   \n",
       "3      0    0       0      0    0      0     0             0      0     1   \n",
       "4      0    0       0      0    0      0     0             0      0     0   \n",
       "\n",
       "   ...  rap  jazz  electronic  african  country  song_index  \\\n",
       "0  ...    0     1           0        0        0         195   \n",
       "1  ...    0     0           0        0        0         417   \n",
       "2  ...    0     0           0        0        0         530   \n",
       "3  ...    0     0           0        0        0         909   \n",
       "4  ...    0     0           0        0        0        1257   \n",
       "\n",
       "                                      audio_features  \\\n",
       "0  [0.7089933156967163, -0.6799708008766174, -0.3...   \n",
       "1  [-0.19785162806510925, 0.023803016170859337, 0...   \n",
       "2  [-0.14142198860645294, 0.26422423124313354, 0....   \n",
       "3  [-0.07582522183656693, -0.42076417803764343, -...   \n",
       "4  [-0.16135981678962708, -0.07056394964456558, -...   \n",
       "\n",
       "                                      usage_features     artist_name  \\\n",
       "0  [-0.008137362965188247, -0.004262254068607103,...     Miles Davis   \n",
       "1  [0.00041993208544090015, 0.0001525178585704480...    Spin Doctors   \n",
       "2  [-0.009766703341977859, 0.0019064089803134893,...   Justin Bieber   \n",
       "3  [0.005023148381526522, 0.010775540737929749, 0...  Paul McCartney   \n",
       "4  [0.00517276708433931, 0.006723451311827004, 0....       Jackson 5   \n",
       "\n",
       "             song_title  \n",
       "0             Générique  \n",
       "1           Two Princes  \n",
       "2  One Less Lonely Girl  \n",
       "3               My Love  \n",
       "4       Dancing Machine  \n",
       "\n",
       "[5 rows x 26 columns]"
      ]
     },
     "execution_count": 11,
     "metadata": {},
     "output_type": "execute_result"
    }
   ],
   "source": [
    "df.head()"
   ]
  },
  {
   "cell_type": "markdown",
   "id": "6c9b6fd5-1e82-4dc8-a94c-3fa89054f5fc",
   "metadata": {},
   "source": [
    "Puis nous les mélangeons en utilisant la fonction `sample` de pandas."
   ]
  },
  {
   "cell_type": "code",
   "execution_count": 12,
   "id": "9ddc5a25-6900-427a-b3d6-76d5e493db50",
   "metadata": {},
   "outputs": [],
   "source": [
    "df = df.sample(frac=1)"
   ]
  },
  {
   "cell_type": "markdown",
   "id": "c772240a-5028-4493-a47f-509674ca8470",
   "metadata": {},
   "source": [
    "## Un premier modèle : MLP simple à une couche cachée"
   ]
  },
  {
   "cell_type": "markdown",
   "id": "15ca4031-cfdd-47bc-afa3-83278a838093",
   "metadata": {},
   "source": [
    "Nous commençons par utiliser deux architectures neuronales très simple que nous avons implémenté, l'une prenant en entrée les *audio features* et l'autre les *usage features*. \n",
    "\n",
    "Commençons par décrire le premier réseau de neurones : AudioNet1 prenant en entrée les *audios features*. Ce réseau de neurones prend en entrée un tenseur de dimension 256. Il produit en sortie un tenseur de taille 22 (le nombre de classes) qui indique les scores d'appartenance à chaque classe pour chaque track musical (en utilisant une fonction d'activation sigmoide). Cette première architecture est composée d'une seule couche cachée composée de 22 neurones."
   ]
  },
  {
   "cell_type": "code",
   "execution_count": null,
   "id": "0326e1d7-8eef-4afb-84ca-97f7d9f15679",
   "metadata": {},
   "outputs": [],
   "source": []
  }
 ],
 "metadata": {
  "kernelspec": {
   "display_name": "Python 3 (ipykernel)",
   "language": "python",
   "name": "python3"
  },
  "language_info": {
   "codemirror_mode": {
    "name": "ipython",
    "version": 3
   },
   "file_extension": ".py",
   "mimetype": "text/x-python",
   "name": "python",
   "nbconvert_exporter": "python",
   "pygments_lexer": "ipython3",
   "version": "3.9.7"
  }
 },
 "nbformat": 4,
 "nbformat_minor": 5
}
