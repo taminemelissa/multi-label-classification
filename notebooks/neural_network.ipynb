{
 "cells": [
  {
   "cell_type": "markdown",
   "id": "8c564e61-c4a1-4882-9732-999561ca11dd",
   "metadata": {},
   "source": [
    "# Implémentation d'un réseau de neurones pour la tâche de classification multi-labels des genres musicaux"
   ]
  },
  {
   "cell_type": "code",
   "execution_count": 1,
   "id": "6f732e84-f0c8-4163-83fc-da6ff902d8f4",
   "metadata": {},
   "outputs": [],
   "source": [
    "import os\n",
    "import sys\n",
    "project_dir = os.getcwd().split('notebooks')[0]\n",
    "sys.path.append(project_dir)"
   ]
  },
  {
   "cell_type": "markdown",
   "id": "60dddd6f-15d6-45ca-87db-b4784ec03dc0",
   "metadata": {},
   "source": [
    "## Importation de modules utiles"
   ]
  },
  {
   "cell_type": "code",
   "execution_count": 2,
   "id": "8956b630-fb69-4504-8d70-eec54292b0f4",
   "metadata": {},
   "outputs": [],
   "source": [
    "import numpy as np\n",
    "import pandas as pd\n",
    "import torch\n",
    "import torch.optim as optim\n",
    "import pandas as pd\n",
    "import matplotlib.pyplot as plt\n",
    "import matplotlib\n",
    "matplotlib.style.use('ggplot')\n",
    "from src.models.NN.NN import *\n",
    "from src.models.NN.dataset import TrackDataset\n",
    "from torch.utils.data import DataLoader\n",
    "from src.utils.tools import load_json"
   ]
  },
  {
   "cell_type": "markdown",
   "id": "83f925c4-fdb9-466d-9f9f-3bc124d8aebf",
   "metadata": {},
   "source": [
    "## Chargement et formatage des données"
   ]
  },
  {
   "cell_type": "markdown",
   "id": "0f20ece2-10e1-4e55-8a71-96753956d5b2",
   "metadata": {},
   "source": [
    "Nous commençons par charger les données."
   ]
  },
  {
   "cell_type": "code",
   "execution_count": 3,
   "id": "ab56e78c-71d5-471d-a8e3-c32e0e6362d6",
   "metadata": {},
   "outputs": [
    {
     "data": {
      "text/html": [
       "<div>\n",
       "<style scoped>\n",
       "    .dataframe tbody tr th:only-of-type {\n",
       "        vertical-align: middle;\n",
       "    }\n",
       "\n",
       "    .dataframe tbody tr th {\n",
       "        vertical-align: top;\n",
       "    }\n",
       "\n",
       "    .dataframe thead th {\n",
       "        text-align: right;\n",
       "    }\n",
       "</style>\n",
       "<table border=\"1\" class=\"dataframe\">\n",
       "  <thead>\n",
       "    <tr style=\"text-align: right;\">\n",
       "      <th></th>\n",
       "      <th>asian</th>\n",
       "      <th>rnb</th>\n",
       "      <th>reggae</th>\n",
       "      <th>blues</th>\n",
       "      <th>pop</th>\n",
       "      <th>dance</th>\n",
       "      <th>folk</th>\n",
       "      <th>arabic-music</th>\n",
       "      <th>indie</th>\n",
       "      <th>rock</th>\n",
       "      <th>...</th>\n",
       "      <th>rap</th>\n",
       "      <th>jazz</th>\n",
       "      <th>electronic</th>\n",
       "      <th>african</th>\n",
       "      <th>country</th>\n",
       "      <th>song_index</th>\n",
       "      <th>audio_features</th>\n",
       "      <th>usage_features</th>\n",
       "      <th>artist_name</th>\n",
       "      <th>song_title</th>\n",
       "    </tr>\n",
       "  </thead>\n",
       "  <tbody>\n",
       "    <tr>\n",
       "      <th>0</th>\n",
       "      <td>0</td>\n",
       "      <td>0</td>\n",
       "      <td>0</td>\n",
       "      <td>0</td>\n",
       "      <td>0</td>\n",
       "      <td>0</td>\n",
       "      <td>0</td>\n",
       "      <td>0</td>\n",
       "      <td>0</td>\n",
       "      <td>0</td>\n",
       "      <td>...</td>\n",
       "      <td>0</td>\n",
       "      <td>1</td>\n",
       "      <td>0</td>\n",
       "      <td>0</td>\n",
       "      <td>0</td>\n",
       "      <td>195</td>\n",
       "      <td>[0.7089933156967163, -0.6799708008766174, -0.3...</td>\n",
       "      <td>[-0.008137362965188247, -0.004262254068607103,...</td>\n",
       "      <td>Miles Davis</td>\n",
       "      <td>Générique</td>\n",
       "    </tr>\n",
       "    <tr>\n",
       "      <th>1</th>\n",
       "      <td>0</td>\n",
       "      <td>0</td>\n",
       "      <td>0</td>\n",
       "      <td>0</td>\n",
       "      <td>0</td>\n",
       "      <td>0</td>\n",
       "      <td>0</td>\n",
       "      <td>0</td>\n",
       "      <td>0</td>\n",
       "      <td>1</td>\n",
       "      <td>...</td>\n",
       "      <td>0</td>\n",
       "      <td>0</td>\n",
       "      <td>0</td>\n",
       "      <td>0</td>\n",
       "      <td>0</td>\n",
       "      <td>417</td>\n",
       "      <td>[-0.19785162806510925, 0.023803016170859337, 0...</td>\n",
       "      <td>[0.00041993208544090015, 0.0001525178585704480...</td>\n",
       "      <td>Spin Doctors</td>\n",
       "      <td>Two Princes</td>\n",
       "    </tr>\n",
       "    <tr>\n",
       "      <th>2</th>\n",
       "      <td>0</td>\n",
       "      <td>0</td>\n",
       "      <td>0</td>\n",
       "      <td>0</td>\n",
       "      <td>1</td>\n",
       "      <td>0</td>\n",
       "      <td>0</td>\n",
       "      <td>0</td>\n",
       "      <td>0</td>\n",
       "      <td>0</td>\n",
       "      <td>...</td>\n",
       "      <td>0</td>\n",
       "      <td>0</td>\n",
       "      <td>0</td>\n",
       "      <td>0</td>\n",
       "      <td>0</td>\n",
       "      <td>530</td>\n",
       "      <td>[-0.14142198860645294, 0.26422423124313354, 0....</td>\n",
       "      <td>[-0.009766703341977859, 0.0019064089803134893,...</td>\n",
       "      <td>Justin Bieber</td>\n",
       "      <td>One Less Lonely Girl</td>\n",
       "    </tr>\n",
       "    <tr>\n",
       "      <th>3</th>\n",
       "      <td>0</td>\n",
       "      <td>0</td>\n",
       "      <td>0</td>\n",
       "      <td>0</td>\n",
       "      <td>0</td>\n",
       "      <td>0</td>\n",
       "      <td>0</td>\n",
       "      <td>0</td>\n",
       "      <td>0</td>\n",
       "      <td>1</td>\n",
       "      <td>...</td>\n",
       "      <td>0</td>\n",
       "      <td>0</td>\n",
       "      <td>0</td>\n",
       "      <td>0</td>\n",
       "      <td>0</td>\n",
       "      <td>909</td>\n",
       "      <td>[-0.07582522183656693, -0.42076417803764343, -...</td>\n",
       "      <td>[0.005023148381526522, 0.010775540737929749, 0...</td>\n",
       "      <td>Paul McCartney</td>\n",
       "      <td>My Love</td>\n",
       "    </tr>\n",
       "    <tr>\n",
       "      <th>4</th>\n",
       "      <td>0</td>\n",
       "      <td>0</td>\n",
       "      <td>0</td>\n",
       "      <td>0</td>\n",
       "      <td>0</td>\n",
       "      <td>0</td>\n",
       "      <td>0</td>\n",
       "      <td>0</td>\n",
       "      <td>0</td>\n",
       "      <td>0</td>\n",
       "      <td>...</td>\n",
       "      <td>0</td>\n",
       "      <td>0</td>\n",
       "      <td>0</td>\n",
       "      <td>0</td>\n",
       "      <td>0</td>\n",
       "      <td>1257</td>\n",
       "      <td>[-0.16135981678962708, -0.07056394964456558, -...</td>\n",
       "      <td>[0.00517276708433931, 0.006723451311827004, 0....</td>\n",
       "      <td>Jackson 5</td>\n",
       "      <td>Dancing Machine</td>\n",
       "    </tr>\n",
       "  </tbody>\n",
       "</table>\n",
       "<p>5 rows × 26 columns</p>\n",
       "</div>"
      ],
      "text/plain": [
       "   asian  rnb  reggae  blues  pop  dance  folk  arabic-music  indie  rock  \\\n",
       "0      0    0       0      0    0      0     0             0      0     0   \n",
       "1      0    0       0      0    0      0     0             0      0     1   \n",
       "2      0    0       0      0    1      0     0             0      0     0   \n",
       "3      0    0       0      0    0      0     0             0      0     1   \n",
       "4      0    0       0      0    0      0     0             0      0     0   \n",
       "\n",
       "   ...  rap  jazz  electronic  african  country  song_index  \\\n",
       "0  ...    0     1           0        0        0         195   \n",
       "1  ...    0     0           0        0        0         417   \n",
       "2  ...    0     0           0        0        0         530   \n",
       "3  ...    0     0           0        0        0         909   \n",
       "4  ...    0     0           0        0        0        1257   \n",
       "\n",
       "                                      audio_features  \\\n",
       "0  [0.7089933156967163, -0.6799708008766174, -0.3...   \n",
       "1  [-0.19785162806510925, 0.023803016170859337, 0...   \n",
       "2  [-0.14142198860645294, 0.26422423124313354, 0....   \n",
       "3  [-0.07582522183656693, -0.42076417803764343, -...   \n",
       "4  [-0.16135981678962708, -0.07056394964456558, -...   \n",
       "\n",
       "                                      usage_features     artist_name  \\\n",
       "0  [-0.008137362965188247, -0.004262254068607103,...     Miles Davis   \n",
       "1  [0.00041993208544090015, 0.0001525178585704480...    Spin Doctors   \n",
       "2  [-0.009766703341977859, 0.0019064089803134893,...   Justin Bieber   \n",
       "3  [0.005023148381526522, 0.010775540737929749, 0...  Paul McCartney   \n",
       "4  [0.00517276708433931, 0.006723451311827004, 0....       Jackson 5   \n",
       "\n",
       "             song_title  \n",
       "0             Générique  \n",
       "1           Two Princes  \n",
       "2  One Less Lonely Girl  \n",
       "3               My Love  \n",
       "4       Dancing Machine  \n",
       "\n",
       "[5 rows x 26 columns]"
      ]
     },
     "execution_count": 3,
     "metadata": {},
     "output_type": "execute_result"
    }
   ],
   "source": [
    "df = pd.read_parquet(os.path.join(project_dir,\"dataset2.parquet\"), engine=\"pyarrow\")\n",
    "df.head()"
   ]
  },
  {
   "cell_type": "markdown",
   "id": "c772240a-5028-4493-a47f-509674ca8470",
   "metadata": {},
   "source": [
    "## Un premier modèle : MLP simple à une couche cachée"
   ]
  },
  {
   "cell_type": "markdown",
   "id": "15ca4031-cfdd-47bc-afa3-83278a838093",
   "metadata": {},
   "source": [
    "Nous commençons par utiliser deux architectures neuronales très simple que nous avons implémenté, l'une prenant en entrée les *audio features* et l'autre les *usage features*. \n",
    "\n",
    "Commençons par décrire le premier réseau de neurones : AudioNet1 prenant en entrée les *audios features*. Ce réseau de neurones prend en entrée un tenseur de dimension 256. Il produit en sortie un tenseur de taille 22 (le nombre de classes) qui indique les scores d'appartenance à chaque classe pour chaque track musical (en utilisant une fonction d'activation sigmoide). Cette première architecture est composée d'une seule couche cachée composée de 22 neurones."
   ]
  },
  {
   "cell_type": "markdown",
   "id": "3e8033ac-82bd-4bda-870d-4858c97013dc",
   "metadata": {},
   "source": [
    "#### Chargement des données de configuration"
   ]
  },
  {
   "cell_type": "code",
   "execution_count": 4,
   "id": "1cd511e5-4396-4a22-b843-5074d6a1fb0f",
   "metadata": {},
   "outputs": [],
   "source": [
    "config = load_json(os.path.join(project_dir, \"src/models/NN/config.json\"))"
   ]
  },
  {
   "cell_type": "markdown",
   "id": "6c5736fb-457d-40ee-ac9e-6397d9b66879",
   "metadata": {},
   "source": [
    "#### Initialisation du device"
   ]
  },
  {
   "cell_type": "code",
   "execution_count": 5,
   "id": "07be82cc-6b7f-4172-97db-81a55d5556f2",
   "metadata": {},
   "outputs": [],
   "source": [
    "device = torch.device('cuda' if torch.cuda.is_available() else 'cpu')"
   ]
  },
  {
   "cell_type": "markdown",
   "id": "8532ee13-ca68-4b2d-8448-131a8c6af659",
   "metadata": {},
   "source": [
    "#### Initialisation du modèle"
   ]
  },
  {
   "cell_type": "code",
   "execution_count": 6,
   "id": "78ad8bfd-7626-4f25-a3ec-faacc8a3fe5f",
   "metadata": {},
   "outputs": [
    {
     "data": {
      "text/plain": [
       "AudioNet1(\n",
       "  (fc1): Linear(in_features=256, out_features=21, bias=True)\n",
       ")"
      ]
     },
     "execution_count": 6,
     "metadata": {},
     "output_type": "execute_result"
    }
   ],
   "source": [
    "model = AudioNet1()  # initialize the neural network\n",
    "model.to(device=device)"
   ]
  },
  {
   "cell_type": "markdown",
   "id": "206ad930-6d5f-4c63-9bf8-d9e19a2e6c9c",
   "metadata": {},
   "source": [
    "#### Paramètres du modèle"
   ]
  },
  {
   "cell_type": "code",
   "execution_count": 7,
   "id": "3c968849-e5a6-4899-b4c1-505894506d83",
   "metadata": {},
   "outputs": [],
   "source": [
    "lr = config['lr']\n",
    "epochs = config['epochs']\n",
    "batch_size = config['batch_size']\n",
    "optimizer = optim.Adam(model.parameters(), lr=lr)\n",
    "criterion = nn.BCELoss()"
   ]
  },
  {
   "cell_type": "markdown",
   "id": "977d6039-b144-4cdb-aff6-52e9b0f0d406",
   "metadata": {},
   "source": [
    "#### Chargement des données"
   ]
  },
  {
   "cell_type": "code",
   "execution_count": 8,
   "id": "7e9ea043-dcae-4aed-862a-1dc21804ccf9",
   "metadata": {},
   "outputs": [
    {
     "name": "stdout",
     "output_type": "stream",
     "text": [
      "Number of training features: 42977\n",
      "Number of validation features: 7585\n"
     ]
    }
   ],
   "source": [
    "train_data = TrackDataset(df, train=True, test=False)\n",
    "valid_data = TrackDataset(df, train=False, test=False)"
   ]
  },
  {
   "cell_type": "code",
   "execution_count": 9,
   "id": "408163d8-22d3-4259-9f7a-e730b60ddb9b",
   "metadata": {},
   "outputs": [],
   "source": [
    "# train data loader\n",
    "train_loader = DataLoader(train_data, batch_size=batch_size, shuffle=True)\n",
    "# validation data loader\n",
    "valid_loader = DataLoader(valid_data, batch_size=batch_size, shuffle=False)"
   ]
  },
  {
   "cell_type": "code",
   "execution_count": 10,
   "id": "61c9f01f-3acf-49ed-8830-34bef7f28c00",
   "metadata": {},
   "outputs": [
    {
     "name": "stdout",
     "output_type": "stream",
     "text": [
      "Epoch 1 of 20\n",
      "Training\n"
     ]
    },
    {
     "name": "stderr",
     "output_type": "stream",
     "text": [
      "1344it [00:03, 386.06it/s]                          \n"
     ]
    },
    {
     "name": "stdout",
     "output_type": "stream",
     "text": [
      "Validating\n"
     ]
    },
    {
     "name": "stderr",
     "output_type": "stream",
     "text": [
      "234it [00:00, 735.20it/s]                         \n"
     ]
    },
    {
     "name": "stdout",
     "output_type": "stream",
     "text": [
      "Train Loss: 0.2742\n",
      "Val Loss: 0.1764\n",
      "Epoch 2 of 20\n",
      "Training\n"
     ]
    },
    {
     "name": "stderr",
     "output_type": "stream",
     "text": [
      "1344it [00:03, 401.96it/s]                          \n"
     ]
    },
    {
     "name": "stdout",
     "output_type": "stream",
     "text": [
      "Validating\n"
     ]
    },
    {
     "name": "stderr",
     "output_type": "stream",
     "text": [
      "234it [00:00, 711.90it/s]                         \n"
     ]
    },
    {
     "name": "stdout",
     "output_type": "stream",
     "text": [
      "Train Loss: 0.1613\n",
      "Val Loss: 0.1522\n",
      "Epoch 3 of 20\n",
      "Training\n"
     ]
    },
    {
     "name": "stderr",
     "output_type": "stream",
     "text": [
      "1344it [00:03, 380.15it/s]                          \n"
     ]
    },
    {
     "name": "stdout",
     "output_type": "stream",
     "text": [
      "Validating\n"
     ]
    },
    {
     "name": "stderr",
     "output_type": "stream",
     "text": [
      "234it [00:00, 932.98it/s]                         \n"
     ]
    },
    {
     "name": "stdout",
     "output_type": "stream",
     "text": [
      "Train Loss: 0.1463\n",
      "Val Loss: 0.1429\n",
      "Epoch 4 of 20\n",
      "Training\n"
     ]
    },
    {
     "name": "stderr",
     "output_type": "stream",
     "text": [
      "1344it [00:03, 384.60it/s]                          \n"
     ]
    },
    {
     "name": "stdout",
     "output_type": "stream",
     "text": [
      "Validating\n"
     ]
    },
    {
     "name": "stderr",
     "output_type": "stream",
     "text": [
      "234it [00:00, 722.39it/s]                         \n"
     ]
    },
    {
     "name": "stdout",
     "output_type": "stream",
     "text": [
      "Train Loss: 0.1393\n",
      "Val Loss: 0.1378\n",
      "Epoch 5 of 20\n",
      "Training\n"
     ]
    },
    {
     "name": "stderr",
     "output_type": "stream",
     "text": [
      "1344it [00:03, 378.54it/s]                          \n"
     ]
    },
    {
     "name": "stdout",
     "output_type": "stream",
     "text": [
      "Validating\n"
     ]
    },
    {
     "name": "stderr",
     "output_type": "stream",
     "text": [
      "234it [00:00, 720.10it/s]                         \n"
     ]
    },
    {
     "name": "stdout",
     "output_type": "stream",
     "text": [
      "Train Loss: 0.1351\n",
      "Val Loss: 0.1345\n",
      "Epoch 6 of 20\n",
      "Training\n"
     ]
    },
    {
     "name": "stderr",
     "output_type": "stream",
     "text": [
      "1344it [00:03, 381.24it/s]                          \n"
     ]
    },
    {
     "name": "stdout",
     "output_type": "stream",
     "text": [
      "Validating\n"
     ]
    },
    {
     "name": "stderr",
     "output_type": "stream",
     "text": [
      "234it [00:00, 891.52it/s]                         \n"
     ]
    },
    {
     "name": "stdout",
     "output_type": "stream",
     "text": [
      "Train Loss: 0.1326\n",
      "Val Loss: 0.1323\n",
      "Epoch 7 of 20\n",
      "Training\n"
     ]
    },
    {
     "name": "stderr",
     "output_type": "stream",
     "text": [
      "1344it [00:03, 386.92it/s]                          \n"
     ]
    },
    {
     "name": "stdout",
     "output_type": "stream",
     "text": [
      "Validating\n"
     ]
    },
    {
     "name": "stderr",
     "output_type": "stream",
     "text": [
      "234it [00:00, 966.20it/s]                         \n"
     ]
    },
    {
     "name": "stdout",
     "output_type": "stream",
     "text": [
      "Train Loss: 0.1304\n",
      "Val Loss: 0.1305\n",
      "Epoch 8 of 20\n",
      "Training\n"
     ]
    },
    {
     "name": "stderr",
     "output_type": "stream",
     "text": [
      "1344it [00:03, 386.84it/s]                          \n"
     ]
    },
    {
     "name": "stdout",
     "output_type": "stream",
     "text": [
      "Validating\n"
     ]
    },
    {
     "name": "stderr",
     "output_type": "stream",
     "text": [
      "234it [00:00, 970.48it/s]                         \n"
     ]
    },
    {
     "name": "stdout",
     "output_type": "stream",
     "text": [
      "Train Loss: 0.1289\n",
      "Val Loss: 0.1292\n",
      "Epoch 9 of 20\n",
      "Training\n"
     ]
    },
    {
     "name": "stderr",
     "output_type": "stream",
     "text": [
      "1344it [00:03, 376.05it/s]                          \n"
     ]
    },
    {
     "name": "stdout",
     "output_type": "stream",
     "text": [
      "Validating\n"
     ]
    },
    {
     "name": "stderr",
     "output_type": "stream",
     "text": [
      "234it [00:00, 929.83it/s]                          \n"
     ]
    },
    {
     "name": "stdout",
     "output_type": "stream",
     "text": [
      "Train Loss: 0.1276\n",
      "Val Loss: 0.1282\n",
      "Epoch 10 of 20\n",
      "Training\n"
     ]
    },
    {
     "name": "stderr",
     "output_type": "stream",
     "text": [
      "1344it [00:03, 377.07it/s]                          \n"
     ]
    },
    {
     "name": "stdout",
     "output_type": "stream",
     "text": [
      "Validating\n"
     ]
    },
    {
     "name": "stderr",
     "output_type": "stream",
     "text": [
      "234it [00:00, 690.33it/s]                         \n"
     ]
    },
    {
     "name": "stdout",
     "output_type": "stream",
     "text": [
      "Train Loss: 0.1266\n",
      "Val Loss: 0.1273\n",
      "Epoch 11 of 20\n",
      "Training\n"
     ]
    },
    {
     "name": "stderr",
     "output_type": "stream",
     "text": [
      "1344it [00:03, 369.84it/s]                          \n"
     ]
    },
    {
     "name": "stdout",
     "output_type": "stream",
     "text": [
      "Validating\n"
     ]
    },
    {
     "name": "stderr",
     "output_type": "stream",
     "text": [
      "234it [00:00, 964.03it/s]                         \n"
     ]
    },
    {
     "name": "stdout",
     "output_type": "stream",
     "text": [
      "Train Loss: 0.1258\n",
      "Val Loss: 0.1265\n",
      "Epoch 12 of 20\n",
      "Training\n"
     ]
    },
    {
     "name": "stderr",
     "output_type": "stream",
     "text": [
      "1344it [00:03, 386.41it/s]                          \n"
     ]
    },
    {
     "name": "stdout",
     "output_type": "stream",
     "text": [
      "Validating\n"
     ]
    },
    {
     "name": "stderr",
     "output_type": "stream",
     "text": [
      "234it [00:00, 763.07it/s]                         \n"
     ]
    },
    {
     "name": "stdout",
     "output_type": "stream",
     "text": [
      "Train Loss: 0.1251\n",
      "Val Loss: 0.1258\n",
      "Epoch 13 of 20\n",
      "Training\n"
     ]
    },
    {
     "name": "stderr",
     "output_type": "stream",
     "text": [
      "1344it [00:03, 372.53it/s]                          \n"
     ]
    },
    {
     "name": "stdout",
     "output_type": "stream",
     "text": [
      "Validating\n"
     ]
    },
    {
     "name": "stderr",
     "output_type": "stream",
     "text": [
      "234it [00:00, 983.97it/s]                         \n"
     ]
    },
    {
     "name": "stdout",
     "output_type": "stream",
     "text": [
      "Train Loss: 0.1246\n",
      "Val Loss: 0.1252\n",
      "Epoch 14 of 20\n",
      "Training\n"
     ]
    },
    {
     "name": "stderr",
     "output_type": "stream",
     "text": [
      "1344it [00:03, 379.55it/s]                          \n"
     ]
    },
    {
     "name": "stdout",
     "output_type": "stream",
     "text": [
      "Validating\n"
     ]
    },
    {
     "name": "stderr",
     "output_type": "stream",
     "text": [
      "234it [00:00, 959.38it/s]                         \n"
     ]
    },
    {
     "name": "stdout",
     "output_type": "stream",
     "text": [
      "Train Loss: 0.1239\n",
      "Val Loss: 0.1247\n",
      "Epoch 15 of 20\n",
      "Training\n"
     ]
    },
    {
     "name": "stderr",
     "output_type": "stream",
     "text": [
      "1344it [00:03, 383.11it/s]                          \n"
     ]
    },
    {
     "name": "stdout",
     "output_type": "stream",
     "text": [
      "Validating\n"
     ]
    },
    {
     "name": "stderr",
     "output_type": "stream",
     "text": [
      "234it [00:00, 992.30it/s]                         \n"
     ]
    },
    {
     "name": "stdout",
     "output_type": "stream",
     "text": [
      "Train Loss: 0.1235\n",
      "Val Loss: 0.1243\n",
      "Epoch 16 of 20\n",
      "Training\n"
     ]
    },
    {
     "name": "stderr",
     "output_type": "stream",
     "text": [
      "1344it [00:03, 371.02it/s]                          \n"
     ]
    },
    {
     "name": "stdout",
     "output_type": "stream",
     "text": [
      "Validating\n"
     ]
    },
    {
     "name": "stderr",
     "output_type": "stream",
     "text": [
      "234it [00:00, 889.79it/s]                         \n"
     ]
    },
    {
     "name": "stdout",
     "output_type": "stream",
     "text": [
      "Train Loss: 0.1231\n",
      "Val Loss: 0.1239\n",
      "Epoch 17 of 20\n",
      "Training\n"
     ]
    },
    {
     "name": "stderr",
     "output_type": "stream",
     "text": [
      "1344it [00:03, 390.72it/s]                          \n"
     ]
    },
    {
     "name": "stdout",
     "output_type": "stream",
     "text": [
      "Validating\n"
     ]
    },
    {
     "name": "stderr",
     "output_type": "stream",
     "text": [
      "234it [00:00, 723.87it/s]                         \n"
     ]
    },
    {
     "name": "stdout",
     "output_type": "stream",
     "text": [
      "Train Loss: 0.1226\n",
      "Val Loss: 0.1236\n",
      "Epoch 18 of 20\n",
      "Training\n"
     ]
    },
    {
     "name": "stderr",
     "output_type": "stream",
     "text": [
      "1344it [00:03, 369.05it/s]                          \n"
     ]
    },
    {
     "name": "stdout",
     "output_type": "stream",
     "text": [
      "Validating\n"
     ]
    },
    {
     "name": "stderr",
     "output_type": "stream",
     "text": [
      "234it [00:00, 731.54it/s]                         \n"
     ]
    },
    {
     "name": "stdout",
     "output_type": "stream",
     "text": [
      "Train Loss: 0.1224\n",
      "Val Loss: 0.1232\n",
      "Epoch 19 of 20\n",
      "Training\n"
     ]
    },
    {
     "name": "stderr",
     "output_type": "stream",
     "text": [
      "1344it [00:03, 374.00it/s]                          \n"
     ]
    },
    {
     "name": "stdout",
     "output_type": "stream",
     "text": [
      "Validating\n"
     ]
    },
    {
     "name": "stderr",
     "output_type": "stream",
     "text": [
      "234it [00:00, 783.26it/s]                         \n"
     ]
    },
    {
     "name": "stdout",
     "output_type": "stream",
     "text": [
      "Train Loss: 0.1219\n",
      "Val Loss: 0.1228\n",
      "Epoch 20 of 20\n",
      "Training\n"
     ]
    },
    {
     "name": "stderr",
     "output_type": "stream",
     "text": [
      "1344it [00:03, 396.37it/s]                          \n"
     ]
    },
    {
     "name": "stdout",
     "output_type": "stream",
     "text": [
      "Validating\n"
     ]
    },
    {
     "name": "stderr",
     "output_type": "stream",
     "text": [
      "234it [00:00, 712.40it/s]                         "
     ]
    },
    {
     "name": "stdout",
     "output_type": "stream",
     "text": [
      "Train Loss: 0.1216\n",
      "Val Loss: 0.1226\n"
     ]
    },
    {
     "name": "stderr",
     "output_type": "stream",
     "text": [
      "\n"
     ]
    }
   ],
   "source": [
    "# start the training and validation\n",
    "train_loss = []\n",
    "valid_loss = []\n",
    "for epoch in range(epochs):\n",
    "    print(f\"Epoch {epoch + 1} of {epochs}\")\n",
    "    train_epoch_loss = train(model, train_loader, optimizer, criterion, train_data, device, audio_bool=1)\n",
    "    valid_epoch_loss = validate(model, valid_loader, criterion, valid_data, device, audio_bool=1)\n",
    "    train_loss.append(train_epoch_loss)\n",
    "    valid_loss.append(valid_epoch_loss)\n",
    "    print(f\"Train Loss: {train_epoch_loss:.4f}\")\n",
    "    print(f'Val Loss: {valid_epoch_loss:.4f}')"
   ]
  },
  {
   "cell_type": "code",
   "execution_count": 11,
   "id": "442a64da-97f4-4796-84e5-a3586beea14d",
   "metadata": {},
   "outputs": [],
   "source": [
    "torch.save({\n",
    "        'epoch': epochs,\n",
    "        'model_state_dict': model.state_dict(),\n",
    "        'optimizer_state_dict': optimizer.state_dict(),\n",
    "        'loss': criterion,}, os.path.join(project_dir, 'best-checkpoint.pth'))"
   ]
  },
  {
   "cell_type": "code",
   "execution_count": 13,
   "id": "32719966-f9ba-4b51-b245-40ba44d8e259",
   "metadata": {},
   "outputs": [
    {
     "data": {
      "image/png": "[encoded data removed]",
      "text/plain": [
       "<Figure size 720x504 with 1 Axes>"
      ]
     },
     "metadata": {},
     "output_type": "display_data"
    }
   ],
   "source": [
    "# plot and save the train and validation graphs\n",
    "plt.figure(figsize=(10, 7))\n",
    "plt.plot(train_loss, color='orange', label='train loss')\n",
    "plt.plot(valid_loss, color='red', label='validation loss')\n",
    "plt.xlabel('Epochs')\n",
    "plt.ylabel('Loss')\n",
    "plt.legend()\n",
    "plt.savefig(os.path.join(project_dir,'loss.png'))\n",
    "plt.show()"
   ]
  }
 ],
 "metadata": {
  "kernelspec": {
   "display_name": "Python 3 (ipykernel)",
   "language": "python",
   "name": "python3"
  },
  "language_info": {
   "codemirror_mode": {
    "name": "ipython",
    "version": 3
   },
   "file_extension": ".py",
   "mimetype": "text/x-python",
   "name": "python",
   "nbconvert_exporter": "python",
   "pygments_lexer": "ipython3",
   "version": "3.9.7"
  }
 },
 "nbformat": 4,
 "nbformat_minor": 5
}
