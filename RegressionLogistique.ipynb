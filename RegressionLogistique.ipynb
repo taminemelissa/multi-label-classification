{
 "cells": [
  {
   "cell_type": "code",
   "execution_count": 100,
   "metadata": {
    "id": "t3-igmovF8e0"
   },
   "outputs": [],
   "source": [
    "import numpy as np\n",
    "import pandas as pd\n",
    "from math import *\n",
    "import matplotlib.pyplot as plt\n",
    "import scipy\n",
    "import seaborn as sns\n",
    "import sklearn.preprocessing\n",
    "from sklearn.linear_model import LogisticRegression\n",
    "from sklearn.model_selection import train_test_split \n",
    "from extract_data import *\n",
    "from metrics_plot import *\n",
    "from sklearn.metrics import precision_score\n",
    "from sklearn.metrics import accuracy_score\n",
    "from sklearn.metrics import recall_score\n",
    "from sklearn.metrics import hamming_loss\n",
    "from sklearn.metrics import f1_score\n",
    "from sklearn.metrics import multilabel_confusion_matrix\n",
    "from statistics import mean"
   ]
  },
  {
   "cell_type": "markdown",
   "metadata": {},
   "source": [
    "# RAPPEL MÉTRIQUES\n",
    "--> elles se décomposent en **micro**, **macro** et **weighted** en général\n",
    "- micro en général pour la généralisation de la classification binaire à la multi-labels\n",
    "- macro comme une moyenne de la métrique sur chacun des labels (les labels sont donc supposés équitablement répartis dans l'échantillon) \n",
    "- weighted: on fait une moyenne pondérée de la métrique où balance par le poids ie la fréquence d'apparition du label.\n",
    "\n",
    "\\\n",
    "Ici on choisira **micro**\n",
    "\n",
    " On rappelle également que: \n",
    "## Precision \n",
    "$$precision = \\frac{TP}{TP+FP}$$ \n",
    "## Recall \n",
    "$$recall= \\frac{TP}{TP+FN} $$\n",
    "## F1-score\n",
    " $$f1-score= \\frac{precision * recall}{precision + recall} $$\n",
    "## Hamming Loss\n",
    " hamming loss = la proportion de labels incorrets \n",
    " \n",
    " \n",
    " \n",
    "\n"
   ]
  },
  {
   "cell_type": "markdown",
   "metadata": {
    "tags": []
   },
   "source": [
    "# Préparation des données"
   ]
  },
  {
   "cell_type": "code",
   "execution_count": 2,
   "metadata": {},
   "outputs": [],
   "source": [
    "#transform_parquet_to_csv('dataset2.parquet','dataset.csv')"
   ]
  },
  {
   "cell_type": "code",
   "execution_count": 3,
   "metadata": {},
   "outputs": [],
   "source": [
    "df=pd.read_csv('dataset.csv')\n",
    "X,Y=extract_values_array(df,p=1,normalize=True,usage=False)\n",
    "l=list(df.columns[0:22])\n",
    "l.remove('song_index')"
   ]
  },
  {
   "cell_type": "markdown",
   "metadata": {},
   "source": [
    "## Mise en forme des résultats \n"
   ]
  },
  {
   "cell_type": "code",
   "execution_count": 4,
   "metadata": {},
   "outputs": [],
   "source": [
    "metrics=['Accuracy','Precision micro', 'Recall micro', 'F1 score micro', 'Hamming-Loss']\n",
    "final_res=pd.DataFrame(columns=metrics)"
   ]
  },
  {
   "cell_type": "code",
   "execution_count": 5,
   "metadata": {},
   "outputs": [
    {
     "data": {
      "image/png": "[encoded data removed]",
      "text/plain": [
       "<Figure size 432x288 with 2 Axes>"
      ]
     },
     "metadata": {
      "needs_background": "light"
     },
     "output_type": "display_data"
    }
   ],
   "source": [
    "labels = [\"True Pos\",\"False Neg\",\"False Pos\",\"True Neg\"]\n",
    "labels = np.asarray(labels).reshape(2,2)\n",
    "sns.heatmap(np.eye(2), annot=labels, fmt=\"\", cmap='Blues')\n",
    "plt.savefig('Modèle Matrice de Confusion')"
   ]
  },
  {
   "cell_type": "markdown",
   "metadata": {
    "id": "lgE-1fpT83HW"
   },
   "source": [
    "# Méthode 1: Naive - TOP GENRE \n",
    "Attribuer le genre le plus représenté: le rock\n",
    "\n",
    "\n"
   ]
  },
  {
   "cell_type": "code",
   "execution_count": 6,
   "metadata": {
    "colab": {
     "base_uri": "https://localhost:8080/",
     "height": 505
    },
    "id": "MgdQUmNM89xf",
    "outputId": "c77d88c3-a0fa-4550-cc2b-cef6313ad24b"
   },
   "outputs": [
    {
     "data": {
      "text/html": [
       "<div>\n",
       "<style scoped>\n",
       "    .dataframe tbody tr th:only-of-type {\n",
       "        vertical-align: middle;\n",
       "    }\n",
       "\n",
       "    .dataframe tbody tr th {\n",
       "        vertical-align: top;\n",
       "    }\n",
       "\n",
       "    .dataframe thead th {\n",
       "        text-align: right;\n",
       "    }\n",
       "</style>\n",
       "<table border=\"1\" class=\"dataframe\">\n",
       "  <thead>\n",
       "    <tr style=\"text-align: right;\">\n",
       "      <th></th>\n",
       "      <th>asian</th>\n",
       "      <th>rnb</th>\n",
       "      <th>reggae</th>\n",
       "      <th>blues</th>\n",
       "      <th>pop</th>\n",
       "      <th>dance</th>\n",
       "      <th>folk</th>\n",
       "      <th>arabic-music</th>\n",
       "      <th>indie</th>\n",
       "      <th>rock</th>\n",
       "      <th>...</th>\n",
       "      <th>latin</th>\n",
       "      <th>classical</th>\n",
       "      <th>k-pop</th>\n",
       "      <th>brazilian</th>\n",
       "      <th>metal</th>\n",
       "      <th>rap</th>\n",
       "      <th>jazz</th>\n",
       "      <th>electronic</th>\n",
       "      <th>african</th>\n",
       "      <th>country</th>\n",
       "    </tr>\n",
       "  </thead>\n",
       "  <tbody>\n",
       "    <tr>\n",
       "      <th>0</th>\n",
       "      <td>0</td>\n",
       "      <td>0</td>\n",
       "      <td>0</td>\n",
       "      <td>0</td>\n",
       "      <td>0</td>\n",
       "      <td>0</td>\n",
       "      <td>0</td>\n",
       "      <td>0</td>\n",
       "      <td>0</td>\n",
       "      <td>1</td>\n",
       "      <td>...</td>\n",
       "      <td>0</td>\n",
       "      <td>0</td>\n",
       "      <td>0</td>\n",
       "      <td>0</td>\n",
       "      <td>0</td>\n",
       "      <td>0</td>\n",
       "      <td>0</td>\n",
       "      <td>0</td>\n",
       "      <td>0</td>\n",
       "      <td>0</td>\n",
       "    </tr>\n",
       "    <tr>\n",
       "      <th>1</th>\n",
       "      <td>0</td>\n",
       "      <td>0</td>\n",
       "      <td>0</td>\n",
       "      <td>0</td>\n",
       "      <td>0</td>\n",
       "      <td>0</td>\n",
       "      <td>0</td>\n",
       "      <td>0</td>\n",
       "      <td>0</td>\n",
       "      <td>1</td>\n",
       "      <td>...</td>\n",
       "      <td>0</td>\n",
       "      <td>0</td>\n",
       "      <td>0</td>\n",
       "      <td>0</td>\n",
       "      <td>0</td>\n",
       "      <td>0</td>\n",
       "      <td>0</td>\n",
       "      <td>0</td>\n",
       "      <td>0</td>\n",
       "      <td>0</td>\n",
       "    </tr>\n",
       "    <tr>\n",
       "      <th>2</th>\n",
       "      <td>0</td>\n",
       "      <td>0</td>\n",
       "      <td>0</td>\n",
       "      <td>0</td>\n",
       "      <td>0</td>\n",
       "      <td>0</td>\n",
       "      <td>0</td>\n",
       "      <td>0</td>\n",
       "      <td>0</td>\n",
       "      <td>1</td>\n",
       "      <td>...</td>\n",
       "      <td>0</td>\n",
       "      <td>0</td>\n",
       "      <td>0</td>\n",
       "      <td>0</td>\n",
       "      <td>0</td>\n",
       "      <td>0</td>\n",
       "      <td>0</td>\n",
       "      <td>0</td>\n",
       "      <td>0</td>\n",
       "      <td>0</td>\n",
       "    </tr>\n",
       "    <tr>\n",
       "      <th>3</th>\n",
       "      <td>0</td>\n",
       "      <td>0</td>\n",
       "      <td>0</td>\n",
       "      <td>0</td>\n",
       "      <td>0</td>\n",
       "      <td>0</td>\n",
       "      <td>0</td>\n",
       "      <td>0</td>\n",
       "      <td>0</td>\n",
       "      <td>1</td>\n",
       "      <td>...</td>\n",
       "      <td>0</td>\n",
       "      <td>0</td>\n",
       "      <td>0</td>\n",
       "      <td>0</td>\n",
       "      <td>0</td>\n",
       "      <td>0</td>\n",
       "      <td>0</td>\n",
       "      <td>0</td>\n",
       "      <td>0</td>\n",
       "      <td>0</td>\n",
       "    </tr>\n",
       "    <tr>\n",
       "      <th>4</th>\n",
       "      <td>0</td>\n",
       "      <td>0</td>\n",
       "      <td>0</td>\n",
       "      <td>0</td>\n",
       "      <td>0</td>\n",
       "      <td>0</td>\n",
       "      <td>0</td>\n",
       "      <td>0</td>\n",
       "      <td>0</td>\n",
       "      <td>1</td>\n",
       "      <td>...</td>\n",
       "      <td>0</td>\n",
       "      <td>0</td>\n",
       "      <td>0</td>\n",
       "      <td>0</td>\n",
       "      <td>0</td>\n",
       "      <td>0</td>\n",
       "      <td>0</td>\n",
       "      <td>0</td>\n",
       "      <td>0</td>\n",
       "      <td>0</td>\n",
       "    </tr>\n",
       "    <tr>\n",
       "      <th>...</th>\n",
       "      <td>...</td>\n",
       "      <td>...</td>\n",
       "      <td>...</td>\n",
       "      <td>...</td>\n",
       "      <td>...</td>\n",
       "      <td>...</td>\n",
       "      <td>...</td>\n",
       "      <td>...</td>\n",
       "      <td>...</td>\n",
       "      <td>...</td>\n",
       "      <td>...</td>\n",
       "      <td>...</td>\n",
       "      <td>...</td>\n",
       "      <td>...</td>\n",
       "      <td>...</td>\n",
       "      <td>...</td>\n",
       "      <td>...</td>\n",
       "      <td>...</td>\n",
       "      <td>...</td>\n",
       "      <td>...</td>\n",
       "      <td>...</td>\n",
       "    </tr>\n",
       "    <tr>\n",
       "      <th>50557</th>\n",
       "      <td>0</td>\n",
       "      <td>0</td>\n",
       "      <td>0</td>\n",
       "      <td>0</td>\n",
       "      <td>0</td>\n",
       "      <td>0</td>\n",
       "      <td>0</td>\n",
       "      <td>0</td>\n",
       "      <td>0</td>\n",
       "      <td>1</td>\n",
       "      <td>...</td>\n",
       "      <td>0</td>\n",
       "      <td>0</td>\n",
       "      <td>0</td>\n",
       "      <td>0</td>\n",
       "      <td>0</td>\n",
       "      <td>0</td>\n",
       "      <td>0</td>\n",
       "      <td>0</td>\n",
       "      <td>0</td>\n",
       "      <td>0</td>\n",
       "    </tr>\n",
       "    <tr>\n",
       "      <th>50558</th>\n",
       "      <td>0</td>\n",
       "      <td>0</td>\n",
       "      <td>0</td>\n",
       "      <td>0</td>\n",
       "      <td>0</td>\n",
       "      <td>0</td>\n",
       "      <td>0</td>\n",
       "      <td>0</td>\n",
       "      <td>0</td>\n",
       "      <td>1</td>\n",
       "      <td>...</td>\n",
       "      <td>0</td>\n",
       "      <td>0</td>\n",
       "      <td>0</td>\n",
       "      <td>0</td>\n",
       "      <td>0</td>\n",
       "      <td>0</td>\n",
       "      <td>0</td>\n",
       "      <td>0</td>\n",
       "      <td>0</td>\n",
       "      <td>0</td>\n",
       "    </tr>\n",
       "    <tr>\n",
       "      <th>50559</th>\n",
       "      <td>0</td>\n",
       "      <td>0</td>\n",
       "      <td>0</td>\n",
       "      <td>0</td>\n",
       "      <td>0</td>\n",
       "      <td>0</td>\n",
       "      <td>0</td>\n",
       "      <td>0</td>\n",
       "      <td>0</td>\n",
       "      <td>1</td>\n",
       "      <td>...</td>\n",
       "      <td>0</td>\n",
       "      <td>0</td>\n",
       "      <td>0</td>\n",
       "      <td>0</td>\n",
       "      <td>0</td>\n",
       "      <td>0</td>\n",
       "      <td>0</td>\n",
       "      <td>0</td>\n",
       "      <td>0</td>\n",
       "      <td>0</td>\n",
       "    </tr>\n",
       "    <tr>\n",
       "      <th>50560</th>\n",
       "      <td>0</td>\n",
       "      <td>0</td>\n",
       "      <td>0</td>\n",
       "      <td>0</td>\n",
       "      <td>0</td>\n",
       "      <td>0</td>\n",
       "      <td>0</td>\n",
       "      <td>0</td>\n",
       "      <td>0</td>\n",
       "      <td>1</td>\n",
       "      <td>...</td>\n",
       "      <td>0</td>\n",
       "      <td>0</td>\n",
       "      <td>0</td>\n",
       "      <td>0</td>\n",
       "      <td>0</td>\n",
       "      <td>0</td>\n",
       "      <td>0</td>\n",
       "      <td>0</td>\n",
       "      <td>0</td>\n",
       "      <td>0</td>\n",
       "    </tr>\n",
       "    <tr>\n",
       "      <th>50561</th>\n",
       "      <td>0</td>\n",
       "      <td>0</td>\n",
       "      <td>0</td>\n",
       "      <td>0</td>\n",
       "      <td>0</td>\n",
       "      <td>0</td>\n",
       "      <td>0</td>\n",
       "      <td>0</td>\n",
       "      <td>0</td>\n",
       "      <td>1</td>\n",
       "      <td>...</td>\n",
       "      <td>0</td>\n",
       "      <td>0</td>\n",
       "      <td>0</td>\n",
       "      <td>0</td>\n",
       "      <td>0</td>\n",
       "      <td>0</td>\n",
       "      <td>0</td>\n",
       "      <td>0</td>\n",
       "      <td>0</td>\n",
       "      <td>0</td>\n",
       "    </tr>\n",
       "  </tbody>\n",
       "</table>\n",
       "<p>50562 rows × 21 columns</p>\n",
       "</div>"
      ],
      "text/plain": [
       "       asian  rnb  reggae  blues  pop  dance  folk  arabic-music  indie  rock  \\\n",
       "0          0    0       0      0    0      0     0             0      0     1   \n",
       "1          0    0       0      0    0      0     0             0      0     1   \n",
       "2          0    0       0      0    0      0     0             0      0     1   \n",
       "3          0    0       0      0    0      0     0             0      0     1   \n",
       "4          0    0       0      0    0      0     0             0      0     1   \n",
       "...      ...  ...     ...    ...  ...    ...   ...           ...    ...   ...   \n",
       "50557      0    0       0      0    0      0     0             0      0     1   \n",
       "50558      0    0       0      0    0      0     0             0      0     1   \n",
       "50559      0    0       0      0    0      0     0             0      0     1   \n",
       "50560      0    0       0      0    0      0     0             0      0     1   \n",
       "50561      0    0       0      0    0      0     0             0      0     1   \n",
       "\n",
       "       ...  latin  classical  k-pop  brazilian  metal  rap  jazz  electronic  \\\n",
       "0      ...      0          0      0          0      0    0     0           0   \n",
       "1      ...      0          0      0          0      0    0     0           0   \n",
       "2      ...      0          0      0          0      0    0     0           0   \n",
       "3      ...      0          0      0          0      0    0     0           0   \n",
       "4      ...      0          0      0          0      0    0     0           0   \n",
       "...    ...    ...        ...    ...        ...    ...  ...   ...         ...   \n",
       "50557  ...      0          0      0          0      0    0     0           0   \n",
       "50558  ...      0          0      0          0      0    0     0           0   \n",
       "50559  ...      0          0      0          0      0    0     0           0   \n",
       "50560  ...      0          0      0          0      0    0     0           0   \n",
       "50561  ...      0          0      0          0      0    0     0           0   \n",
       "\n",
       "       african  country  \n",
       "0            0        0  \n",
       "1            0        0  \n",
       "2            0        0  \n",
       "3            0        0  \n",
       "4            0        0  \n",
       "...        ...      ...  \n",
       "50557        0        0  \n",
       "50558        0        0  \n",
       "50559        0        0  \n",
       "50560        0        0  \n",
       "50561        0        0  \n",
       "\n",
       "[50562 rows x 21 columns]"
      ]
     },
     "execution_count": 6,
     "metadata": {},
     "output_type": "execute_result"
    }
   ],
   "source": [
    "df_naif=pd.DataFrame(columns=l)\n",
    "n=df.shape[0]\n",
    "for label in l: \n",
    "  if label!='rock':\n",
    "    df_naif[label]=np.zeros(n, dtype=int)\n",
    "  else :\n",
    "    df_naif[label]=np.zeros(n, dtype=int)+1\n",
    "df_naif"
   ]
  },
  {
   "cell_type": "code",
   "execution_count": 7,
   "metadata": {
    "id": "6jRTgXj5-2bH"
   },
   "outputs": [],
   "source": [
    "y_pred = df_naif.values\n",
    "y_true = df[l].values"
   ]
  },
  {
   "cell_type": "code",
   "execution_count": 8,
   "metadata": {},
   "outputs": [],
   "source": [
    "r=all_metrics(y_true,y_pred)"
   ]
  },
  {
   "cell_type": "code",
   "execution_count": 9,
   "metadata": {},
   "outputs": [],
   "source": [
    "final_res.loc['Top Genre']=r"
   ]
  },
  {
   "cell_type": "code",
   "execution_count": 10,
   "metadata": {},
   "outputs": [
    {
     "data": {
      "text/html": [
       "<div>\n",
       "<style scoped>\n",
       "    .dataframe tbody tr th:only-of-type {\n",
       "        vertical-align: middle;\n",
       "    }\n",
       "\n",
       "    .dataframe tbody tr th {\n",
       "        vertical-align: top;\n",
       "    }\n",
       "\n",
       "    .dataframe thead th {\n",
       "        text-align: right;\n",
       "    }\n",
       "</style>\n",
       "<table border=\"1\" class=\"dataframe\">\n",
       "  <thead>\n",
       "    <tr style=\"text-align: right;\">\n",
       "      <th></th>\n",
       "      <th>Accuracy</th>\n",
       "      <th>Precision micro</th>\n",
       "      <th>Recall micro</th>\n",
       "      <th>F1 score micro</th>\n",
       "      <th>Hamming-Loss</th>\n",
       "    </tr>\n",
       "  </thead>\n",
       "  <tbody>\n",
       "    <tr>\n",
       "      <th>Top Genre</th>\n",
       "      <td>0.107749</td>\n",
       "      <td>0.161782</td>\n",
       "      <td>0.13756</td>\n",
       "      <td>0.148691</td>\n",
       "      <td>0.088215</td>\n",
       "    </tr>\n",
       "  </tbody>\n",
       "</table>\n",
       "</div>"
      ],
      "text/plain": [
       "           Accuracy  Precision micro  Recall micro  F1 score micro  \\\n",
       "Top Genre  0.107749         0.161782       0.13756        0.148691   \n",
       "\n",
       "           Hamming-Loss  \n",
       "Top Genre      0.088215  "
      ]
     },
     "execution_count": 10,
     "metadata": {},
     "output_type": "execute_result"
    }
   ],
   "source": [
    "final_res"
   ]
  },
  {
   "cell_type": "markdown",
   "metadata": {
    "id": "KU_K-Lzj8qof",
    "tags": []
   },
   "source": [
    "# Méthode 2: L régressions logistiques unilabel\n"
   ]
  },
  {
   "cell_type": "markdown",
   "metadata": {},
   "source": [
    "## Sans sélection de variable (pénalisation Lasso) : AUDIO FEATURES ONLY"
   ]
  },
  {
   "cell_type": "markdown",
   "metadata": {},
   "source": [
    "### Courbe ROC & AUC par label "
   ]
  },
  {
   "cell_type": "code",
   "execution_count": 11,
   "metadata": {},
   "outputs": [
    {
     "data": {
      "text/plain": [
       "<Figure size 432x288 with 0 Axes>"
      ]
     },
     "metadata": {},
     "output_type": "display_data"
    }
   ],
   "source": [
    "df_hat=pd.DataFrame()\n",
    "df_test=pd.DataFrame()\n",
    "n=len(l)\n",
    "i=0\n",
    "auc_labels=[]\n",
    "for label in l:\n",
    "    X_train,X_test,Y_train,Y_test = train_test_split(X,Y[:,i],test_size=0.3, random_state=5)\n",
    "    logreg = LogisticRegression(max_iter=10000)\n",
    "    filename= '../multi-label-classification/joblib_LR_audio_only/'+label\n",
    "    logreg = load_fit(logreg,X_train,Y_train,filename)\n",
    "    y_hat = logreg.predict(X_test)\n",
    "    df_hat[label] = y_hat\n",
    "    df_test[label]=Y_test\n",
    "    title='ROC curve ' + label + ' unilabel Logistic Regression'\n",
    "    name_fig='../multi-label-classification/ROC_LR_audio_only/'+label\n",
    "    AUC= plot_roc_curve(Y_test, y_hat, title=title, name_fig=name_fig,save=True)\n",
    "    auc_labels.append(AUC)\n",
    "    i+=1\n"
   ]
  },
  {
   "cell_type": "code",
   "execution_count": 12,
   "metadata": {},
   "outputs": [
    {
     "data": {
      "image/png": "[encoded data removed]",
      "text/plain": [
       "<Figure size 432x288 with 1 Axes>"
      ]
     },
     "metadata": {
      "needs_background": "light"
     },
     "output_type": "display_data"
    }
   ],
   "source": [
    "name='../multi-label-classification/ROC_LR_audio_only/auc'\n",
    "graph_auc(auc_labels,'LR audio only',save=True,name_fig=name)"
   ]
  },
  {
   "cell_type": "markdown",
   "metadata": {},
   "source": [
    "### Matrices de confusion par label"
   ]
  },
  {
   "cell_type": "code",
   "execution_count": 13,
   "metadata": {},
   "outputs": [],
   "source": [
    "y_true=df_test.values\n",
    "y_pred=df_hat.values"
   ]
  },
  {
   "cell_type": "code",
   "execution_count": 14,
   "metadata": {},
   "outputs": [
    {
     "data": {
      "text/plain": [
       "<Figure size 432x288 with 0 Axes>"
      ]
     },
     "metadata": {},
     "output_type": "display_data"
    }
   ],
   "source": [
    "conf=multilabel_confusion_matrix(y_true,y_pred)\n",
    "i=0\n",
    "for cm in conf:\n",
    "    label=l[i]\n",
    "    name_fig= '../multi-label-classification/CM_LR_audio_only/'+label\n",
    "    plot_confusion_matrix(cm,title=label,classes=[label,'Others'],normalize=True,save=True,name_fig=name_fig)\n",
    "    i=i+1"
   ]
  },
  {
   "cell_type": "markdown",
   "metadata": {},
   "source": [
    "### Résultats: Union des prédictions --> Multilabels"
   ]
  },
  {
   "cell_type": "code",
   "execution_count": 15,
   "metadata": {},
   "outputs": [
    {
     "data": {
      "text/html": [
       "<div>\n",
       "<style scoped>\n",
       "    .dataframe tbody tr th:only-of-type {\n",
       "        vertical-align: middle;\n",
       "    }\n",
       "\n",
       "    .dataframe tbody tr th {\n",
       "        vertical-align: top;\n",
       "    }\n",
       "\n",
       "    .dataframe thead th {\n",
       "        text-align: right;\n",
       "    }\n",
       "</style>\n",
       "<table border=\"1\" class=\"dataframe\">\n",
       "  <thead>\n",
       "    <tr style=\"text-align: right;\">\n",
       "      <th></th>\n",
       "      <th>Accuracy</th>\n",
       "      <th>Precision micro</th>\n",
       "      <th>Recall micro</th>\n",
       "      <th>F1 score micro</th>\n",
       "      <th>Hamming-Loss</th>\n",
       "    </tr>\n",
       "  </thead>\n",
       "  <tbody>\n",
       "    <tr>\n",
       "      <th>Top Genre</th>\n",
       "      <td>0.107749</td>\n",
       "      <td>0.161782</td>\n",
       "      <td>0.137560</td>\n",
       "      <td>0.148691</td>\n",
       "      <td>0.088215</td>\n",
       "    </tr>\n",
       "    <tr>\n",
       "      <th>RL audio (seulement) &amp; sans pénalisation</th>\n",
       "      <td>0.360142</td>\n",
       "      <td>0.725285</td>\n",
       "      <td>0.431729</td>\n",
       "      <td>0.541267</td>\n",
       "      <td>0.040951</td>\n",
       "    </tr>\n",
       "  </tbody>\n",
       "</table>\n",
       "</div>"
      ],
      "text/plain": [
       "                                          Accuracy  Precision micro  \\\n",
       "Top Genre                                 0.107749         0.161782   \n",
       "RL audio (seulement) & sans pénalisation  0.360142         0.725285   \n",
       "\n",
       "                                          Recall micro  F1 score micro  \\\n",
       "Top Genre                                     0.137560        0.148691   \n",
       "RL audio (seulement) & sans pénalisation      0.431729        0.541267   \n",
       "\n",
       "                                          Hamming-Loss  \n",
       "Top Genre                                     0.088215  \n",
       "RL audio (seulement) & sans pénalisation      0.040951  "
      ]
     },
     "execution_count": 15,
     "metadata": {},
     "output_type": "execute_result"
    }
   ],
   "source": [
    "r=all_metrics(y_true,y_pred)\n",
    "final_res.loc['RL audio (seulement) & sans pénalisation']=r\n",
    "final_res"
   ]
  },
  {
   "cell_type": "markdown",
   "metadata": {},
   "source": [
    "## AVEC sélection de variable : Lasso"
   ]
  },
  {
   "cell_type": "markdown",
   "metadata": {},
   "source": [
    "Ici il s'agira d'appliquer un critère de pénalisation à la méthode Régression Logistique dans le but de sélectionner des variables, nous choisissons de faire le tuning de l'hyperparamètre pour chaque RL (chaque label). \n",
    "Nous comparons 2 résultats: \n",
    "- audio features uniquement \n",
    "- les deux "
   ]
  },
  {
   "cell_type": "markdown",
   "metadata": {},
   "source": [
    "L'argorithme utilisé pour faire l'optimisation de l'hyperparamètre C de la fonction LogisticRegression est  `GridSearchCV(estimator,parameters,cv)`: algorithme récursif qui va comparer en stratifiant l'échantillon train en `cv` parties, l'accuracy `cv`fois. \n",
    "La fonction `LogisticRegression` va prendre le paramètre `penalty=l1 `pour faire une sélection Lasso ie sélectionner des variables, l'algorithme de résolution est `saga` c'est une descente de gradient, plus rapide pour leslarges sets de données comme cecui ci, néanmoins très couteux en mémoire et en temps tout de même, nous choisissons le solver `liblinear`moins précis\n"
   ]
  },
  {
   "cell_type": "markdown",
   "metadata": {},
   "source": [
    "### AUDIO FEATURES ONLY"
   ]
  },
  {
   "cell_type": "markdown",
   "metadata": {},
   "source": [
    "##### ROC"
   ]
  },
  {
   "cell_type": "code",
   "execution_count": 16,
   "metadata": {},
   "outputs": [],
   "source": [
    "from sklearn.model_selection import GridSearchCV"
   ]
  },
  {
   "cell_type": "code",
   "execution_count": 17,
   "metadata": {},
   "outputs": [
    {
     "data": {
      "text/plain": [
       "<Figure size 432x288 with 0 Axes>"
      ]
     },
     "metadata": {},
     "output_type": "display_data"
    }
   ],
   "source": [
    "df_hat=pd.DataFrame()\n",
    "df_test=pd.DataFrame()\n",
    "i=0\n",
    "nb_feature_selected=[]\n",
    "auc_labels=[]\n",
    "for label in l:\n",
    "    X_train,X_test,Y_train,Y_test = train_test_split(X,Y[:,i],test_size=0.3, random_state=5)\n",
    "    logreg = LogisticRegression(penalty='l1',solver='liblinear',max_iter=5000)\n",
    "    parameters={'C':[1e-5,1e-4,1e-3,1e-2,1e-1,1]}\n",
    "    gs=GridSearchCV(logreg,parameters,cv=3,verbose=3)\n",
    "    filename='../multi-label-classification/joblib_LR_audio_only_penal/'+label\n",
    "    logreg = load_fit(gs,X_train,Y_train,filename) \n",
    "    temp=logreg.best_estimator_.coef_\n",
    "    n_label=(temp>0).sum()\n",
    "    nb_feature_selected.append(n_label)\n",
    "    y_hat= logreg.predict(X_test)\n",
    "    df_hat[label] = y_hat\n",
    "    df_test[label]=Y_test\n",
    "    name_fig= '../multi-label-classification/ROC_LR_audio_only_penal/'+label\n",
    "    AUC= plot_roc_curve(Y_test, y_hat, title=label, name_fig=name_fig,save=True)\n",
    "    auc_labels.append(AUC)\n",
    "    i+=1\n"
   ]
  },
  {
   "cell_type": "code",
   "execution_count": 18,
   "metadata": {},
   "outputs": [
    {
     "data": {
      "image/png": "[encoded data removed]",
      "text/plain": [
       "<Figure size 432x288 with 1 Axes>"
      ]
     },
     "metadata": {
      "needs_background": "light"
     },
     "output_type": "display_data"
    }
   ],
   "source": [
    "name='../multi-label-classification/ROC_LR_audio_only_penal/AUC'\n",
    "graph_auc(auc_labels,'RL audio seulement,pénalisation',save=True,name_fig=name)"
   ]
  },
  {
   "cell_type": "markdown",
   "metadata": {},
   "source": [
    "##### Matrices de confusion"
   ]
  },
  {
   "cell_type": "code",
   "execution_count": 19,
   "metadata": {},
   "outputs": [
    {
     "data": {
      "text/plain": [
       "<Figure size 432x288 with 0 Axes>"
      ]
     },
     "metadata": {},
     "output_type": "display_data"
    }
   ],
   "source": [
    "y_true=df_test.values\n",
    "y_pred=df_hat.values\n",
    "conf=multilabel_confusion_matrix(y_true,y_pred)\n",
    "i=0\n",
    "for cm in conf:\n",
    "    label=l[i]\n",
    "    name_fig= '../multi-label-classification/CM_LR_audio_only_penal/'+label\n",
    "    plot_confusion_matrix(cm,title=label,classes=[label,'Others'],normalize=True,save=True,name_fig=name_fig)\n",
    "    i=i+1"
   ]
  },
  {
   "cell_type": "markdown",
   "metadata": {
    "tags": []
   },
   "source": [
    "##### Résultats"
   ]
  },
  {
   "cell_type": "code",
   "execution_count": 20,
   "metadata": {},
   "outputs": [],
   "source": [
    "r=all_metrics(y_true,y_pred)\n",
    "final_res.loc['RL audio (seulement)& pénalisation (optimisée)']=r"
   ]
  },
  {
   "cell_type": "markdown",
   "metadata": {},
   "source": [
    "### AUDIO & USAGE"
   ]
  },
  {
   "cell_type": "code",
   "execution_count": 21,
   "metadata": {},
   "outputs": [],
   "source": [
    "X,Y=extract_values_array(df,p=1,normalize=True,usage=True)"
   ]
  },
  {
   "cell_type": "markdown",
   "metadata": {},
   "source": [
    "##### ROC"
   ]
  },
  {
   "cell_type": "code",
   "execution_count": 45,
   "metadata": {},
   "outputs": [],
   "source": [
    "def count_audio_usage(z):\n",
    "    audio=0\n",
    "    usage=0\n",
    "    n=len(z) # n'a de sens que si n=384=256+128\n",
    "    for i in range (len(z)):\n",
    "        if z[i]>0 and i<256:\n",
    "            audio+=1\n",
    "        if z[i]>0 and i>255: \n",
    "            usage+=1\n",
    "    return(audio,usage)"
   ]
  },
  {
   "cell_type": "code",
   "execution_count": 111,
   "metadata": {},
   "outputs": [
    {
     "data": {
      "text/plain": [
       "<Figure size 432x288 with 0 Axes>"
      ]
     },
     "metadata": {},
     "output_type": "display_data"
    }
   ],
   "source": [
    "df_hat=pd.DataFrame()\n",
    "df_test=pd.DataFrame()\n",
    "i=0\n",
    "n_features=[]\n",
    "n_audio=[]\n",
    "n_usage=[]\n",
    "auc_labels=[]\n",
    "for label in l:\n",
    "    X_train,X_test,Y_train,Y_test = train_test_split(X,Y[:,i],test_size=0.3, random_state=5)\n",
    "    logreg = LogisticRegression(penalty='l1',solver='liblinear',max_iter=5000)\n",
    "    parameters={'C':[1e-5,1e-4,1e-3,1e-2,1e-1,1]}\n",
    "    gs=GridSearchCV(logreg,parameters,cv=3,verbose=3)\n",
    "    filename='../multi-label-classification/joblib_LR_audio_usage_penal/'+label\n",
    "    logreg = load_fit(gs,X_train,Y_train,filename) \n",
    "    temp=logreg.best_estimator_.coef_[0]\n",
    "    n_label=(temp>0).sum()\n",
    "    n_label_a,n_label_u=count_audio_usage(temp)\n",
    "    n_audio.append(n_label_a)\n",
    "    n_usage.append(n_label_u)\n",
    "    n_features.append(n_label)\n",
    "    y_hat= logreg.predict(X_test)\n",
    "    df_hat[label] = y_hat\n",
    "    df_test[label]=Y_test\n",
    "    name_fig= '../multi-label-classification/ROC_LR_audio_usage_penal/'+label\n",
    "    AUC= plot_roc_curve(Y_test, y_hat, title=label, name_fig=name_fig,save=True)\n",
    "    auc_labels.append(AUC)\n",
    "    i+=1\n"
   ]
  },
  {
   "cell_type": "code",
   "execution_count": 112,
   "metadata": {},
   "outputs": [
    {
     "data": {
      "image/png": "[encoded data removed]",
      "text/plain": [
       "<Figure size 432x288 with 1 Axes>"
      ]
     },
     "metadata": {
      "needs_background": "light"
     },
     "output_type": "display_data"
    }
   ],
   "source": [
    "name='../multi-label-classification/ROC_LR_audio_usage_penal/AUC'\n",
    "graph_auc(auc_labels,'RL audio & usage, pénalisation',save=True,name_fig=name)"
   ]
  },
  {
   "cell_type": "markdown",
   "metadata": {},
   "source": [
    "##### Étude des variables séléctionnées:"
   ]
  },
  {
   "cell_type": "code",
   "execution_count": 113,
   "metadata": {},
   "outputs": [],
   "source": [
    "i=0\n",
    "for i in range (21): \n",
    "    n_audio[i]=(n_audio[i]/n_features[i])*100\n",
    "    n_usage[i]=(n_usage[i]/n_features[i])*100"
   ]
  },
  {
   "cell_type": "code",
   "execution_count": 114,
   "metadata": {},
   "outputs": [],
   "source": [
    "selected_audio_usage=pd.DataFrame(columns=['Nombre de variables sélectionnées sur 384', \"Pourcentage de variables audio\" , \"Pourcentage de variables usage\"])"
   ]
  },
  {
   "cell_type": "code",
   "execution_count": 115,
   "metadata": {},
   "outputs": [],
   "source": [
    "for i in range (21):\n",
    "    label=l[i]\n",
    "    selected_audio_usage.loc[label]=[n_features[i],n_audio[i],n_usage[i]]"
   ]
  },
  {
   "cell_type": "code",
   "execution_count": 116,
   "metadata": {},
   "outputs": [],
   "source": [
    "m=mean(n_features)\n",
    "ma=mean(n_audio)\n",
    "mu=mean(n_usage)\n",
    "selected_audio_usage.loc['Moyenne sur tous les Labels']=[m,ma,mu]"
   ]
  },
  {
   "cell_type": "code",
   "execution_count": 119,
   "metadata": {},
   "outputs": [],
   "source": [
    "selected_audio_usage.to_csv('Résultats_sélection_de_variables_RL_audio+usage.csv')"
   ]
  },
  {
   "cell_type": "markdown",
   "metadata": {},
   "source": [
    "##### Matrice de confusion"
   ]
  },
  {
   "cell_type": "code",
   "execution_count": null,
   "metadata": {},
   "outputs": [],
   "source": [
    "y_true=df_test.values\n",
    "y_pred=df_hat.values\n",
    "conf=multilabel_confusion_matrix(y_true,y_pred)\n",
    "i=0\n",
    "for cm in conf:\n",
    "    label=l[i]\n",
    "    name_fig= '../multi-label-classification/CM_LR_audio_usage_penal/'+label\n",
    "    plot_confusion_matrix(cm,title=label,classes=[label,'Others'],normalize=True,save=True,name_fig=name_fig)\n",
    "    i=i+1"
   ]
  },
  {
   "cell_type": "markdown",
   "metadata": {},
   "source": [
    "##### Résultats"
   ]
  },
  {
   "cell_type": "code",
   "execution_count": null,
   "metadata": {},
   "outputs": [],
   "source": [
    "r=all_metrics(y_true,y_pred)\n",
    "final_res.loc['RL audio-usage & pénalisation (optimisée)']=r"
   ]
  },
  {
   "cell_type": "code",
   "execution_count": null,
   "metadata": {},
   "outputs": [],
   "source": [
    "final_res\n"
   ]
  },
  {
   "cell_type": "code",
   "execution_count": null,
   "metadata": {},
   "outputs": [],
   "source": [
    "final_res.to_csv('Résultats_RL.csv')"
   ]
  },
  {
   "cell_type": "markdown",
   "metadata": {
    "tags": []
   },
   "source": [
    "# QUESTIONS + RESTE A FR"
   ]
  },
  {
   "cell_type": "markdown",
   "metadata": {},
   "source": [
    "- doit on mettre 'balanced' pour ne pas prendre en compte la faible occurence du label le moins représenté par ex et inversemment  ne pas prédire à tord trop de rock car label le plus représenté??? \n",
    "\n"
   ]
  },
  {
   "cell_type": "code",
   "execution_count": null,
   "metadata": {},
   "outputs": [],
   "source": []
  }
 ],
 "metadata": {
  "colab": {
   "collapsed_sections": [],
   "name": "metrics_models",
   "provenance": []
  },
  "kernelspec": {
   "display_name": "Python 3 (ipykernel)",
   "language": "python",
   "name": "python3"
  },
  "language_info": {
   "codemirror_mode": {
    "name": "ipython",
    "version": 3
   },
   "file_extension": ".py",
   "mimetype": "text/x-python",
   "name": "python",
   "nbconvert_exporter": "python",
   "pygments_lexer": "ipython3",
   "version": "3.9.7"
  }
 },
 "nbformat": 4,
 "nbformat_minor": 4
}
